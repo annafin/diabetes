{
 "cells": [
  {
   "cell_type": "markdown",
   "metadata": {},
   "source": [
    "# General Overview - Machine Learning"
   ]
  },
  {
   "cell_type": "markdown",
   "metadata": {},
   "source": [
    "For this binary classification problem, we are using Logistic Regression, Decision Tree Classifier, Random Forest Classifier, and Gradient Boosting Classifier, Gaussian Naive Bayes. To assess the accuracy, we look at the accuracy scores and classification reports."
   ]
  },
  {
   "cell_type": "code",
   "execution_count": 1,
   "metadata": {},
   "outputs": [
    {
     "name": "stderr",
     "output_type": "stream",
     "text": [
      "/Users/annatang/anaconda3/lib/python3.7/site-packages/statsmodels/tools/_testing.py:19: FutureWarning: pandas.util.testing is deprecated. Use the functions in the public API at pandas.testing instead.\n",
      "  import pandas.util.testing as tm\n",
      "Using TensorFlow backend.\n"
     ]
    }
   ],
   "source": [
    "import numpy as np\n",
    "import pandas as pd\n",
    "import matplotlib.pyplot as plt\n",
    "import sklearn\n",
    "from sklearn import datasets\n",
    "from sklearn import metrics\n",
    "import seaborn as sns\n",
    "from collections import Counter\n",
    "\n",
    "from sklearn.model_selection import (cross_val_score, GridSearchCV, train_test_split, KFold)\n",
    "from sklearn.metrics import (classification_report, confusion_matrix, plot_precision_recall_curve, precision_recall_curve)\n",
    "\n",
    "from sklearn.linear_model import LogisticRegression\n",
    "from sklearn.tree import DecisionTreeClassifier\n",
    "from sklearn.ensemble import (RandomForestClassifier, GradientBoostingClassifier)\n",
    "from sklearn.naive_bayes import GaussianNB\n",
    "from sklearn.svm import SVC\n",
    "from sklearn.decomposition import PCA\n",
    "\n",
    "import imblearn\n",
    "from imblearn.under_sampling import (RandomUnderSampler, EditedNearestNeighbours, NearMiss)"
   ]
  },
  {
   "cell_type": "code",
   "execution_count": 2,
   "metadata": {},
   "outputs": [],
   "source": [
    "np.random.seed(42)"
   ]
  },
  {
   "cell_type": "code",
   "execution_count": 3,
   "metadata": {},
   "outputs": [],
   "source": [
    "data = pd.read_csv('diabetes_ml_scale.csv', index_col=0) # import data\n",
    "diabetes = data.copy() # save a copy of data as diabetes"
   ]
  },
  {
   "cell_type": "code",
   "execution_count": 4,
   "metadata": {},
   "outputs": [
    {
     "name": "stdout",
     "output_type": "stream",
     "text": [
      "<class 'pandas.core.frame.DataFrame'>\n",
      "Int64Index: 64360 entries, 0 to 64359\n",
      "Data columns (total 64 columns):\n",
      " #   Column                Non-Null Count  Dtype  \n",
      "---  ------                --------------  -----  \n",
      " 0   gender                64360 non-null  int64  \n",
      " 1   diabetesMed           64360 non-null  int64  \n",
      " 2   time_in_hospital      64360 non-null  float64\n",
      " 3   num_lab_procedures    64360 non-null  float64\n",
      " 4   num_procedures        64360 non-null  float64\n",
      " 5   num_medications       64360 non-null  float64\n",
      " 6   num_outpatient        64360 non-null  float64\n",
      " 7   num_inpatient         64360 non-null  float64\n",
      " 8   num_diagnoses         64360 non-null  float64\n",
      " 9   change                64360 non-null  int64  \n",
      " 10  AfricanAmerican       64360 non-null  int64  \n",
      " 11  Asian                 64360 non-null  int64  \n",
      " 12  Caucasian             64360 non-null  int64  \n",
      " 13  Hispanic              64360 non-null  int64  \n",
      " 14  Other_race            64360 non-null  int64  \n",
      " 15  [0-10)                64360 non-null  int64  \n",
      " 16  [10-20)               64360 non-null  int64  \n",
      " 17  [20-30)               64360 non-null  int64  \n",
      " 18  [30-40)               64360 non-null  int64  \n",
      " 19  [40-50)               64360 non-null  int64  \n",
      " 20  [50-60)               64360 non-null  int64  \n",
      " 21  [60-70)               64360 non-null  int64  \n",
      " 22  [70-80)               64360 non-null  int64  \n",
      " 23  [80-90)               64360 non-null  int64  \n",
      " 24  [90-100)              64360 non-null  int64  \n",
      " 25  Circulatory_1         64360 non-null  int64  \n",
      " 26  Diabetes_1            64360 non-null  int64  \n",
      " 27  Digestive_1           64360 non-null  int64  \n",
      " 28  Genitourinary_1       64360 non-null  int64  \n",
      " 29  Injury_1              64360 non-null  int64  \n",
      " 30  Musculoskeletal_1     64360 non-null  int64  \n",
      " 31  Neoplasms_1           64360 non-null  int64  \n",
      " 32  Other_1               64360 non-null  int64  \n",
      " 33  Respiratory_1         64360 non-null  int64  \n",
      " 34  >200                  64360 non-null  int64  \n",
      " 35  >300                  64360 non-null  int64  \n",
      " 36  None_glu              64360 non-null  int64  \n",
      " 37  Norm_glu              64360 non-null  int64  \n",
      " 38  >7                    64360 non-null  int64  \n",
      " 39  >8                    64360 non-null  int64  \n",
      " 40  None_a1c              64360 non-null  int64  \n",
      " 41  Norm_a1c              64360 non-null  int64  \n",
      " 42  Down_metformin        64360 non-null  int64  \n",
      " 43  Steady_metformin      64360 non-null  int64  \n",
      " 44  Up_metformin          64360 non-null  int64  \n",
      " 45  Down_repaglinide      64360 non-null  int64  \n",
      " 46  Steady_repaglinide    64360 non-null  int64  \n",
      " 47  Up_repaglinide        64360 non-null  int64  \n",
      " 48  Steady_acarbose       64360 non-null  int64  \n",
      " 49  Up_acarbose           64360 non-null  int64  \n",
      " 50  Down_glipizide        64360 non-null  int64  \n",
      " 51  Steady_glipizide      64360 non-null  int64  \n",
      " 52  Up_glipizide          64360 non-null  int64  \n",
      " 53  Down_pioglitazone     64360 non-null  int64  \n",
      " 54  Steady_pioglitazone   64360 non-null  int64  \n",
      " 55  Up_pioglitazone       64360 non-null  int64  \n",
      " 56  Down_rosiglitazone    64360 non-null  int64  \n",
      " 57  Steady_rosiglitazone  64360 non-null  int64  \n",
      " 58  Up_rosiglitazone      64360 non-null  int64  \n",
      " 59  Down_insulin          64360 non-null  int64  \n",
      " 60  No_insulin            64360 non-null  int64  \n",
      " 61  Steady_insulin        64360 non-null  int64  \n",
      " 62  Up_insulin            64360 non-null  int64  \n",
      " 63  readmitted            64360 non-null  object \n",
      "dtypes: float64(7), int64(56), object(1)\n",
      "memory usage: 31.9+ MB\n"
     ]
    }
   ],
   "source": [
    "diabetes.info()"
   ]
  },
  {
   "cell_type": "code",
   "execution_count": 5,
   "metadata": {},
   "outputs": [
    {
     "data": {
      "text/html": [
       "<div>\n",
       "<style scoped>\n",
       "    .dataframe tbody tr th:only-of-type {\n",
       "        vertical-align: middle;\n",
       "    }\n",
       "\n",
       "    .dataframe tbody tr th {\n",
       "        vertical-align: top;\n",
       "    }\n",
       "\n",
       "    .dataframe thead th {\n",
       "        text-align: right;\n",
       "    }\n",
       "</style>\n",
       "<table border=\"1\" class=\"dataframe\">\n",
       "  <thead>\n",
       "    <tr style=\"text-align: right;\">\n",
       "      <th></th>\n",
       "      <th>gender</th>\n",
       "      <th>diabetesMed</th>\n",
       "      <th>time_in_hospital</th>\n",
       "      <th>num_lab_procedures</th>\n",
       "      <th>num_procedures</th>\n",
       "      <th>num_medications</th>\n",
       "      <th>num_outpatient</th>\n",
       "      <th>num_inpatient</th>\n",
       "      <th>num_diagnoses</th>\n",
       "      <th>change</th>\n",
       "      <th>...</th>\n",
       "      <th>Steady_pioglitazone</th>\n",
       "      <th>Up_pioglitazone</th>\n",
       "      <th>Down_rosiglitazone</th>\n",
       "      <th>Steady_rosiglitazone</th>\n",
       "      <th>Up_rosiglitazone</th>\n",
       "      <th>Down_insulin</th>\n",
       "      <th>No_insulin</th>\n",
       "      <th>Steady_insulin</th>\n",
       "      <th>Up_insulin</th>\n",
       "      <th>readmitted</th>\n",
       "    </tr>\n",
       "  </thead>\n",
       "  <tbody>\n",
       "    <tr>\n",
       "      <th>0</th>\n",
       "      <td>1</td>\n",
       "      <td>1</td>\n",
       "      <td>0.166667</td>\n",
       "      <td>0.568627</td>\n",
       "      <td>0.000000</td>\n",
       "      <td>0.435897</td>\n",
       "      <td>0.000000</td>\n",
       "      <td>0.0</td>\n",
       "      <td>0.636364</td>\n",
       "      <td>1</td>\n",
       "      <td>...</td>\n",
       "      <td>0</td>\n",
       "      <td>0</td>\n",
       "      <td>0</td>\n",
       "      <td>0</td>\n",
       "      <td>0</td>\n",
       "      <td>0</td>\n",
       "      <td>0</td>\n",
       "      <td>0</td>\n",
       "      <td>1</td>\n",
       "      <td>YES</td>\n",
       "    </tr>\n",
       "    <tr>\n",
       "      <th>1</th>\n",
       "      <td>1</td>\n",
       "      <td>1</td>\n",
       "      <td>0.083333</td>\n",
       "      <td>0.098039</td>\n",
       "      <td>0.833333</td>\n",
       "      <td>0.307692</td>\n",
       "      <td>0.666667</td>\n",
       "      <td>0.5</td>\n",
       "      <td>0.363636</td>\n",
       "      <td>0</td>\n",
       "      <td>...</td>\n",
       "      <td>0</td>\n",
       "      <td>0</td>\n",
       "      <td>0</td>\n",
       "      <td>0</td>\n",
       "      <td>0</td>\n",
       "      <td>0</td>\n",
       "      <td>1</td>\n",
       "      <td>0</td>\n",
       "      <td>0</td>\n",
       "      <td>NO</td>\n",
       "    </tr>\n",
       "    <tr>\n",
       "      <th>2</th>\n",
       "      <td>0</td>\n",
       "      <td>1</td>\n",
       "      <td>0.083333</td>\n",
       "      <td>0.421569</td>\n",
       "      <td>0.166667</td>\n",
       "      <td>0.384615</td>\n",
       "      <td>0.000000</td>\n",
       "      <td>0.0</td>\n",
       "      <td>0.454545</td>\n",
       "      <td>1</td>\n",
       "      <td>...</td>\n",
       "      <td>0</td>\n",
       "      <td>0</td>\n",
       "      <td>0</td>\n",
       "      <td>0</td>\n",
       "      <td>0</td>\n",
       "      <td>0</td>\n",
       "      <td>0</td>\n",
       "      <td>0</td>\n",
       "      <td>1</td>\n",
       "      <td>NO</td>\n",
       "    </tr>\n",
       "    <tr>\n",
       "      <th>3</th>\n",
       "      <td>0</td>\n",
       "      <td>1</td>\n",
       "      <td>0.000000</td>\n",
       "      <td>0.490196</td>\n",
       "      <td>0.000000</td>\n",
       "      <td>0.179487</td>\n",
       "      <td>0.000000</td>\n",
       "      <td>0.0</td>\n",
       "      <td>0.272727</td>\n",
       "      <td>1</td>\n",
       "      <td>...</td>\n",
       "      <td>0</td>\n",
       "      <td>0</td>\n",
       "      <td>0</td>\n",
       "      <td>0</td>\n",
       "      <td>0</td>\n",
       "      <td>0</td>\n",
       "      <td>0</td>\n",
       "      <td>1</td>\n",
       "      <td>0</td>\n",
       "      <td>NO</td>\n",
       "    </tr>\n",
       "    <tr>\n",
       "      <th>4</th>\n",
       "      <td>0</td>\n",
       "      <td>1</td>\n",
       "      <td>0.166667</td>\n",
       "      <td>0.294118</td>\n",
       "      <td>1.000000</td>\n",
       "      <td>0.384615</td>\n",
       "      <td>0.000000</td>\n",
       "      <td>0.0</td>\n",
       "      <td>0.636364</td>\n",
       "      <td>0</td>\n",
       "      <td>...</td>\n",
       "      <td>0</td>\n",
       "      <td>0</td>\n",
       "      <td>0</td>\n",
       "      <td>0</td>\n",
       "      <td>0</td>\n",
       "      <td>0</td>\n",
       "      <td>0</td>\n",
       "      <td>1</td>\n",
       "      <td>0</td>\n",
       "      <td>YES</td>\n",
       "    </tr>\n",
       "  </tbody>\n",
       "</table>\n",
       "<p>5 rows × 64 columns</p>\n",
       "</div>"
      ],
      "text/plain": [
       "   gender  diabetesMed  time_in_hospital  num_lab_procedures  num_procedures  \\\n",
       "0       1            1          0.166667            0.568627        0.000000   \n",
       "1       1            1          0.083333            0.098039        0.833333   \n",
       "2       0            1          0.083333            0.421569        0.166667   \n",
       "3       0            1          0.000000            0.490196        0.000000   \n",
       "4       0            1          0.166667            0.294118        1.000000   \n",
       "\n",
       "   num_medications  num_outpatient  num_inpatient  num_diagnoses  change  ...  \\\n",
       "0         0.435897        0.000000            0.0       0.636364       1  ...   \n",
       "1         0.307692        0.666667            0.5       0.363636       0  ...   \n",
       "2         0.384615        0.000000            0.0       0.454545       1  ...   \n",
       "3         0.179487        0.000000            0.0       0.272727       1  ...   \n",
       "4         0.384615        0.000000            0.0       0.636364       0  ...   \n",
       "\n",
       "   Steady_pioglitazone  Up_pioglitazone  Down_rosiglitazone  \\\n",
       "0                    0                0                   0   \n",
       "1                    0                0                   0   \n",
       "2                    0                0                   0   \n",
       "3                    0                0                   0   \n",
       "4                    0                0                   0   \n",
       "\n",
       "   Steady_rosiglitazone  Up_rosiglitazone  Down_insulin  No_insulin  \\\n",
       "0                     0                 0             0           0   \n",
       "1                     0                 0             0           1   \n",
       "2                     0                 0             0           0   \n",
       "3                     0                 0             0           0   \n",
       "4                     0                 0             0           0   \n",
       "\n",
       "   Steady_insulin  Up_insulin  readmitted  \n",
       "0               0           1         YES  \n",
       "1               0           0          NO  \n",
       "2               0           1          NO  \n",
       "3               1           0          NO  \n",
       "4               1           0         YES  \n",
       "\n",
       "[5 rows x 64 columns]"
      ]
     },
     "execution_count": 5,
     "metadata": {},
     "output_type": "execute_result"
    }
   ],
   "source": [
    "diabetes.head()"
   ]
  },
  {
   "cell_type": "code",
   "execution_count": 6,
   "metadata": {},
   "outputs": [],
   "source": [
    "# # precision recall curve - archived\n",
    "# def precision_recall_curve(model):\n",
    "#     plot_precision_recall_curve(model, X_test, y_test)\n",
    "#     plt.show()"
   ]
  },
  {
   "cell_type": "markdown",
   "metadata": {},
   "source": [
    "## separate features and target variable"
   ]
  },
  {
   "cell_type": "code",
   "execution_count": 7,
   "metadata": {},
   "outputs": [],
   "source": [
    "y = diabetes['readmitted'].values # target variable\n",
    "X = diabetes.drop('readmitted', axis=1).values # features"
   ]
  },
  {
   "cell_type": "markdown",
   "metadata": {},
   "source": [
    "## initializing PCA"
   ]
  },
  {
   "cell_type": "markdown",
   "metadata": {},
   "source": [
    "After converting the dataset to all numerical features, the table took on a large number of columns. In order to reduce dimensionality, we are using Principal Component Analysis, or PCA, on our feature variables. This makes the data easier to interpret by reducing superfluous influences."
   ]
  },
  {
   "cell_type": "code",
   "execution_count": 8,
   "metadata": {},
   "outputs": [
    {
     "name": "stdout",
     "output_type": "stream",
     "text": [
      "Explained variance ratio : \n",
      "[1.26892257e-01 7.31223602e-02 6.17734712e-02 6.08983118e-02\n",
      " 5.49778184e-02 5.11779819e-02 4.66325535e-02 4.26361140e-02\n",
      " 3.90225809e-02 3.54127389e-02 3.46552713e-02 2.62549147e-02\n",
      " 2.41814494e-02 2.28730260e-02 2.14368018e-02 2.06446811e-02\n",
      " 1.88580270e-02 1.77557944e-02 1.59202279e-02 1.49032415e-02\n",
      " 1.42871412e-02 1.41350728e-02 1.39895054e-02 1.34459978e-02\n",
      " 1.21426627e-02 1.13463475e-02 9.97516799e-03 9.63986704e-03\n",
      " 8.84150073e-03 8.62847585e-03 8.22213194e-03 7.74910879e-03\n",
      " 7.00806550e-03 6.47265596e-03 5.74134473e-03 5.51075417e-03\n",
      " 4.23580649e-03 3.89193144e-03 3.61808967e-03 3.45611070e-03\n",
      " 2.56913277e-03 2.53425851e-03 2.36888395e-03 1.91602574e-03\n",
      " 1.68500899e-03 1.51504575e-03 1.25397669e-03 1.06998969e-03\n",
      " 5.64762291e-04 5.46049954e-04 4.08321716e-04 4.07088848e-04\n",
      " 2.40907048e-04 2.23050360e-04 2.06119368e-04 8.95318087e-05\n",
      " 3.44850323e-05 3.46867952e-32 1.21786656e-32 6.79371339e-33\n",
      " 2.26715626e-33 1.44538420e-33 1.30875407e-33]\n",
      "Number of components = 63\n"
     ]
    }
   ],
   "source": [
    "# reduce dimensionality using PCA\n",
    "pca = PCA(random_state=42)\n",
    "pca.fit(X)\n",
    "exp_variance = pca.explained_variance_ratio_\n",
    "\n",
    "print('Explained variance ratio : \\n{}'.format(pca.explained_variance_ratio_))\n",
    "print('Number of components = {}'.format(pca.n_components_))"
   ]
  },
  {
   "cell_type": "code",
   "execution_count": 9,
   "metadata": {},
   "outputs": [
    {
     "data": {
      "image/png": "[encoded data removed]",
      "text/plain": [
       "<Figure size 576x432 with 1 Axes>"
      ]
     },
     "metadata": {
      "needs_background": "light"
     },
     "output_type": "display_data"
    }
   ],
   "source": [
    "# plot the explained variance using a barplot\n",
    "fig, ax = plt.subplots(figsize=(8, 6))\n",
    "ax.bar(range(pca.n_components_), exp_variance)\n",
    "ax.set_xlabel('Principal Component #')\n",
    "plt.show()"
   ]
  },
  {
   "cell_type": "code",
   "execution_count": 10,
   "metadata": {},
   "outputs": [
    {
     "data": {
      "image/png": "[encoded data removed]",
      "text/plain": [
       "<Figure size 432x288 with 1 Axes>"
      ]
     },
     "metadata": {
      "needs_background": "light"
     },
     "output_type": "display_data"
    }
   ],
   "source": [
    "# calculate cumulative explained variance\n",
    "cum_exp_variance = np.cumsum(exp_variance)\n",
    "\n",
    "# plotting cumulative explained variance and draw a dashed line at 0.95, representing 95% of explained variance\n",
    "fig, ax = plt.subplots()\n",
    "ax.plot(cum_exp_variance)\n",
    "ax.axhline(y=0.95, linestyle='--')\n",
    "plt.show()"
   ]
  },
  {
   "cell_type": "code",
   "execution_count": 11,
   "metadata": {},
   "outputs": [],
   "source": [
    "# n_components where ~95% of variance is explainable\n",
    "n_components = 34\n",
    "\n",
    "# initialize PCA and project data onto components\n",
    "pca = PCA(n_components, random_state=42)\n",
    "pca.fit(X)\n",
    "pca_X = pca.transform(X)"
   ]
  },
  {
   "cell_type": "code",
   "execution_count": 12,
   "metadata": {},
   "outputs": [
    {
     "name": "stdout",
     "output_type": "stream",
     "text": [
      "(45052, 34) (45052,)\n",
      "(19308, 34) (19308,)\n"
     ]
    }
   ],
   "source": [
    "# train test split\n",
    "X_train, X_test, y_train, y_test = train_test_split(pca_X, y, test_size=0.3, random_state=42, stratify=y)\n",
    "\n",
    "print(X_train.shape, y_train.shape)\n",
    "print(X_test.shape, y_test.shape)"
   ]
  },
  {
   "cell_type": "markdown",
   "metadata": {},
   "source": [
    "### logistic regression"
   ]
  },
  {
   "cell_type": "code",
   "execution_count": 13,
   "metadata": {},
   "outputs": [
    {
     "name": "stdout",
     "output_type": "stream",
     "text": [
      "Fitting 5 folds for each of 5 candidates, totalling 25 fits\n"
     ]
    },
    {
     "name": "stderr",
     "output_type": "stream",
     "text": [
      "[Parallel(n_jobs=-1)]: Using backend LokyBackend with 8 concurrent workers.\n",
      "[Parallel(n_jobs=-1)]: Done  25 out of  25 | elapsed:   21.9s finished\n"
     ]
    },
    {
     "data": {
      "text/plain": [
       "{'C': 10}"
      ]
     },
     "execution_count": 13,
     "metadata": {},
     "output_type": "execute_result"
    }
   ],
   "source": [
    "# parameter tuning - C\n",
    "logreg = LogisticRegression(random_state=42)\n",
    "\n",
    "parameters = {'C': [0.001, 0.01, 0.1, 1, 10]}\n",
    "clf = GridSearchCV(logreg, parameters, cv=5, verbose=1, n_jobs=-1)\n",
    "clf.fit(pca_X, y).best_params_"
   ]
  },
  {
   "cell_type": "code",
   "execution_count": 14,
   "metadata": {},
   "outputs": [
    {
     "name": "stdout",
     "output_type": "stream",
     "text": [
      "Accuracy Score, Training Set:  0.6216150226405043\n",
      "Accuracy Score, Test Set:  0.621089703749741\n",
      "Classification Report \n",
      "\n",
      "               precision    recall  f1-score   support\n",
      "\n",
      "          NO       0.63      0.91      0.74     11713\n",
      "         YES       0.56      0.18      0.27      7595\n",
      "\n",
      "    accuracy                           0.62     19308\n",
      "   macro avg       0.59      0.54      0.51     19308\n",
      "weighted avg       0.60      0.62      0.56     19308\n",
      "\n"
     ]
    }
   ],
   "source": [
    "logreg = LogisticRegression(random_state=42, C=10)\n",
    "logreg.fit(X_train, y_train)\n",
    "logreg_pred = logreg.predict(X_test)\n",
    "\n",
    "# accuracy scores\n",
    "print('Accuracy Score, Training Set: ', logreg.score(X_train, y_train))\n",
    "print('Accuracy Score, Test Set: ', logreg.score(X_test, y_test))\n",
    "\n",
    "# classification report\n",
    "print('Classification Report \\n\\n {}'.format(classification_report(y_test, logreg_pred)))"
   ]
  },
  {
   "cell_type": "markdown",
   "metadata": {},
   "source": [
    "### decision tree classifier"
   ]
  },
  {
   "cell_type": "code",
   "execution_count": 15,
   "metadata": {},
   "outputs": [
    {
     "name": "stdout",
     "output_type": "stream",
     "text": [
      "Fitting 5 folds for each of 160 candidates, totalling 800 fits\n"
     ]
    },
    {
     "name": "stderr",
     "output_type": "stream",
     "text": [
      "[Parallel(n_jobs=-1)]: Using backend LokyBackend with 8 concurrent workers.\n",
      "[Parallel(n_jobs=-1)]: Done  34 tasks      | elapsed:    7.8s\n",
      "[Parallel(n_jobs=-1)]: Done 184 tasks      | elapsed:   37.5s\n",
      "[Parallel(n_jobs=-1)]: Done 434 tasks      | elapsed:  2.1min\n",
      "[Parallel(n_jobs=-1)]: Done 784 tasks      | elapsed:  5.0min\n",
      "[Parallel(n_jobs=-1)]: Done 800 out of 800 | elapsed:  5.1min finished\n"
     ]
    },
    {
     "data": {
      "text/plain": [
       "{'criterion': 'gini',\n",
       " 'max_depth': 5,\n",
       " 'min_samples_leaf': 6,\n",
       " 'min_samples_split': 2}"
      ]
     },
     "execution_count": 15,
     "metadata": {},
     "output_type": "execute_result"
    }
   ],
   "source": [
    "# hyperparameter tuning\n",
    "decision_tree = DecisionTreeClassifier(random_state=42)\n",
    "\n",
    "criterion = ['gini', 'entropy']\n",
    "max_depth = [2, 4, 5, 8, 10]\n",
    "min_samples_split = [2, 4, 8, 10]\n",
    "min_samples_leaf = [2, 4, 6, 8]\n",
    "\n",
    "parameters = dict(max_depth=max_depth, criterion=criterion, min_samples_split=min_samples_split, min_samples_leaf=min_samples_leaf)\n",
    "\n",
    "dt_gs = GridSearchCV(decision_tree, parameters, cv=5, verbose=1, n_jobs=-1)\n",
    "dt_gs.fit(pca_X, y).best_params_"
   ]
  },
  {
   "cell_type": "code",
   "execution_count": 16,
   "metadata": {},
   "outputs": [
    {
     "name": "stdout",
     "output_type": "stream",
     "text": [
      "Accuracy Score, Training Set: 0.6257213886175974\n",
      "Accuracy Score, Test Set: 0.617930391547545\n",
      "Classification Report \n",
      "\n",
      "               precision    recall  f1-score   support\n",
      "\n",
      "          NO       0.63      0.92      0.75     11713\n",
      "         YES       0.55      0.15      0.23      7595\n",
      "\n",
      "    accuracy                           0.62     19308\n",
      "   macro avg       0.59      0.54      0.49     19308\n",
      "weighted avg       0.60      0.62      0.54     19308\n",
      "\n"
     ]
    }
   ],
   "source": [
    "decision_tree = DecisionTreeClassifier(random_state=42, criterion='gini', max_depth=5, min_samples_leaf=6, min_samples_split=2)\n",
    "decision_tree.fit(X_train, y_train)\n",
    "decision_tree_pred = decision_tree.predict(X_test)\n",
    "\n",
    "# accuracy scores\n",
    "print('Accuracy Score, Training Set: {}'.format(decision_tree.score(X_train, y_train)))\n",
    "print('Accuracy Score, Test Set: {}'.format(decision_tree.score(X_test, y_test)))\n",
    "\n",
    "# classification report\n",
    "print('Classification Report \\n\\n {}'.format(classification_report(y_test, decision_tree_pred)))"
   ]
  },
  {
   "cell_type": "markdown",
   "metadata": {},
   "source": [
    "### random forest classifier"
   ]
  },
  {
   "cell_type": "code",
   "execution_count": 17,
   "metadata": {},
   "outputs": [],
   "source": [
    "# # parameter tuning - takes a long time to run\n",
    "# criterion = ['gini', 'entropy']\n",
    "# n_estimators = [100, 150, 200, 250]\n",
    "# max_depth = [10, 15, 20, 25]\n",
    "\n",
    "# parameters = dict(criterion=criterion, n_estimators=n_estimators, max_depth=max_depth)\n",
    "\n",
    "# forest = RandomForestClassifier(random_state=42)\n",
    "# forest_gs = GridSearchCV(forest, parameters, cv=5, verbose=1, n_jobs=-1)\n",
    "# forest_gs.fit(pca_X, y).best_params_"
   ]
  },
  {
   "cell_type": "code",
   "execution_count": 18,
   "metadata": {},
   "outputs": [
    {
     "name": "stdout",
     "output_type": "stream",
     "text": [
      "Accuracy Score, Training Set: 0.6677173044481932\n",
      "Accuracy Score, Test Set: 0.6203646157033355\n",
      "Classification Report \n",
      "\n",
      "               precision    recall  f1-score   support\n",
      "\n",
      "          NO       0.62      0.94      0.75     11713\n",
      "         YES       0.58      0.13      0.22      7595\n",
      "\n",
      "    accuracy                           0.62     19308\n",
      "   macro avg       0.60      0.53      0.48     19308\n",
      "weighted avg       0.61      0.62      0.54     19308\n",
      "\n"
     ]
    }
   ],
   "source": [
    "forest = RandomForestClassifier(random_state=42, criterion='entropy', max_depth=10, n_estimators=200)\n",
    "forest.fit(X_train, y_train)\n",
    "forest_pred = forest.predict(X_test)\n",
    "\n",
    "# accuracy scores\n",
    "print('Accuracy Score, Training Set:', forest.score(X_train, y_train))\n",
    "print('Accuracy Score, Test Set:', forest.score(X_test, y_test))\n",
    "\n",
    "# classification report\n",
    "print('Classification Report \\n\\n {}'.format(classification_report(y_test, forest_pred)))"
   ]
  },
  {
   "cell_type": "markdown",
   "metadata": {},
   "source": [
    "### SVC"
   ]
  },
  {
   "cell_type": "code",
   "execution_count": 19,
   "metadata": {},
   "outputs": [
    {
     "name": "stdout",
     "output_type": "stream",
     "text": [
      "Accuracy Score, Training Set: 0.6492497558376986\n",
      "Accuracy Score, Test Set: 0.619276983633727\n",
      "Classification Report \n",
      "\n",
      "               precision    recall  f1-score   support\n",
      "\n",
      "          NO       0.63      0.92      0.75     11713\n",
      "         YES       0.56      0.16      0.25      7595\n",
      "\n",
      "    accuracy                           0.62     19308\n",
      "   macro avg       0.59      0.54      0.50     19308\n",
      "weighted avg       0.60      0.62      0.55     19308\n",
      "\n"
     ]
    }
   ],
   "source": [
    "# SVC\n",
    "svc = SVC(random_state=42)\n",
    "svc.fit(X_train, y_train)\n",
    "svc_pred = svc.predict(X_test)\n",
    "\n",
    "# accuracy scores\n",
    "print('Accuracy Score, Training Set:', svc.score(X_train, y_train))\n",
    "print('Accuracy Score, Test Set:', svc.score(X_test, y_test))\n",
    "    \n",
    "# classification report\n",
    "print('Classification Report \\n\\n {}'.format(classification_report(y_test, svc_pred)))"
   ]
  },
  {
   "cell_type": "markdown",
   "metadata": {},
   "source": [
    "# Random Under Sampler"
   ]
  },
  {
   "cell_type": "markdown",
   "metadata": {},
   "source": [
    "The random under sampler method randomly (but not too random, we set the random state to 42 for consistent results) removes samples from the majority class until its size is equal to the minority class. We then train and test our models using this new set of data."
   ]
  },
  {
   "cell_type": "code",
   "execution_count": 20,
   "metadata": {},
   "outputs": [
    {
     "name": "stdout",
     "output_type": "stream",
     "text": [
      "Random undersampling Counter({'NO': 25318, 'YES': 25318})\n",
      "(35445, 34) (35445,)\n",
      "(15191, 34) (15191,)\n"
     ]
    }
   ],
   "source": [
    "# separate features and target variable\n",
    "y = diabetes['readmitted'].values # target variable\n",
    "X = diabetes.drop('readmitted', axis=1).values # features\n",
    "\n",
    "# initialize\n",
    "under_sampler = RandomUnderSampler(random_state=42)\n",
    "X_rus, y_rus = under_sampler.fit_sample(X, y)\n",
    "\n",
    "print('Random undersampling {}'.format(Counter(y_rus)))\n",
    "\n",
    "# perform PCA on features\n",
    "X_rus = pca.fit_transform(X_rus)\n",
    "\n",
    "# refine train, test, split\n",
    "X_train_rus, X_test_rus, y_train_rus, y_test_rus = train_test_split(X_rus, y_rus, test_size=0.3, random_state=42, stratify=y_rus)\n",
    "\n",
    "print(X_train_rus.shape, y_train_rus.shape)\n",
    "print(X_test_rus.shape, y_test_rus.shape)"
   ]
  },
  {
   "cell_type": "markdown",
   "metadata": {},
   "source": [
    "### logistic regression"
   ]
  },
  {
   "cell_type": "code",
   "execution_count": 21,
   "metadata": {},
   "outputs": [],
   "source": [
    "# # parameter tuning - C=0.001\n",
    "# logreg = LogisticRegression(random_state=42)\n",
    "\n",
    "# parameters = {'C': [0.001, 0.01, 0.1, 1, 10]}\n",
    "# clf = GridSearchCV(logreg, parameters, cv=5, verbose=1, n_jobs=-1)\n",
    "# clf.fit(X_rus, y_rus).best_params_"
   ]
  },
  {
   "cell_type": "code",
   "execution_count": 22,
   "metadata": {},
   "outputs": [
    {
     "name": "stdout",
     "output_type": "stream",
     "text": [
      "Accuracy Score, Training Set:  0.5741571448723374\n",
      "Accuracy Score, Test Set:  0.5719834112303338\n",
      "Classification Report \n",
      "\n",
      "               precision    recall  f1-score   support\n",
      "\n",
      "          NO       0.57      0.58      0.57      7596\n",
      "         YES       0.57      0.57      0.57      7595\n",
      "\n",
      "    accuracy                           0.57     15191\n",
      "   macro avg       0.57      0.57      0.57     15191\n",
      "weighted avg       0.57      0.57      0.57     15191\n",
      "\n"
     ]
    }
   ],
   "source": [
    "logreg = LogisticRegression(random_state=42, C=0.001)\n",
    "logreg.fit(X_train_rus, y_train_rus)\n",
    "logreg_pred = logreg.predict(X_test_rus)\n",
    "\n",
    "# accuracy scores\n",
    "print('Accuracy Score, Training Set: ', logreg.score(X_train_rus, y_train_rus))\n",
    "print('Accuracy Score, Test Set: ', logreg.score(X_test_rus, y_test_rus))\n",
    "\n",
    "# classification report\n",
    "print('Classification Report \\n\\n {}'.format(classification_report(y_test_rus, logreg_pred)))"
   ]
  },
  {
   "cell_type": "markdown",
   "metadata": {},
   "source": [
    "### decision tree classifier"
   ]
  },
  {
   "cell_type": "code",
   "execution_count": 23,
   "metadata": {},
   "outputs": [],
   "source": [
    "# # parameter tuning - takes a long time\n",
    "# decision_tree = DecisionTreeClassifier(random_state=42)\n",
    "\n",
    "# criterion = ['gini', 'entropy']\n",
    "# max_depth = [2, 4, 5, 8, 10]\n",
    "# min_samples_split = [2, 8, 14, 16]\n",
    "# min_samples_leaf = [1, 2, 4, 6]\n",
    "\n",
    "# parameters = dict(max_depth=max_depth, criterion=criterion, min_samples_split=min_samples_split, min_samples_leaf=min_samples_leaf)\n",
    "\n",
    "# dt_gs = GridSearchCV(decision_tree, parameters, cv=5, verbose=1, n_jobs=-1)\n",
    "# dt_gs.fit(X_rus, y_rus).best_params_"
   ]
  },
  {
   "cell_type": "code",
   "execution_count": 24,
   "metadata": {},
   "outputs": [
    {
     "name": "stdout",
     "output_type": "stream",
     "text": [
      "Accuracy Score, Training Set: 0.5643673296656793\n",
      "Accuracy Score, Test Set: 0.5593443486274768\n",
      "Classification Report \n",
      "\n",
      "               precision    recall  f1-score   support\n",
      "\n",
      "          NO       0.56      0.52      0.54      7596\n",
      "         YES       0.55      0.60      0.58      7595\n",
      "\n",
      "    accuracy                           0.56     15191\n",
      "   macro avg       0.56      0.56      0.56     15191\n",
      "weighted avg       0.56      0.56      0.56     15191\n",
      "\n"
     ]
    }
   ],
   "source": [
    "decision_tree = DecisionTreeClassifier(random_state=42, criterion='entropy', max_depth=5, min_samples_leaf=2, min_samples_split=2)\n",
    "decision_tree.fit(X_train_rus, y_train_rus)\n",
    "decision_tree_pred = decision_tree.predict(X_test_rus)\n",
    "\n",
    "# accuracy scores\n",
    "print('Accuracy Score, Training Set: {}'.format(decision_tree.score(X_train_rus, y_train_rus)))\n",
    "print('Accuracy Score, Test Set: {}'.format(decision_tree.score(X_test_rus, y_test_rus)))\n",
    "\n",
    "# classification report\n",
    "print('Classification Report \\n\\n {}'.format(classification_report(y_test_rus, decision_tree_pred)))"
   ]
  },
  {
   "cell_type": "markdown",
   "metadata": {},
   "source": [
    "### random forest classifier"
   ]
  },
  {
   "cell_type": "code",
   "execution_count": 25,
   "metadata": {},
   "outputs": [],
   "source": [
    "# # parameter tuning - takes a long time\n",
    "# forest = RandomForestClassifier(random_state=42)\n",
    "\n",
    "# criterion = ['gini', 'entropy']\n",
    "# n_estimators = [50, 80, 100, 140, 200]\n",
    "# max_depth = [10, 15, 18, 20, 30]\n",
    "\n",
    "# parameters = dict(criterion=criterion, n_estimators=n_estimators, max_depth=max_depth)\n",
    "\n",
    "# forest_gs = GridSearchCV(forest, parameters, cv=5, verbose=1, n_jobs=-1)\n",
    "# forest_gs.fit(X_rus, y_rus).best_params_"
   ]
  },
  {
   "cell_type": "code",
   "execution_count": 26,
   "metadata": {},
   "outputs": [
    {
     "name": "stdout",
     "output_type": "stream",
     "text": [
      "Accuracy Score, Training Set: 0.7242770489490761\n",
      "Accuracy Score, Test Set: 0.5811335659271938\n",
      "Classification Report \n",
      "\n",
      "               precision    recall  f1-score   support\n",
      "\n",
      "          NO       0.58      0.59      0.59      7596\n",
      "         YES       0.58      0.57      0.58      7595\n",
      "\n",
      "    accuracy                           0.58     15191\n",
      "   macro avg       0.58      0.58      0.58     15191\n",
      "weighted avg       0.58      0.58      0.58     15191\n",
      "\n"
     ]
    }
   ],
   "source": [
    "forest = RandomForestClassifier(random_state=42, criterion='entropy', max_depth=10, n_estimators=200)\n",
    "forest.fit(X_train_rus, y_train_rus)\n",
    "forest_pred = forest.predict(X_test_rus)\n",
    "\n",
    "# accuracy scores\n",
    "print('Accuracy Score, Training Set:', forest.score(X_train_rus, y_train_rus))\n",
    "print('Accuracy Score, Test Set:', forest.score(X_test_rus, y_test_rus))\n",
    "\n",
    "# classification report\n",
    "print('Classification Report \\n\\n {}'.format(classification_report(y_test_rus, forest_pred)))"
   ]
  },
  {
   "cell_type": "markdown",
   "metadata": {},
   "source": [
    "### Gaussian Naive Bayes"
   ]
  },
  {
   "cell_type": "code",
   "execution_count": 27,
   "metadata": {},
   "outputs": [
    {
     "name": "stdout",
     "output_type": "stream",
     "text": [
      "Accuracy Score, Training Set: 0.570094512625194\n",
      "Accuracy Score, Test Set: 0.5700085576986373\n",
      "Classification Report \n",
      "\n",
      "               precision    recall  f1-score   support\n",
      "\n",
      "          NO       0.56      0.61      0.59      7596\n",
      "         YES       0.58      0.53      0.55      7595\n",
      "\n",
      "    accuracy                           0.57     15191\n",
      "   macro avg       0.57      0.57      0.57     15191\n",
      "weighted avg       0.57      0.57      0.57     15191\n",
      "\n"
     ]
    }
   ],
   "source": [
    "gaussian = GaussianNB()\n",
    "gaussian.fit(X_train_rus, y_train_rus)\n",
    "gaussian_pred = gaussian.predict(X_test_rus)\n",
    "\n",
    "# accuracy scores\n",
    "print('Accuracy Score, Training Set:', gaussian.score(X_train_rus, y_train_rus))\n",
    "print('Accuracy Score, Test Set:', gaussian.score(X_test_rus, y_test_rus))\n",
    "\n",
    "# classification report\n",
    "print('Classification Report \\n\\n {}'.format(classification_report(y_test_rus, gaussian_pred)))"
   ]
  },
  {
   "cell_type": "markdown",
   "metadata": {},
   "source": [
    "### SVC"
   ]
  },
  {
   "cell_type": "code",
   "execution_count": 28,
   "metadata": {},
   "outputs": [
    {
     "name": "stdout",
     "output_type": "stream",
     "text": [
      "Accuracy Score, Training Set: 0.6409648751586966\n",
      "Accuracy Score, Test Set: 0.5721808965835034\n",
      "Classification Report \n",
      "\n",
      "               precision    recall  f1-score   support\n",
      "\n",
      "          NO       0.57      0.57      0.57      7596\n",
      "         YES       0.57      0.57      0.57      7595\n",
      "\n",
      "    accuracy                           0.57     15191\n",
      "   macro avg       0.57      0.57      0.57     15191\n",
      "weighted avg       0.57      0.57      0.57     15191\n",
      "\n"
     ]
    }
   ],
   "source": [
    "# SVC\n",
    "svc = SVC(random_state=42)\n",
    "svc.fit(X_train_rus, y_train_rus)\n",
    "svc_pred = svc.predict(X_test_rus)\n",
    "\n",
    "# accuracy scores\n",
    "print('Accuracy Score, Training Set:', svc.score(X_train_rus, y_train_rus))\n",
    "print('Accuracy Score, Test Set:', svc.score(X_test_rus, y_test_rus))\n",
    "    \n",
    "# classification report\n",
    "print('Classification Report \\n\\n {}'.format(classification_report(y_test_rus, svc_pred)))"
   ]
  },
  {
   "cell_type": "markdown",
   "metadata": {},
   "source": [
    "## Edited Nearest Neighbors"
   ]
  },
  {
   "cell_type": "code",
   "execution_count": 29,
   "metadata": {},
   "outputs": [
    {
     "name": "stdout",
     "output_type": "stream",
     "text": [
      "Resampled dataset shape: Counter({'YES': 25318, 'NO': 10348})\n",
      "(24966, 34) (24966,)\n",
      "(10700, 34) (10700,)\n"
     ]
    }
   ],
   "source": [
    "y = diabetes['readmitted'].values # target variable\n",
    "X = diabetes.drop('readmitted', axis=1).values # features\n",
    "\n",
    "# initialize\n",
    "enn = EditedNearestNeighbours()\n",
    "X_enn, y_enn = enn.fit_resample(X, y)\n",
    "\n",
    "print('Resampled dataset shape: {}'.format(Counter(y_enn)))\n",
    "\n",
    "# apply PCA to features\n",
    "X_enn = pca.fit_transform(X_enn)\n",
    "\n",
    "# train test split\n",
    "X_train_enn, X_test_enn, y_train_enn, y_test_enn = train_test_split(X_enn, y_enn, test_size=0.3, random_state=42, stratify=y_enn)\n",
    "\n",
    "print(X_train_enn.shape, y_train_enn.shape)\n",
    "print(X_test_enn.shape, y_test_enn.shape)"
   ]
  },
  {
   "cell_type": "markdown",
   "metadata": {},
   "source": [
    "### logistic regression"
   ]
  },
  {
   "cell_type": "code",
   "execution_count": 30,
   "metadata": {},
   "outputs": [],
   "source": [
    "# # parameter tuning - C\n",
    "# logreg = LogisticRegression(random_state=42)\n",
    "\n",
    "# parameters = {'C': [0.001, 0.01, 0.1, 1, 10]}\n",
    "# clf = GridSearchCV(logreg, parameters, cv=5, verbose=1, n_jobs=-1)\n",
    "# clf.fit(X_enn, y_enn).best_params_"
   ]
  },
  {
   "cell_type": "code",
   "execution_count": 31,
   "metadata": {},
   "outputs": [
    {
     "name": "stdout",
     "output_type": "stream",
     "text": [
      "Accuracy Score, Training Set:  0.7287911559721221\n",
      "Accuracy Score, Test Set:  0.7281308411214953\n",
      "Classification Report \n",
      "\n",
      "               precision    recall  f1-score   support\n",
      "\n",
      "          NO       0.60      0.20      0.29      3104\n",
      "         YES       0.74      0.95      0.83      7596\n",
      "\n",
      "    accuracy                           0.73     10700\n",
      "   macro avg       0.67      0.57      0.56     10700\n",
      "weighted avg       0.70      0.73      0.68     10700\n",
      "\n"
     ]
    }
   ],
   "source": [
    "logreg = LogisticRegression(random_state=42)\n",
    "logreg.fit(X_train_enn, y_train_enn)\n",
    "logreg_pred = logreg.predict(X_test_enn)\n",
    "\n",
    "# accuracy scores\n",
    "print('Accuracy Score, Training Set: ', logreg.score(X_train_enn, y_train_enn))\n",
    "print('Accuracy Score, Test Set: ', logreg.score(X_test_enn, y_test_enn))\n",
    "\n",
    "# classification report\n",
    "print('Classification Report \\n\\n {}'.format(classification_report(y_test_enn, logreg_pred)))"
   ]
  },
  {
   "cell_type": "markdown",
   "metadata": {},
   "source": [
    "### decision tree classifier"
   ]
  },
  {
   "cell_type": "code",
   "execution_count": 32,
   "metadata": {},
   "outputs": [
    {
     "name": "stdout",
     "output_type": "stream",
     "text": [
      "Accuracy Score, Training Set: 0.72422494592646\n",
      "Accuracy Score, Test Set: 0.7176635514018691\n",
      "Classification Report \n",
      "\n",
      "               precision    recall  f1-score   support\n",
      "\n",
      "          NO       0.55      0.15      0.23      3104\n",
      "         YES       0.73      0.95      0.83      7596\n",
      "\n",
      "    accuracy                           0.72     10700\n",
      "   macro avg       0.64      0.55      0.53     10700\n",
      "weighted avg       0.68      0.72      0.65     10700\n",
      "\n"
     ]
    }
   ],
   "source": [
    "decision_tree = DecisionTreeClassifier(random_state=42, criterion='gini', max_depth=5, min_samples_leaf=4, min_samples_split=2)\n",
    "decision_tree.fit(X_train_enn, y_train_enn)\n",
    "decision_tree_pred = decision_tree.predict(X_test_enn)\n",
    "\n",
    "# accuracy scores\n",
    "print('Accuracy Score, Training Set: {}'.format(decision_tree.score(X_train_enn, y_train_enn)))\n",
    "print('Accuracy Score, Test Set: {}'.format(decision_tree.score(X_test_enn, y_test_enn)))\n",
    "\n",
    "# classification report\n",
    "print('Classification Report \\n\\n {}'.format(classification_report(y_test_enn, decision_tree_pred)))"
   ]
  },
  {
   "cell_type": "markdown",
   "metadata": {},
   "source": [
    "### random forest classifier"
   ]
  },
  {
   "cell_type": "code",
   "execution_count": 33,
   "metadata": {},
   "outputs": [],
   "source": [
    "# # random forest\n",
    "# forest = RandomForestClassifier(random_state=42)\n",
    "\n",
    "# # parameter tuning\n",
    "# criterion = ['gini', 'entropy']\n",
    "# n_estimators = [100, 200, 350, 400]\n",
    "# max_depth = [10, 15, 20, 30]\n",
    "\n",
    "# parameters = dict(criterion=criterion, n_estimators=n_estimators, max_depth=max_depth)\n",
    "\n",
    "# forest_gs = GridSearchCV(forest, parameters, cv=5, verbose=1, n_jobs=-1)\n",
    "# forest_gs.fit(X_enn, y_enn).best_params_"
   ]
  },
  {
   "cell_type": "code",
   "execution_count": 34,
   "metadata": {},
   "outputs": [
    {
     "name": "stdout",
     "output_type": "stream",
     "text": [
      "Accuracy Score, Training Set: 0.783625730994152\n",
      "Accuracy Score, Test Set: 0.7414953271028037\n",
      "Classification Report \n",
      "\n",
      "               precision    recall  f1-score   support\n",
      "\n",
      "          NO       0.76      0.16      0.26      3104\n",
      "         YES       0.74      0.98      0.84      7596\n",
      "\n",
      "    accuracy                           0.74     10700\n",
      "   macro avg       0.75      0.57      0.55     10700\n",
      "weighted avg       0.75      0.74      0.67     10700\n",
      "\n"
     ]
    }
   ],
   "source": [
    "forest = RandomForestClassifier(random_state=42, criterion='gini', max_depth=10, n_estimators=200)\n",
    "forest.fit(X_train_enn, y_train_enn)\n",
    "forest_pred = forest.predict(X_test_enn)\n",
    "\n",
    "# accuracy scores\n",
    "print('Accuracy Score, Training Set:', forest.score(X_train_enn, y_train_enn))\n",
    "print('Accuracy Score, Test Set:', forest.score(X_test_enn, y_test_enn))\n",
    "\n",
    "# classification report\n",
    "print('Classification Report \\n\\n {}'.format(classification_report(y_test_enn, forest_pred)))"
   ]
  },
  {
   "cell_type": "markdown",
   "metadata": {},
   "source": [
    "### Gaussian naive Bayes"
   ]
  },
  {
   "cell_type": "code",
   "execution_count": 35,
   "metadata": {},
   "outputs": [
    {
     "name": "stdout",
     "output_type": "stream",
     "text": [
      "Accuracy Score, Training Set: 0.6852118881679083\n",
      "Accuracy Score, Test Set: 0.6833644859813084\n",
      "Classification Report \n",
      "\n",
      "               precision    recall  f1-score   support\n",
      "\n",
      "          NO       0.45      0.40      0.43      3104\n",
      "         YES       0.77      0.80      0.78      7596\n",
      "\n",
      "    accuracy                           0.68     10700\n",
      "   macro avg       0.61      0.60      0.60     10700\n",
      "weighted avg       0.67      0.68      0.68     10700\n",
      "\n"
     ]
    }
   ],
   "source": [
    "gaussian = GaussianNB()\n",
    "gaussian.fit(X_train_enn, y_train_enn)\n",
    "gaussian_pred = gaussian.predict(X_test_enn)\n",
    "\n",
    "# accuracy scores\n",
    "print('Accuracy Score, Training Set:', gaussian.score(X_train_enn, y_train_enn))\n",
    "print('Accuracy Score, Test Set:', gaussian.score(X_test_enn, y_test_enn))\n",
    "\n",
    "# classification report\n",
    "print('Classification Report \\n\\n {}'.format(classification_report(y_test_enn, gaussian_pred)))"
   ]
  },
  {
   "cell_type": "markdown",
   "metadata": {},
   "source": [
    "### SVC"
   ]
  },
  {
   "cell_type": "code",
   "execution_count": 36,
   "metadata": {},
   "outputs": [
    {
     "name": "stdout",
     "output_type": "stream",
     "text": [
      "Accuracy Score, Training Set: 0.7683649763678603\n",
      "Accuracy Score, Test Set: 0.748785046728972\n",
      "Classification Report \n",
      "\n",
      "               precision    recall  f1-score   support\n",
      "\n",
      "          NO       0.69      0.24      0.36      3104\n",
      "         YES       0.76      0.96      0.84      7596\n",
      "\n",
      "    accuracy                           0.75     10700\n",
      "   macro avg       0.72      0.60      0.60     10700\n",
      "weighted avg       0.74      0.75      0.70     10700\n",
      "\n"
     ]
    }
   ],
   "source": [
    "# SVC\n",
    "svc = SVC(random_state=42)\n",
    "svc.fit(X_train_enn, y_train_enn)\n",
    "svc_pred = svc.predict(X_test_enn)\n",
    "\n",
    "# accuracy scores\n",
    "print('Accuracy Score, Training Set:', svc.score(X_train_enn, y_train_enn))\n",
    "print('Accuracy Score, Test Set:', svc.score(X_test_enn, y_test_enn))\n",
    "    \n",
    "# classification report\n",
    "print('Classification Report \\n\\n {}'.format(classification_report(y_test_enn, svc_pred)))"
   ]
  },
  {
   "cell_type": "code",
   "execution_count": 37,
   "metadata": {},
   "outputs": [],
   "source": [
    "# # parameter tuning - takes a long time\n",
    "# gamma = [0.1, 1, 10, 100]\n",
    "# C = [0.1, 1, 10, 100]\n",
    "\n",
    "# parameters = dict(gamma=gamma, C=C)\n",
    "\n",
    "# grid_svc = GridSearchCV(svc, parameters, cv=5, verbose=1, n_jobs=-1)\n",
    "# grid_svc.fit(X_enn, y_enn).best_params_"
   ]
  },
  {
   "cell_type": "markdown",
   "metadata": {},
   "source": [
    "## Near Miss"
   ]
  },
  {
   "cell_type": "code",
   "execution_count": 38,
   "metadata": {},
   "outputs": [
    {
     "name": "stdout",
     "output_type": "stream",
     "text": [
      "Resampled dataset shape: Counter({'NO': 25318, 'YES': 25318})\n",
      "(35445, 34) (35445,)\n",
      "(15191, 34) (15191,)\n"
     ]
    }
   ],
   "source": [
    "y = diabetes['readmitted'].values # target variable\n",
    "X = diabetes.drop('readmitted', axis=1).values # features\n",
    "\n",
    "nm = NearMiss()\n",
    "X_nm, y_nm = nm.fit_resample(X, y)\n",
    "\n",
    "print('Resampled dataset shape: {}'.format(Counter(y_nm)))\n",
    "\n",
    "# perform PCA on features\n",
    "X_nm = pca.fit_transform(X_nm)\n",
    "\n",
    "# train test split\n",
    "X_train_nm, X_test_nm, y_train_nm, y_test_nm = train_test_split(X_nm, y_nm, test_size=0.3, random_state=42, stratify=y_nm)\n",
    "\n",
    "print(X_train_nm.shape, y_train_nm.shape)\n",
    "print(X_test_nm.shape, y_test_nm.shape)"
   ]
  },
  {
   "cell_type": "markdown",
   "metadata": {},
   "source": [
    "### logistic regression"
   ]
  },
  {
   "cell_type": "code",
   "execution_count": 39,
   "metadata": {},
   "outputs": [
    {
     "name": "stdout",
     "output_type": "stream",
     "text": [
      "Accuracy Score, Training Set:  0.6354633939906899\n",
      "Accuracy Score, Test Set:  0.6268843394114937\n",
      "Classification Report \n",
      "\n",
      "               precision    recall  f1-score   support\n",
      "\n",
      "          NO       0.62      0.67      0.64      7596\n",
      "         YES       0.64      0.58      0.61      7595\n",
      "\n",
      "    accuracy                           0.63     15191\n",
      "   macro avg       0.63      0.63      0.63     15191\n",
      "weighted avg       0.63      0.63      0.63     15191\n",
      "\n"
     ]
    }
   ],
   "source": [
    "logreg = LogisticRegression(random_state=42)\n",
    "logreg.fit(X_train_nm, y_train_nm)\n",
    "logreg_pred = logreg.predict(X_test_nm)\n",
    "\n",
    "# accuracy scores\n",
    "print('Accuracy Score, Training Set: ', logreg.score(X_train_nm, y_train_nm))\n",
    "print('Accuracy Score, Test Set: ', logreg.score(X_test_nm, y_test_nm))\n",
    "\n",
    "# classification report\n",
    "print('Classification Report \\n\\n {}'.format(classification_report(y_test_nm, logreg_pred)))"
   ]
  },
  {
   "cell_type": "markdown",
   "metadata": {},
   "source": [
    "### decision tree classifier"
   ]
  },
  {
   "cell_type": "code",
   "execution_count": 40,
   "metadata": {},
   "outputs": [
    {
     "name": "stdout",
     "output_type": "stream",
     "text": [
      "Accuracy Score, Training Set: 0.6129778530117083\n",
      "Accuracy Score, Test Set: 0.5958133105128036\n",
      "Classification Report \n",
      "\n",
      "               precision    recall  f1-score   support\n",
      "\n",
      "          NO       0.62      0.51      0.56      7596\n",
      "         YES       0.58      0.68      0.63      7595\n",
      "\n",
      "    accuracy                           0.60     15191\n",
      "   macro avg       0.60      0.60      0.59     15191\n",
      "weighted avg       0.60      0.60      0.59     15191\n",
      "\n"
     ]
    }
   ],
   "source": [
    "decision_tree = DecisionTreeClassifier(random_state=42, criterion='gini', max_depth=5, min_samples_leaf=6, min_samples_split=2)\n",
    "decision_tree.fit(X_train_nm, y_train_nm)\n",
    "decision_tree_pred = decision_tree.predict(X_test_nm)\n",
    "\n",
    "# accuracy scores\n",
    "print('Accuracy Score, Training Set: {}'.format(decision_tree.score(X_train_nm, y_train_nm)))\n",
    "print('Accuracy Score, Test Set: {}'.format(decision_tree.score(X_test_nm, y_test_nm)))\n",
    "\n",
    "# classification report\n",
    "print('Classification Report \\n\\n {}'.format(classification_report(y_test_nm, decision_tree_pred)))"
   ]
  },
  {
   "cell_type": "markdown",
   "metadata": {},
   "source": [
    "### random forest classifier"
   ]
  },
  {
   "cell_type": "code",
   "execution_count": 41,
   "metadata": {},
   "outputs": [
    {
     "name": "stdout",
     "output_type": "stream",
     "text": [
      "Accuracy Score, Training Set: 0.9999153618281845\n",
      "Accuracy Score, Test Set: 0.6216180633269699\n",
      "Classification Report \n",
      "\n",
      "               precision    recall  f1-score   support\n",
      "\n",
      "          NO       0.62      0.65      0.63      7596\n",
      "         YES       0.63      0.60      0.61      7595\n",
      "\n",
      "    accuracy                           0.62     15191\n",
      "   macro avg       0.62      0.62      0.62     15191\n",
      "weighted avg       0.62      0.62      0.62     15191\n",
      "\n"
     ]
    }
   ],
   "source": [
    "forest = RandomForestClassifier(random_state=42, criterion='gini', max_depth=35, n_estimators=450)\n",
    "forest.fit(X_train_nm, y_train_nm)\n",
    "forest_pred = forest.predict(X_test_nm)\n",
    "\n",
    "# accuracy scores\n",
    "print('Accuracy Score, Training Set:', forest.score(X_train_nm, y_train_nm))\n",
    "print('Accuracy Score, Test Set:', forest.score(X_test_nm, y_test_nm))\n",
    "\n",
    "# classification report\n",
    "print('Classification Report \\n\\n {}'.format(classification_report(y_test_nm, forest_pred)))"
   ]
  },
  {
   "cell_type": "markdown",
   "metadata": {},
   "source": [
    "### Gaussian naive Bayes"
   ]
  },
  {
   "cell_type": "code",
   "execution_count": 42,
   "metadata": {},
   "outputs": [
    {
     "name": "stdout",
     "output_type": "stream",
     "text": [
      "Accuracy Score, Training Set: 0.6271688531527719\n",
      "Accuracy Score, Test Set: 0.6177341847146337\n",
      "Classification Report \n",
      "\n",
      "               precision    recall  f1-score   support\n",
      "\n",
      "          NO       0.59      0.75      0.66      7596\n",
      "         YES       0.66      0.48      0.56      7595\n",
      "\n",
      "    accuracy                           0.62     15191\n",
      "   macro avg       0.63      0.62      0.61     15191\n",
      "weighted avg       0.63      0.62      0.61     15191\n",
      "\n"
     ]
    }
   ],
   "source": [
    "gaussian = GaussianNB()\n",
    "gaussian.fit(X_train_nm, y_train_nm)\n",
    "gaussian_pred = gaussian.predict(X_test_nm)\n",
    "\n",
    "# accuracy scores\n",
    "print('Accuracy Score, Training Set:', gaussian.score(X_train_nm, y_train_nm))\n",
    "print('Accuracy Score, Test Set:', gaussian.score(X_test_nm, y_test_nm))\n",
    "\n",
    "# classification report\n",
    "print('Classification Report \\n\\n {}'.format(classification_report(y_test_nm, gaussian_pred)))"
   ]
  },
  {
   "cell_type": "markdown",
   "metadata": {},
   "source": [
    "### SVC"
   ]
  },
  {
   "cell_type": "code",
   "execution_count": 43,
   "metadata": {},
   "outputs": [
    {
     "name": "stdout",
     "output_type": "stream",
     "text": [
      "Accuracy Score, Training Set: 0.6857102553251516\n",
      "Accuracy Score, Test Set: 0.640050029622803\n",
      "Classification Report \n",
      "\n",
      "               precision    recall  f1-score   support\n",
      "\n",
      "          NO       0.61      0.76      0.68      7596\n",
      "         YES       0.68      0.52      0.59      7595\n",
      "\n",
      "    accuracy                           0.64     15191\n",
      "   macro avg       0.65      0.64      0.63     15191\n",
      "weighted avg       0.65      0.64      0.63     15191\n",
      "\n"
     ]
    }
   ],
   "source": [
    "svc = SVC(random_state=42)\n",
    "svc.fit(X_train_nm, y_train_nm)\n",
    "svc_pred = svc.predict(X_test_nm)\n",
    "\n",
    "# accuracy scores\n",
    "print('Accuracy Score, Training Set:', svc.score(X_train_nm, y_train_nm))\n",
    "print('Accuracy Score, Test Set:', svc.score(X_test_nm, y_test_nm))\n",
    "    \n",
    "# classification report\n",
    "print('Classification Report \\n\\n {}'.format(classification_report(y_test_nm, svc_pred)))"
   ]
  }
 ],
 "metadata": {
  "kernelspec": {
   "display_name": "Python 3",
   "language": "python",
   "name": "python3"
  },
  "language_info": {
   "codemirror_mode": {
    "name": "ipython",
    "version": 3
   },
   "file_extension": ".py",
   "mimetype": "text/x-python",
   "name": "python",
   "nbconvert_exporter": "python",
   "pygments_lexer": "ipython3",
   "version": "3.7.5"
  }
 },
 "nbformat": 4,
 "nbformat_minor": 2
}
