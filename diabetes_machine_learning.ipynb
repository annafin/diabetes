{
 "cells": [
  {
   "cell_type": "markdown",
   "metadata": {},
   "source": [
    "# General Overview - Machine Learning"
   ]
  },
  {
   "cell_type": "markdown",
   "metadata": {},
   "source": [
    "For this binary classification problem, we are using Logistic Regression, Decision Tree Classifier, Random Forest Classifier, Gradient Boosting Classifier, Gaussian Naive Bayes, and Support Vector Classifier. To assess the accuracy, we look at the accuracy scores and classification reports."
   ]
  },
  {
   "cell_type": "code",
   "execution_count": 1,
   "metadata": {},
   "outputs": [
    {
     "name": "stderr",
     "output_type": "stream",
     "text": [
      "/Users/annatang/anaconda3/lib/python3.7/site-packages/statsmodels/tools/_testing.py:19: FutureWarning: pandas.util.testing is deprecated. Use the functions in the public API at pandas.testing instead.\n",
      "  import pandas.util.testing as tm\n"
     ]
    }
   ],
   "source": [
    "import numpy as np\n",
    "import pandas as pd\n",
    "import matplotlib.pyplot as plt\n",
    "import sklearn\n",
    "from sklearn import datasets\n",
    "from sklearn import metrics\n",
    "import seaborn as sns\n",
    "\n",
    "from sklearn.model_selection import (cross_val_score, \n",
    "                                     GridSearchCV, \n",
    "                                     train_test_split,  \n",
    "                                     KFold)\n",
    "from sklearn.metrics import (classification_report,\n",
    "                             confusion_matrix, \n",
    "                             accuracy_score)\n",
    "\n",
    "from sklearn.linear_model import LogisticRegression\n",
    "from sklearn.tree import DecisionTreeClassifier\n",
    "from sklearn.ensemble import (RandomForestClassifier, GradientBoostingClassifier)\n",
    "from sklearn.naive_bayes import GaussianNB\n",
    "from sklearn.svm import SVC"
   ]
  },
  {
   "cell_type": "code",
   "execution_count": 2,
   "metadata": {},
   "outputs": [],
   "source": [
    "np.random.seed(42)"
   ]
  },
  {
   "cell_type": "code",
   "execution_count": 3,
   "metadata": {},
   "outputs": [],
   "source": [
    "data = pd.read_csv('diabetes_ml_scale.csv', index_col=0) # import data\n",
    "diabetes = data.copy() # save a copy of data as diabetes"
   ]
  },
  {
   "cell_type": "code",
   "execution_count": 4,
   "metadata": {},
   "outputs": [
    {
     "name": "stdout",
     "output_type": "stream",
     "text": [
      "<class 'pandas.core.frame.DataFrame'>\n",
      "Int64Index: 61678 entries, 0 to 61677\n",
      "Data columns (total 68 columns):\n",
      " #   Column                  Non-Null Count  Dtype  \n",
      "---  ------                  --------------  -----  \n",
      " 0   gender                  61678 non-null  int64  \n",
      " 1   diabetesMed             61678 non-null  int64  \n",
      " 2   time_in_hospital        61678 non-null  float64\n",
      " 3   num_lab_procedures      61678 non-null  float64\n",
      " 4   num_procedures          61678 non-null  float64\n",
      " 5   num_medications         61678 non-null  float64\n",
      " 6   num_outpatient          61678 non-null  float64\n",
      " 7   num_inpatient           61678 non-null  float64\n",
      " 8   num_diagnoses           61678 non-null  float64\n",
      " 9   change                  61678 non-null  int64  \n",
      " 10  AfricanAmerican         61678 non-null  int64  \n",
      " 11  Asian                   61678 non-null  int64  \n",
      " 12  Caucasian               61678 non-null  int64  \n",
      " 13  Hispanic                61678 non-null  int64  \n",
      " 14  Other_race              61678 non-null  int64  \n",
      " 15  [0-10)                  61678 non-null  int64  \n",
      " 16  [10-20)                 61678 non-null  int64  \n",
      " 17  [20-30)                 61678 non-null  int64  \n",
      " 18  [30-40)                 61678 non-null  int64  \n",
      " 19  [40-50)                 61678 non-null  int64  \n",
      " 20  [50-60)                 61678 non-null  int64  \n",
      " 21  [60-70)                 61678 non-null  int64  \n",
      " 22  [70-80)                 61678 non-null  int64  \n",
      " 23  [80-90)                 61678 non-null  int64  \n",
      " 24  [90-100)                61678 non-null  int64  \n",
      " 25  Circulatory_1           61678 non-null  int64  \n",
      " 26  Diabetes_1              61678 non-null  int64  \n",
      " 27  Digestive_1             61678 non-null  int64  \n",
      " 28  Genitourinary_1         61678 non-null  int64  \n",
      " 29  Injury_1                61678 non-null  int64  \n",
      " 30  Musculoskeletal_1       61678 non-null  int64  \n",
      " 31  Neoplasms_1             61678 non-null  int64  \n",
      " 32  Other_1                 61678 non-null  int64  \n",
      " 33  Respiratory_1           61678 non-null  int64  \n",
      " 34  >200                    61678 non-null  int64  \n",
      " 35  >300                    61678 non-null  int64  \n",
      " 36  None_glu                61678 non-null  int64  \n",
      " 37  Norm_glu                61678 non-null  int64  \n",
      " 38  >7                      61678 non-null  int64  \n",
      " 39  >8                      61678 non-null  int64  \n",
      " 40  None_a1c                61678 non-null  int64  \n",
      " 41  Norm_a1c                61678 non-null  int64  \n",
      " 42  Down_metformin          61678 non-null  int64  \n",
      " 43  Steady_metformin        61678 non-null  int64  \n",
      " 44  Up_metformin            61678 non-null  int64  \n",
      " 45  Down_repaglinide        61678 non-null  int64  \n",
      " 46  Steady_repaglinide      61678 non-null  int64  \n",
      " 47  Up_repaglinide          61678 non-null  int64  \n",
      " 48  Down_glipizide          61678 non-null  int64  \n",
      " 49  Steady_glipizide        61678 non-null  int64  \n",
      " 50  Up_glipizide            61678 non-null  int64  \n",
      " 51  Down_pioglitazone       61678 non-null  int64  \n",
      " 52  Steady_pioglitazone     61678 non-null  int64  \n",
      " 53  Up_pioglitazone         61678 non-null  int64  \n",
      " 54  Down_rosiglitazone      61678 non-null  int64  \n",
      " 55  Steady_rosiglitazone    61678 non-null  int64  \n",
      " 56  Up_rosiglitazone        61678 non-null  int64  \n",
      " 57  Down_insulin            61678 non-null  int64  \n",
      " 58  No_insulin              61678 non-null  int64  \n",
      " 59  Steady_insulin          61678 non-null  int64  \n",
      " 60  Up_insulin              61678 non-null  int64  \n",
      " 61  Elective                61678 non-null  int64  \n",
      " 62  Emergency               61678 non-null  int64  \n",
      " 63  Newborn                 61678 non-null  int64  \n",
      " 64  Trauma Center           61678 non-null  int64  \n",
      " 65  Unknown_admission_type  61678 non-null  int64  \n",
      " 66  Urgent                  61678 non-null  int64  \n",
      " 67  readmitted              61678 non-null  object \n",
      "dtypes: float64(7), int64(60), object(1)\n",
      "memory usage: 32.5+ MB\n"
     ]
    }
   ],
   "source": [
    "diabetes.info()"
   ]
  },
  {
   "cell_type": "code",
   "execution_count": 5,
   "metadata": {},
   "outputs": [
    {
     "data": {
      "text/html": [
       "<div>\n",
       "<style scoped>\n",
       "    .dataframe tbody tr th:only-of-type {\n",
       "        vertical-align: middle;\n",
       "    }\n",
       "\n",
       "    .dataframe tbody tr th {\n",
       "        vertical-align: top;\n",
       "    }\n",
       "\n",
       "    .dataframe thead th {\n",
       "        text-align: right;\n",
       "    }\n",
       "</style>\n",
       "<table border=\"1\" class=\"dataframe\">\n",
       "  <thead>\n",
       "    <tr style=\"text-align: right;\">\n",
       "      <th></th>\n",
       "      <th>gender</th>\n",
       "      <th>diabetesMed</th>\n",
       "      <th>time_in_hospital</th>\n",
       "      <th>num_lab_procedures</th>\n",
       "      <th>num_procedures</th>\n",
       "      <th>num_medications</th>\n",
       "      <th>num_outpatient</th>\n",
       "      <th>num_inpatient</th>\n",
       "      <th>num_diagnoses</th>\n",
       "      <th>change</th>\n",
       "      <th>...</th>\n",
       "      <th>No_insulin</th>\n",
       "      <th>Steady_insulin</th>\n",
       "      <th>Up_insulin</th>\n",
       "      <th>Elective</th>\n",
       "      <th>Emergency</th>\n",
       "      <th>Newborn</th>\n",
       "      <th>Trauma Center</th>\n",
       "      <th>Unknown_admission_type</th>\n",
       "      <th>Urgent</th>\n",
       "      <th>readmitted</th>\n",
       "    </tr>\n",
       "  </thead>\n",
       "  <tbody>\n",
       "    <tr>\n",
       "      <th>0</th>\n",
       "      <td>1</td>\n",
       "      <td>1</td>\n",
       "      <td>-0.403967</td>\n",
       "      <td>0.850369</td>\n",
       "      <td>-0.806274</td>\n",
       "      <td>0.411509</td>\n",
       "      <td>-0.312996</td>\n",
       "      <td>-0.300684</td>\n",
       "      <td>0.908151</td>\n",
       "      <td>1</td>\n",
       "      <td>...</td>\n",
       "      <td>0</td>\n",
       "      <td>0</td>\n",
       "      <td>1</td>\n",
       "      <td>0</td>\n",
       "      <td>1</td>\n",
       "      <td>0</td>\n",
       "      <td>0</td>\n",
       "      <td>0</td>\n",
       "      <td>0</td>\n",
       "      <td>YES</td>\n",
       "    </tr>\n",
       "    <tr>\n",
       "      <th>1</th>\n",
       "      <td>1</td>\n",
       "      <td>1</td>\n",
       "      <td>-0.767225</td>\n",
       "      <td>-1.577505</td>\n",
       "      <td>2.101774</td>\n",
       "      <td>-0.284438</td>\n",
       "      <td>3.419959</td>\n",
       "      <td>3.325751</td>\n",
       "      <td>-0.607611</td>\n",
       "      <td>0</td>\n",
       "      <td>...</td>\n",
       "      <td>1</td>\n",
       "      <td>0</td>\n",
       "      <td>0</td>\n",
       "      <td>0</td>\n",
       "      <td>1</td>\n",
       "      <td>0</td>\n",
       "      <td>0</td>\n",
       "      <td>0</td>\n",
       "      <td>0</td>\n",
       "      <td>NO</td>\n",
       "    </tr>\n",
       "    <tr>\n",
       "      <th>2</th>\n",
       "      <td>0</td>\n",
       "      <td>1</td>\n",
       "      <td>-0.767225</td>\n",
       "      <td>0.091658</td>\n",
       "      <td>-0.224664</td>\n",
       "      <td>0.133130</td>\n",
       "      <td>-0.312996</td>\n",
       "      <td>-0.300684</td>\n",
       "      <td>-0.102357</td>\n",
       "      <td>1</td>\n",
       "      <td>...</td>\n",
       "      <td>0</td>\n",
       "      <td>0</td>\n",
       "      <td>1</td>\n",
       "      <td>0</td>\n",
       "      <td>1</td>\n",
       "      <td>0</td>\n",
       "      <td>0</td>\n",
       "      <td>0</td>\n",
       "      <td>0</td>\n",
       "      <td>NO</td>\n",
       "    </tr>\n",
       "    <tr>\n",
       "      <th>3</th>\n",
       "      <td>0</td>\n",
       "      <td>1</td>\n",
       "      <td>-1.130484</td>\n",
       "      <td>0.445723</td>\n",
       "      <td>-0.806274</td>\n",
       "      <td>-0.980385</td>\n",
       "      <td>-0.312996</td>\n",
       "      <td>-0.300684</td>\n",
       "      <td>-1.112865</td>\n",
       "      <td>1</td>\n",
       "      <td>...</td>\n",
       "      <td>0</td>\n",
       "      <td>1</td>\n",
       "      <td>0</td>\n",
       "      <td>0</td>\n",
       "      <td>1</td>\n",
       "      <td>0</td>\n",
       "      <td>0</td>\n",
       "      <td>0</td>\n",
       "      <td>0</td>\n",
       "      <td>NO</td>\n",
       "    </tr>\n",
       "    <tr>\n",
       "      <th>4</th>\n",
       "      <td>0</td>\n",
       "      <td>1</td>\n",
       "      <td>-0.403967</td>\n",
       "      <td>-0.565891</td>\n",
       "      <td>2.683383</td>\n",
       "      <td>0.133130</td>\n",
       "      <td>-0.312996</td>\n",
       "      <td>-0.300684</td>\n",
       "      <td>0.908151</td>\n",
       "      <td>0</td>\n",
       "      <td>...</td>\n",
       "      <td>0</td>\n",
       "      <td>1</td>\n",
       "      <td>0</td>\n",
       "      <td>0</td>\n",
       "      <td>0</td>\n",
       "      <td>0</td>\n",
       "      <td>0</td>\n",
       "      <td>0</td>\n",
       "      <td>1</td>\n",
       "      <td>YES</td>\n",
       "    </tr>\n",
       "  </tbody>\n",
       "</table>\n",
       "<p>5 rows × 68 columns</p>\n",
       "</div>"
      ],
      "text/plain": [
       "   gender  diabetesMed  time_in_hospital  num_lab_procedures  num_procedures  \\\n",
       "0       1            1         -0.403967            0.850369       -0.806274   \n",
       "1       1            1         -0.767225           -1.577505        2.101774   \n",
       "2       0            1         -0.767225            0.091658       -0.224664   \n",
       "3       0            1         -1.130484            0.445723       -0.806274   \n",
       "4       0            1         -0.403967           -0.565891        2.683383   \n",
       "\n",
       "   num_medications  num_outpatient  num_inpatient  num_diagnoses  change  ...  \\\n",
       "0         0.411509       -0.312996      -0.300684       0.908151       1  ...   \n",
       "1        -0.284438        3.419959       3.325751      -0.607611       0  ...   \n",
       "2         0.133130       -0.312996      -0.300684      -0.102357       1  ...   \n",
       "3        -0.980385       -0.312996      -0.300684      -1.112865       1  ...   \n",
       "4         0.133130       -0.312996      -0.300684       0.908151       0  ...   \n",
       "\n",
       "   No_insulin  Steady_insulin  Up_insulin  Elective  Emergency  Newborn  \\\n",
       "0           0               0           1         0          1        0   \n",
       "1           1               0           0         0          1        0   \n",
       "2           0               0           1         0          1        0   \n",
       "3           0               1           0         0          1        0   \n",
       "4           0               1           0         0          0        0   \n",
       "\n",
       "   Trauma Center  Unknown_admission_type  Urgent  readmitted  \n",
       "0              0                       0       0         YES  \n",
       "1              0                       0       0          NO  \n",
       "2              0                       0       0          NO  \n",
       "3              0                       0       0          NO  \n",
       "4              0                       0       1         YES  \n",
       "\n",
       "[5 rows x 68 columns]"
      ]
     },
     "execution_count": 5,
     "metadata": {},
     "output_type": "execute_result"
    }
   ],
   "source": [
    "diabetes.head()"
   ]
  },
  {
   "cell_type": "code",
   "execution_count": 6,
   "metadata": {},
   "outputs": [
    {
     "name": "stdout",
     "output_type": "stream",
     "text": [
      "(43174, 67) (43174,)\n",
      "(18504, 67) (18504,)\n"
     ]
    }
   ],
   "source": [
    "# separate variables\n",
    "y = diabetes['readmitted'].values # target variable\n",
    "X = diabetes.drop('readmitted', axis=1).values\n",
    "\n",
    "# train test split\n",
    "X_train, X_test, y_train, y_test = train_test_split(X, y, test_size=0.3, random_state=42)\n",
    "\n",
    "print(X_train.shape, y_train.shape)\n",
    "print(X_test.shape, y_test.shape)"
   ]
  },
  {
   "cell_type": "markdown",
   "metadata": {},
   "source": [
    "# Logistic Regression"
   ]
  },
  {
   "cell_type": "code",
   "execution_count": 7,
   "metadata": {},
   "outputs": [
    {
     "name": "stderr",
     "output_type": "stream",
     "text": [
      "/Users/annatang/anaconda3/lib/python3.7/site-packages/sklearn/linear_model/_logistic.py:940: ConvergenceWarning: lbfgs failed to converge (status=1):\n",
      "STOP: TOTAL NO. of ITERATIONS REACHED LIMIT.\n",
      "\n",
      "Increase the number of iterations (max_iter) or scale the data as shown in:\n",
      "    https://scikit-learn.org/stable/modules/preprocessing.html\n",
      "Please also refer to the documentation for alternative solver options:\n",
      "    https://scikit-learn.org/stable/modules/linear_model.html#logistic-regression\n",
      "  extra_warning_msg=_LOGISTIC_SOLVER_CONVERGENCE_MSG)\n"
     ]
    },
    {
     "name": "stdout",
     "output_type": "stream",
     "text": [
      "Accuracy Score, Training Set:  0.6204660212164729\n",
      "Accuracy Score, Test Set:  0.6132728058798098\n",
      "Classification Report \n",
      "\n",
      "              precision    recall  f1-score   support\n",
      "\n",
      "          NO       0.62      0.89      0.73     11095\n",
      "         YES       0.55      0.20      0.29      7409\n",
      "\n",
      "    accuracy                           0.61     18504\n",
      "   macro avg       0.59      0.54      0.51     18504\n",
      "weighted avg       0.59      0.61      0.56     18504\n",
      "\n"
     ]
    }
   ],
   "source": [
    "logreg = LogisticRegression(random_state=42)\n",
    "logreg.fit(X_train, y_train)\n",
    "logreg_pred = logreg.predict(X_test)\n",
    "\n",
    "# accuracy scores\n",
    "print('Accuracy Score, Training Set: ', logreg.score(X_train, y_train))\n",
    "print('Accuracy Score, Test Set: ', logreg.score(X_test, y_test))\n",
    "\n",
    "# classification report\n",
    "print('Classification Report \\n')\n",
    "print(classification_report(y_test, logreg_pred))"
   ]
  },
  {
   "cell_type": "code",
   "execution_count": 8,
   "metadata": {},
   "outputs": [
    {
     "name": "stdout",
     "output_type": "stream",
     "text": [
      "Confusion Matrix \n",
      " [[9892 1203]\n",
      " [5953 1456]]\n"
     ]
    },
    {
     "data": {
      "image/png": "[encoded data removed]",
      "text/plain": [
       "<Figure size 432x288 with 2 Axes>"
      ]
     },
     "metadata": {
      "needs_background": "light"
     },
     "output_type": "display_data"
    }
   ],
   "source": [
    "# confusion matrix\n",
    "cm = confusion_matrix(y_test, logreg_pred)\n",
    "print('Confusion Matrix \\n', cm)\n",
    "labels = ['True Neg', 'False Pos', 'False Neg', 'True Pos']\n",
    "labels = np.asarray(labels).reshape(2,2)\n",
    "sns.heatmap(cm, annot=labels, fmt='', linewidths=.5, cmap='Greens')\n",
    "plt.show()"
   ]
  },
  {
   "cell_type": "markdown",
   "metadata": {},
   "source": [
    "## Parameter Tuning"
   ]
  },
  {
   "cell_type": "code",
   "execution_count": 9,
   "metadata": {},
   "outputs": [
    {
     "name": "stdout",
     "output_type": "stream",
     "text": [
      "Fitting 3 folds for each of 5 candidates, totalling 15 fits\n"
     ]
    },
    {
     "name": "stderr",
     "output_type": "stream",
     "text": [
      "[Parallel(n_jobs=-1)]: Using backend LokyBackend with 8 concurrent workers.\n",
      "[Parallel(n_jobs=-1)]: Done  15 out of  15 | elapsed:    6.3s finished\n"
     ]
    },
    {
     "data": {
      "text/plain": [
       "{'C': 0.01}"
      ]
     },
     "execution_count": 9,
     "metadata": {},
     "output_type": "execute_result"
    }
   ],
   "source": [
    "# parameter tuning - C\n",
    "parameters = {'C': [0.001, 0.01, 0.1, 1, 10]}\n",
    "clf = GridSearchCV(logreg, parameters, cv=3, verbose=1, n_jobs=-1)\n",
    "clf.fit(X, y).best_params_"
   ]
  },
  {
   "cell_type": "code",
   "execution_count": 10,
   "metadata": {},
   "outputs": [
    {
     "name": "stdout",
     "output_type": "stream",
     "text": [
      "Accuracy Score, Training Set: 0.6206744800111178\n",
      "Accuracy Score, Test Set: 0.6128404669260701\n",
      "Classification Report \n",
      "\n",
      "              precision    recall  f1-score   support\n",
      "\n",
      "          NO       0.62      0.90      0.74     11095\n",
      "         YES       0.55      0.18      0.28      7409\n",
      "\n",
      "    accuracy                           0.61     18504\n",
      "   macro avg       0.59      0.54      0.51     18504\n",
      "weighted avg       0.59      0.61      0.55     18504\n",
      "\n"
     ]
    }
   ],
   "source": [
    "# using parameters\n",
    "logreg = LogisticRegression(random_state=42, C=0.01)\n",
    "logreg.fit(X_train, y_train)\n",
    "logreg_pred = logreg.predict(X_test)\n",
    "\n",
    "# accuracy scores\n",
    "print('Accuracy Score, Training Set: {}'.format(logreg.score(X_train, y_train)))\n",
    "print('Accuracy Score, Test Set: {}'.format(logreg.score(X_test, y_test)))\n",
    "\n",
    "# classification report\n",
    "print('Classification Report \\n')\n",
    "print(classification_report(y_test, logreg_pred))"
   ]
  },
  {
   "cell_type": "code",
   "execution_count": 11,
   "metadata": {},
   "outputs": [
    {
     "name": "stdout",
     "output_type": "stream",
     "text": [
      "Confusion Matrix \n",
      " [[9974 1121]\n",
      " [6043 1366]]\n"
     ]
    },
    {
     "data": {
      "image/png": "[encoded data removed]",
      "text/plain": [
       "<Figure size 432x288 with 2 Axes>"
      ]
     },
     "metadata": {
      "needs_background": "light"
     },
     "output_type": "display_data"
    }
   ],
   "source": [
    "# confusion matrix\n",
    "cm = confusion_matrix(y_test, logreg_pred)\n",
    "print('Confusion Matrix \\n', cm)\n",
    "labels = ['True Neg', 'False Pos', 'False Neg', 'True Pos']\n",
    "labels = np.asarray(labels).reshape(2,2)\n",
    "sns.heatmap(cm, annot=labels, fmt='', linewidths=.5, cmap='Greens')\n",
    "plt.show()"
   ]
  },
  {
   "cell_type": "markdown",
   "metadata": {},
   "source": [
    "# Decision Tree Classifier"
   ]
  },
  {
   "cell_type": "code",
   "execution_count": 12,
   "metadata": {},
   "outputs": [
    {
     "name": "stdout",
     "output_type": "stream",
     "text": [
      "Accuracy Score, Training Set: 0.9999768379117061\n",
      "Accuracy Score, Test Set: 0.539396887159533\n",
      "Classification Report \n",
      "\n",
      "              precision    recall  f1-score   support\n",
      "\n",
      "          NO       0.62      0.61      0.61     11095\n",
      "         YES       0.43      0.43      0.43      7409\n",
      "\n",
      "    accuracy                           0.54     18504\n",
      "   macro avg       0.52      0.52      0.52     18504\n",
      "weighted avg       0.54      0.54      0.54     18504\n",
      "\n"
     ]
    }
   ],
   "source": [
    "decision_tree = DecisionTreeClassifier(random_state=42)\n",
    "decision_tree.fit(X_train, y_train)\n",
    "decision_tree_pred = decision_tree.predict(X_test)\n",
    "\n",
    "# accuracy scores\n",
    "print('Accuracy Score, Training Set: {}'.format(decision_tree.score(X_train, y_train)))\n",
    "print('Accuracy Score, Test Set: {}'.format(decision_tree.score(X_test, y_test)))\n",
    "\n",
    "# classification report\n",
    "print('Classification Report \\n')\n",
    "print(classification_report(y_test, decision_tree_pred)) # very overfitted"
   ]
  },
  {
   "cell_type": "code",
   "execution_count": 13,
   "metadata": {},
   "outputs": [
    {
     "name": "stdout",
     "output_type": "stream",
     "text": [
      "Confusion Matrix \n",
      " [[6783 4312]\n",
      " [4211 3198]]\n"
     ]
    },
    {
     "data": {
      "image/png": "[encoded data removed]",
      "text/plain": [
       "<Figure size 432x288 with 2 Axes>"
      ]
     },
     "metadata": {
      "needs_background": "light"
     },
     "output_type": "display_data"
    }
   ],
   "source": [
    "# confusion matrix\n",
    "cm = confusion_matrix(y_test, decision_tree_pred)\n",
    "print('Confusion Matrix \\n', cm)\n",
    "\n",
    "labels = ['True Neg', 'False Pos', 'False Neg', 'True Pos']\n",
    "labels = np.asarray(labels).reshape(2,2)\n",
    "\n",
    "sns.heatmap(cm, annot=labels, fmt='', linewidths=.5, cmap='Greens')\n",
    "plt.show()"
   ]
  },
  {
   "cell_type": "markdown",
   "metadata": {},
   "source": [
    "The Decision Tree Classifier training set is very over fitted compared to the test set, which means that we have to tune the model's parameters so that it is learning the data instead of memorizing it."
   ]
  },
  {
   "cell_type": "markdown",
   "metadata": {
    "scrolled": true
   },
   "source": [
    "## parameter tuning"
   ]
  },
  {
   "cell_type": "markdown",
   "metadata": {},
   "source": [
    "We are focused on the criterion, max_depth, and min_samples_split parameters."
   ]
  },
  {
   "cell_type": "code",
   "execution_count": 14,
   "metadata": {},
   "outputs": [
    {
     "data": {
      "text/plain": [
       "DecisionTreeClassifier(ccp_alpha=0.0, class_weight=None, criterion='gini',\n",
       "                       max_depth=None, max_features=None, max_leaf_nodes=None,\n",
       "                       min_impurity_decrease=0.0, min_impurity_split=None,\n",
       "                       min_samples_leaf=1, min_samples_split=2,\n",
       "                       min_weight_fraction_leaf=0.0, presort='deprecated',\n",
       "                       random_state=42, splitter='best')"
      ]
     },
     "execution_count": 14,
     "metadata": {},
     "output_type": "execute_result"
    }
   ],
   "source": [
    "decision_tree.fit(X_train, y_train)"
   ]
  },
  {
   "cell_type": "code",
   "execution_count": 15,
   "metadata": {},
   "outputs": [
    {
     "name": "stdout",
     "output_type": "stream",
     "text": [
      "Fitting 3 folds for each of 40 candidates, totalling 120 fits\n"
     ]
    },
    {
     "name": "stderr",
     "output_type": "stream",
     "text": [
      "[Parallel(n_jobs=-1)]: Using backend LokyBackend with 8 concurrent workers.\n",
      "[Parallel(n_jobs=-1)]: Done  34 tasks      | elapsed:    2.7s\n",
      "[Parallel(n_jobs=-1)]: Done 120 out of 120 | elapsed:   10.1s finished\n"
     ]
    },
    {
     "data": {
      "text/plain": [
       "{'criterion': 'gini', 'max_depth': 5, 'min_samples_split': 16}"
      ]
     },
     "execution_count": 15,
     "metadata": {},
     "output_type": "execute_result"
    }
   ],
   "source": [
    "# hyperparameter tuning\n",
    "criterion = ['gini', 'entropy']\n",
    "max_depth = [2, 4, 5, 8, 10]\n",
    "min_samples_split = [2, 8, 14, 16]\n",
    "\n",
    "parameters = dict(max_depth=max_depth, criterion=criterion, min_samples_split=min_samples_split)\n",
    "\n",
    "dt_gs = GridSearchCV(decision_tree, parameters, cv=3, verbose=1, n_jobs=-1)\n",
    "dt_gs.fit(X_train, y_train).best_params_"
   ]
  },
  {
   "cell_type": "code",
   "execution_count": 16,
   "metadata": {},
   "outputs": [
    {
     "name": "stdout",
     "output_type": "stream",
     "text": [
      "Accuracy Score, Training Set: 0.6223189882799833\n",
      "Accuracy Score, Test Set: 0.6103004755728492\n",
      "Classification Report \n",
      "\n",
      "              precision    recall  f1-score   support\n",
      "\n",
      "          NO       0.62      0.90      0.74     11095\n",
      "         YES       0.54      0.17      0.26      7409\n",
      "\n",
      "    accuracy                           0.61     18504\n",
      "   macro avg       0.58      0.54      0.50     18504\n",
      "weighted avg       0.59      0.61      0.54     18504\n",
      "\n"
     ]
    }
   ],
   "source": [
    "# using new parameters - much better, overfitting problem reduced\n",
    "decision_tree = DecisionTreeClassifier(random_state=42, criterion='gini', max_depth=5, min_samples_split=16)\n",
    "decision_tree.fit(X_train, y_train)\n",
    "decision_tree_pred = decision_tree.predict(X_test)\n",
    "\n",
    "# accuracy scores\n",
    "print('Accuracy Score, Training Set:', decision_tree.score(X_train, y_train))\n",
    "print('Accuracy Score, Test Set:', decision_tree.score(X_test, y_test))\n",
    "\n",
    "# classification report\n",
    "print('Classification Report \\n')\n",
    "print(classification_report(y_test, decision_tree_pred))"
   ]
  },
  {
   "cell_type": "code",
   "execution_count": 17,
   "metadata": {},
   "outputs": [
    {
     "name": "stdout",
     "output_type": "stream",
     "text": [
      "Confusion Matrix \n",
      " [[10033  1062]\n",
      " [ 6149  1260]]\n"
     ]
    },
    {
     "data": {
      "image/png": "[encoded data removed]",
      "text/plain": [
       "<Figure size 432x288 with 2 Axes>"
      ]
     },
     "metadata": {
      "needs_background": "light"
     },
     "output_type": "display_data"
    }
   ],
   "source": [
    "# confusion matrix\n",
    "cm = confusion_matrix(y_test, decision_tree_pred)\n",
    "print('Confusion Matrix \\n', cm)\n",
    "\n",
    "labels = ['True Neg', 'False Pos', 'False Neg', 'True Pos']\n",
    "labels = np.asarray(labels).reshape(2,2)\n",
    "\n",
    "sns.heatmap(cm, annot=labels, fmt='', linewidths=.5, cmap='Greens')\n",
    "plt.show()"
   ]
  },
  {
   "cell_type": "markdown",
   "metadata": {},
   "source": [
    "## cross validation - k folds"
   ]
  },
  {
   "cell_type": "code",
   "execution_count": 18,
   "metadata": {},
   "outputs": [
    {
     "name": "stdout",
     "output_type": "stream",
     "text": [
      "Iteration: \n",
      "Accuracy Score, Training Set: 0.6257954683636658\n",
      "Accuracy Score, Test Set: 0.5920071335927367\n",
      "Classification Report \n",
      "\n",
      "              precision    recall  f1-score   support\n",
      "\n",
      "          NO       0.59      0.95      0.73      6987\n",
      "         YES       0.66      0.12      0.21      5349\n",
      "\n",
      "    accuracy                           0.59     12336\n",
      "   macro avg       0.62      0.54      0.47     12336\n",
      "weighted avg       0.62      0.59      0.50     12336\n",
      "\n",
      "Iteration: \n",
      "Accuracy Score, Training Set: 0.6090956994041588\n",
      "Accuracy Score, Test Set: 0.6569390402075227\n",
      "Classification Report \n",
      "\n",
      "              precision    recall  f1-score   support\n",
      "\n",
      "          NO       0.67      0.92      0.77      7885\n",
      "         YES       0.58      0.18      0.28      4451\n",
      "\n",
      "    accuracy                           0.66     12336\n",
      "   macro avg       0.62      0.55      0.53     12336\n",
      "weighted avg       0.63      0.66      0.60     12336\n",
      "\n",
      "Iteration: \n",
      "Accuracy Score, Training Set: 0.6418061691864942\n",
      "Accuracy Score, Test Set: 0.5267509727626459\n",
      "Classification Report \n",
      "\n",
      "              precision    recall  f1-score   support\n",
      "\n",
      "          NO       0.52      0.92      0.66      6272\n",
      "         YES       0.59      0.12      0.20      6064\n",
      "\n",
      "    accuracy                           0.53     12336\n",
      "   macro avg       0.55      0.52      0.43     12336\n",
      "weighted avg       0.55      0.53      0.44     12336\n",
      "\n",
      "Iteration: \n",
      "Accuracy Score, Training Set: 0.6217092596720912\n",
      "Accuracy Score, Test Set: 0.5958654235914066\n",
      "Classification Report \n",
      "\n",
      "              precision    recall  f1-score   support\n",
      "\n",
      "          NO       0.60      0.96      0.74      7259\n",
      "         YES       0.56      0.08      0.14      5076\n",
      "\n",
      "    accuracy                           0.60     12335\n",
      "   macro avg       0.58      0.52      0.44     12335\n",
      "weighted avg       0.58      0.60      0.49     12335\n",
      "\n",
      "Iteration: \n",
      "Accuracy Score, Training Set: 0.6017469549885496\n",
      "Accuracy Score, Test Set: 0.6745034454803405\n",
      "Classification Report \n",
      "\n",
      "              precision    recall  f1-score   support\n",
      "\n",
      "          NO       0.73      0.86      0.79      8853\n",
      "         YES       0.37      0.21      0.27      3482\n",
      "\n",
      "    accuracy                           0.67     12335\n",
      "   macro avg       0.55      0.53      0.53     12335\n",
      "weighted avg       0.63      0.67      0.64     12335\n",
      "\n"
     ]
    }
   ],
   "source": [
    "kf = KFold(n_splits=5) # split into 5 folds \n",
    "kf.get_n_splits(X)\n",
    "\n",
    "for train_index, test_index in kf.split(X):\n",
    "    print('Iteration: ')\n",
    "    X_train, X_test = X[train_index], X[test_index]\n",
    "    y_train, y_test = y[train_index], y[test_index]\n",
    "    \n",
    "    decision_tree = DecisionTreeClassifier(random_state=42, criterion='gini', max_depth=5, min_samples_split=16)\n",
    "    decision_tree.fit(X_train, y_train)\n",
    "    decision_tree_pred = decision_tree.predict(X_test)\n",
    "    \n",
    "    # accuracy scores\n",
    "    print('Accuracy Score, Training Set:', decision_tree.score(X_train, y_train))\n",
    "    print('Accuracy Score, Test Set:', decision_tree.score(X_test, y_test))\n",
    "    \n",
    "    # classification report\n",
    "    print('Classification Report \\n')\n",
    "    print(classification_report(y_test, decision_tree_pred))"
   ]
  },
  {
   "cell_type": "markdown",
   "metadata": {},
   "source": [
    "# Gradient Boosting Classifier"
   ]
  },
  {
   "cell_type": "code",
   "execution_count": 19,
   "metadata": {},
   "outputs": [
    {
     "name": "stdout",
     "output_type": "stream",
     "text": [
      "Accuracy Score, Training Set: 0.6182234562146607\n",
      "Accuracy Score, Test Set: 0.6495338467774625\n",
      "Classification Report \n",
      "\n",
      "              precision    recall  f1-score   support\n",
      "\n",
      "          NO       0.75      0.76      0.76      8853\n",
      "         YES       0.38      0.37      0.38      3482\n",
      "\n",
      "    accuracy                           0.65     12335\n",
      "   macro avg       0.57      0.57      0.57     12335\n",
      "weighted avg       0.65      0.65      0.65     12335\n",
      "\n"
     ]
    }
   ],
   "source": [
    "gbc = GradientBoostingClassifier(random_state=42)\n",
    "gbc.fit(X_train, y_train)\n",
    "gbc_pred = gbc.predict(X_test)\n",
    "\n",
    "# accuracy scores\n",
    "print('Accuracy Score, Training Set:', gbc.score(X_train, y_train))\n",
    "print('Accuracy Score, Test Set:', gbc.score(X_test, y_test))\n",
    "\n",
    "# classification report\n",
    "print('Classification Report \\n')\n",
    "print(classification_report(y_test, gbc_pred))"
   ]
  },
  {
   "cell_type": "code",
   "execution_count": 20,
   "metadata": {},
   "outputs": [
    {
     "name": "stdout",
     "output_type": "stream",
     "text": [
      "Confusion Matrix \n",
      " [[6711 2142]\n",
      " [2181 1301]]\n"
     ]
    },
    {
     "data": {
      "image/png": "[encoded data removed]",
      "text/plain": [
       "<Figure size 432x288 with 2 Axes>"
      ]
     },
     "metadata": {
      "needs_background": "light"
     },
     "output_type": "display_data"
    }
   ],
   "source": [
    "# confusion matrix\n",
    "cm = confusion_matrix(y_test, gbc_pred)\n",
    "print('Confusion Matrix \\n', cm)\n",
    "\n",
    "labels = ['True Neg', 'False Pos', 'False Neg', 'True Pos']\n",
    "labels = np.asarray(labels).reshape(2,2)\n",
    "\n",
    "sns.heatmap(cm, annot=labels, fmt='', linewidths=.5, cmap='copper')\n",
    "plt.show()"
   ]
  },
  {
   "cell_type": "markdown",
   "metadata": {},
   "source": [
    "## cross validation - k folds"
   ]
  },
  {
   "cell_type": "code",
   "execution_count": 21,
   "metadata": {},
   "outputs": [
    {
     "name": "stdout",
     "output_type": "stream",
     "text": [
      "Iteration: \n",
      "Accuracy Score, Training Set: 0.632888816829476\n",
      "Accuracy Score, Test Set: 0.5898994811932555\n",
      "Classification Report \n",
      "\n",
      "              precision    recall  f1-score   support\n",
      "\n",
      "          NO       0.58      0.96      0.73      6987\n",
      "         YES       0.67      0.11      0.19      5349\n",
      "\n",
      "    accuracy                           0.59     12336\n",
      "   macro avg       0.63      0.53      0.46     12336\n",
      "weighted avg       0.62      0.59      0.49     12336\n",
      "\n",
      "Iteration: \n",
      "Accuracy Score, Training Set: 0.6196343885533623\n",
      "Accuracy Score, Test Set: 0.6511835278858625\n",
      "Classification Report \n",
      "\n",
      "              precision    recall  f1-score   support\n",
      "\n",
      "          NO       0.67      0.90      0.77      7885\n",
      "         YES       0.54      0.21      0.30      4451\n",
      "\n",
      "    accuracy                           0.65     12336\n",
      "   macro avg       0.61      0.55      0.53     12336\n",
      "weighted avg       0.62      0.65      0.60     12336\n",
      "\n",
      "Iteration: \n",
      "Accuracy Score, Training Set: 0.6475416480888493\n",
      "Accuracy Score, Test Set: 0.5295071335927367\n",
      "Classification Report \n",
      "\n",
      "              precision    recall  f1-score   support\n",
      "\n",
      "          NO       0.52      0.92      0.67      6272\n",
      "         YES       0.61      0.12      0.20      6064\n",
      "\n",
      "    accuracy                           0.53     12336\n",
      "   macro avg       0.56      0.52      0.43     12336\n",
      "weighted avg       0.56      0.53      0.44     12336\n",
      "\n",
      "Iteration: \n",
      "Accuracy Score, Training Set: 0.6325719960278053\n",
      "Accuracy Score, Test Set: 0.6040535062829347\n",
      "Classification Report \n",
      "\n",
      "              precision    recall  f1-score   support\n",
      "\n",
      "          NO       0.61      0.89      0.73      7259\n",
      "         YES       0.56      0.19      0.28      5076\n",
      "\n",
      "    accuracy                           0.60     12335\n",
      "   macro avg       0.58      0.54      0.50     12335\n",
      "weighted avg       0.59      0.60      0.54     12335\n",
      "\n",
      "Iteration: \n",
      "Accuracy Score, Training Set: 0.6182234562146607\n",
      "Accuracy Score, Test Set: 0.6495338467774625\n",
      "Classification Report \n",
      "\n",
      "              precision    recall  f1-score   support\n",
      "\n",
      "          NO       0.75      0.76      0.76      8853\n",
      "         YES       0.38      0.37      0.38      3482\n",
      "\n",
      "    accuracy                           0.65     12335\n",
      "   macro avg       0.57      0.57      0.57     12335\n",
      "weighted avg       0.65      0.65      0.65     12335\n",
      "\n"
     ]
    }
   ],
   "source": [
    "kf = KFold(n_splits=5) # split into 5 folds \n",
    "kf.get_n_splits(X)\n",
    "\n",
    "for train_index, test_index in kf.split(X):\n",
    "    print('Iteration: ')\n",
    "    X_train, X_test = X[train_index], X[test_index]\n",
    "    y_train, y_test = y[train_index], y[test_index]\n",
    "    \n",
    "    gbc = GradientBoostingClassifier(random_state=42)\n",
    "    gbc.fit(X_train, y_train)\n",
    "    gbc_pred = gbc.predict(X_test)\n",
    "    \n",
    "    # accuracy scores\n",
    "    print('Accuracy Score, Training Set:', gbc.score(X_train, y_train))\n",
    "    print('Accuracy Score, Test Set:', gbc.score(X_test, y_test))\n",
    "    \n",
    "    # classification report\n",
    "    print('Classification Report \\n')\n",
    "    print(classification_report(y_test, gbc_pred))"
   ]
  },
  {
   "cell_type": "markdown",
   "metadata": {},
   "source": [
    "## parameter tuning"
   ]
  },
  {
   "cell_type": "code",
   "execution_count": 22,
   "metadata": {},
   "outputs": [
    {
     "data": {
      "text/plain": [
       "GradientBoostingClassifier(ccp_alpha=0.0, criterion='friedman_mse', init=None,\n",
       "                           learning_rate=0.1, loss='deviance', max_depth=3,\n",
       "                           max_features=None, max_leaf_nodes=None,\n",
       "                           min_impurity_decrease=0.0, min_impurity_split=None,\n",
       "                           min_samples_leaf=1, min_samples_split=2,\n",
       "                           min_weight_fraction_leaf=0.0, n_estimators=100,\n",
       "                           n_iter_no_change=None, presort='deprecated',\n",
       "                           random_state=42, subsample=1.0, tol=0.0001,\n",
       "                           validation_fraction=0.1, verbose=0,\n",
       "                           warm_start=False)"
      ]
     },
     "execution_count": 22,
     "metadata": {},
     "output_type": "execute_result"
    }
   ],
   "source": [
    "gbc.fit(X_train, y_train)"
   ]
  },
  {
   "cell_type": "code",
   "execution_count": 23,
   "metadata": {},
   "outputs": [
    {
     "name": "stdout",
     "output_type": "stream",
     "text": [
      "Fitting 3 folds for each of 30 candidates, totalling 90 fits\n"
     ]
    },
    {
     "name": "stderr",
     "output_type": "stream",
     "text": [
      "[Parallel(n_jobs=-1)]: Using backend LokyBackend with 8 concurrent workers.\n",
      "[Parallel(n_jobs=-1)]: Done  34 tasks      | elapsed:  1.2min\n",
      "[Parallel(n_jobs=-1)]: Done  90 out of  90 | elapsed:  5.8min finished\n"
     ]
    },
    {
     "data": {
      "text/plain": [
       "{'max_depth': 4, 'n_estimators': 60}"
      ]
     },
     "execution_count": 23,
     "metadata": {},
     "output_type": "execute_result"
    }
   ],
   "source": [
    "# abbreviated parameter tuning\n",
    "n_estimators = [10, 20, 50, 60, 80]\n",
    "max_depth = [2, 4, 6, 8, 10, 14]\n",
    "\n",
    "parameters = dict(n_estimators=n_estimators, max_depth=max_depth)\n",
    "\n",
    "gbc_gs = GridSearchCV(gbc, parameters, cv=3, verbose=1, n_jobs=-1)\n",
    "gbc_gs.fit(X_train, y_train).best_params_"
   ]
  },
  {
   "cell_type": "code",
   "execution_count": 24,
   "metadata": {},
   "outputs": [
    {
     "name": "stdout",
     "output_type": "stream",
     "text": [
      "Accuracy Score, Training Set: 0.6228644387248444\n",
      "Accuracy Score, Test Set: 0.6503445480340495\n",
      "Classification Report \n",
      "\n",
      "              precision    recall  f1-score   support\n",
      "\n",
      "          NO       0.75      0.76      0.76      8853\n",
      "         YES       0.38      0.37      0.38      3482\n",
      "\n",
      "    accuracy                           0.65     12335\n",
      "   macro avg       0.57      0.57      0.57     12335\n",
      "weighted avg       0.65      0.65      0.65     12335\n",
      "\n"
     ]
    }
   ],
   "source": [
    "# using new parameters\n",
    "gbc = GradientBoostingClassifier(random_state=42, max_depth=4, n_estimators=60)\n",
    "gbc.fit(X_train, y_train)\n",
    "gbc_pred = gbc.predict(X_test)\n",
    "\n",
    "# accuracy scores\n",
    "print('Accuracy Score, Training Set:', gbc.score(X_train, y_train))\n",
    "print('Accuracy Score, Test Set:', gbc.score(X_test, y_test))\n",
    "\n",
    "# classification report\n",
    "print('Classification Report \\n')\n",
    "print(classification_report(y_test, gbc_pred))"
   ]
  },
  {
   "cell_type": "markdown",
   "metadata": {},
   "source": [
    "# Random Forest Classifier"
   ]
  },
  {
   "cell_type": "code",
   "execution_count": 25,
   "metadata": {},
   "outputs": [
    {
     "name": "stdout",
     "output_type": "stream",
     "text": [
      "Accuracy Score, Training Set: 0.9999797337008289\n",
      "Accuracy Score, Test Set: 0.609566274827726\n",
      "Classification Report \n",
      "\n",
      "              precision    recall  f1-score   support\n",
      "\n",
      "          NO       0.75      0.69      0.72      8853\n",
      "         YES       0.34      0.41      0.37      3482\n",
      "\n",
      "    accuracy                           0.61     12335\n",
      "   macro avg       0.54      0.55      0.55     12335\n",
      "weighted avg       0.63      0.61      0.62     12335\n",
      "\n"
     ]
    }
   ],
   "source": [
    "forest = RandomForestClassifier(random_state=42)\n",
    "forest.fit(X_train, y_train)\n",
    "forest_pred = forest.predict(X_test)\n",
    "\n",
    "# accuracy scores\n",
    "print('Accuracy Score, Training Set:', forest.score(X_train, y_train))\n",
    "print('Accuracy Score, Test Set:', forest.score(X_test, y_test))\n",
    "\n",
    "# classification report\n",
    "print('Classification Report \\n')\n",
    "print(classification_report(y_test, forest_pred))"
   ]
  },
  {
   "cell_type": "code",
   "execution_count": 26,
   "metadata": {},
   "outputs": [
    {
     "name": "stdout",
     "output_type": "stream",
     "text": [
      "Confusion Matrix \n",
      " [[6081 2772]\n",
      " [2044 1438]]\n"
     ]
    },
    {
     "data": {
      "image/png": "[encoded data removed]",
      "text/plain": [
       "<Figure size 432x288 with 2 Axes>"
      ]
     },
     "metadata": {
      "needs_background": "light"
     },
     "output_type": "display_data"
    }
   ],
   "source": [
    "# confusion matrix\n",
    "cm = confusion_matrix(y_test, forest_pred)\n",
    "print('Confusion Matrix \\n', cm)\n",
    "\n",
    "labels = ['True Neg', 'False Pos', 'False Neg', 'True Pos']\n",
    "labels = np.asarray(labels).reshape(2,2)\n",
    "\n",
    "sns.heatmap(cm, annot=labels, fmt='', linewidths=.5, cmap='Greens')\n",
    "plt.show()"
   ]
  },
  {
   "cell_type": "markdown",
   "metadata": {},
   "source": [
    "The original Random Forest Classifier has an over fitting problem with the training set. This can happen and therefore, we have to tune the model's parameters since it looks like the model just memorized sample structures rather than learning them."
   ]
  },
  {
   "cell_type": "markdown",
   "metadata": {},
   "source": [
    "## parameter tuning"
   ]
  },
  {
   "cell_type": "markdown",
   "metadata": {},
   "source": [
    "The parameters we are tuning to optimize our model are criterion, max_depth and n_estimators."
   ]
  },
  {
   "cell_type": "code",
   "execution_count": 27,
   "metadata": {},
   "outputs": [
    {
     "data": {
      "text/plain": [
       "RandomForestClassifier(bootstrap=True, ccp_alpha=0.0, class_weight=None,\n",
       "                       criterion='gini', max_depth=None, max_features='auto',\n",
       "                       max_leaf_nodes=None, max_samples=None,\n",
       "                       min_impurity_decrease=0.0, min_impurity_split=None,\n",
       "                       min_samples_leaf=1, min_samples_split=2,\n",
       "                       min_weight_fraction_leaf=0.0, n_estimators=100,\n",
       "                       n_jobs=None, oob_score=False, random_state=42, verbose=0,\n",
       "                       warm_start=False)"
      ]
     },
     "execution_count": 27,
     "metadata": {},
     "output_type": "execute_result"
    }
   ],
   "source": [
    "forest.fit(X_train, y_train)"
   ]
  },
  {
   "cell_type": "code",
   "execution_count": 28,
   "metadata": {},
   "outputs": [
    {
     "name": "stdout",
     "output_type": "stream",
     "text": [
      "Fitting 3 folds for each of 50 candidates, totalling 150 fits\n"
     ]
    },
    {
     "name": "stderr",
     "output_type": "stream",
     "text": [
      "[Parallel(n_jobs=-1)]: Using backend LokyBackend with 8 concurrent workers.\n",
      "[Parallel(n_jobs=-1)]: Done  34 tasks      | elapsed:   17.0s\n",
      "[Parallel(n_jobs=-1)]: Done 150 out of 150 | elapsed:  1.5min finished\n"
     ]
    },
    {
     "data": {
      "text/plain": [
       "{'criterion': 'entropy', 'max_depth': 10, 'n_estimators': 20}"
      ]
     },
     "execution_count": 28,
     "metadata": {},
     "output_type": "execute_result"
    }
   ],
   "source": [
    "# abbreviated parameter tuning\n",
    "criterion = ['gini', 'entropy']\n",
    "n_estimators = [10, 20, 50, 60, 80]\n",
    "max_depth = [10, 15, 18, 20, 30]\n",
    "\n",
    "parameters = dict(criterion=criterion, n_estimators=n_estimators, max_depth=max_depth)\n",
    "\n",
    "forest_gs = GridSearchCV(forest, parameters, cv=3, verbose=1, n_jobs=-1)\n",
    "forest_gs.fit(X_train, y_train).best_params_"
   ]
  },
  {
   "cell_type": "code",
   "execution_count": 29,
   "metadata": {},
   "outputs": [
    {
     "name": "stdout",
     "output_type": "stream",
     "text": [
      "Accuracy Score, Training Set: 0.6434955312810328\n",
      "Accuracy Score, Test Set: 0.6718281313336035\n",
      "Classification Report \n",
      "\n",
      "              precision    recall  f1-score   support\n",
      "\n",
      "          NO       0.74      0.83      0.78      8853\n",
      "         YES       0.38      0.26      0.31      3482\n",
      "\n",
      "    accuracy                           0.67     12335\n",
      "   macro avg       0.56      0.55      0.55     12335\n",
      "weighted avg       0.64      0.67      0.65     12335\n",
      "\n"
     ]
    }
   ],
   "source": [
    "# using new parameters\n",
    "forest = RandomForestClassifier(random_state=42, criterion='entropy', max_depth=10, n_estimators=20)\n",
    "forest.fit(X_train, y_train)\n",
    "forest_pred = forest.predict(X_test)\n",
    "\n",
    "# accuracy scores\n",
    "print('Accuracy Score, Training Set:', forest.score(X_train, y_train))\n",
    "print('Accuracy Score, Test Set:', forest.score(X_test, y_test))\n",
    "\n",
    "# classification report\n",
    "print('Classification Report \\n')\n",
    "print(classification_report(y_test, forest_pred))"
   ]
  },
  {
   "cell_type": "code",
   "execution_count": 30,
   "metadata": {},
   "outputs": [
    {
     "name": "stdout",
     "output_type": "stream",
     "text": [
      "Confusion Matrix \n",
      " [[7367 1486]\n",
      " [2562  920]]\n"
     ]
    },
    {
     "data": {
      "image/png": "[encoded data removed]",
      "text/plain": [
       "<Figure size 432x288 with 2 Axes>"
      ]
     },
     "metadata": {
      "needs_background": "light"
     },
     "output_type": "display_data"
    }
   ],
   "source": [
    "# confusion matrix\n",
    "cm = confusion_matrix(y_test, forest_pred)\n",
    "print('Confusion Matrix \\n', cm)\n",
    "\n",
    "labels = ['True Neg', 'False Pos', 'False Neg', 'True Pos']\n",
    "labels = np.asarray(labels).reshape(2,2)\n",
    "\n",
    "sns.heatmap(cm, annot=labels, fmt='', linewidths=.5, cmap='Greens')\n",
    "plt.show()"
   ]
  },
  {
   "cell_type": "markdown",
   "metadata": {},
   "source": [
    "## cross validation - k folds"
   ]
  },
  {
   "cell_type": "code",
   "execution_count": 31,
   "metadata": {},
   "outputs": [
    {
     "name": "stdout",
     "output_type": "stream",
     "text": [
      "Iteration: \n",
      "Accuracy Score, Training Set: 0.6463053787848081\n",
      "Accuracy Score, Test Set: 0.582360570687419\n",
      "Classification Report \n",
      "\n",
      "              precision    recall  f1-score   support\n",
      "\n",
      "          NO       0.58      0.97      0.72      6987\n",
      "         YES       0.66      0.08      0.14      5349\n",
      "\n",
      "    accuracy                           0.58     12336\n",
      "   macro avg       0.62      0.52      0.43     12336\n",
      "weighted avg       0.61      0.58      0.47     12336\n",
      "\n",
      "Iteration: \n",
      "Accuracy Score, Training Set: 0.6343074865226379\n",
      "Accuracy Score, Test Set: 0.646076523994812\n",
      "Classification Report \n",
      "\n",
      "              precision    recall  f1-score   support\n",
      "\n",
      "          NO       0.66      0.94      0.77      7885\n",
      "         YES       0.54      0.13      0.21      4451\n",
      "\n",
      "    accuracy                           0.65     12336\n",
      "   macro avg       0.60      0.53      0.49     12336\n",
      "weighted avg       0.61      0.65      0.57     12336\n",
      "\n",
      "Iteration: \n",
      "Accuracy Score, Training Set: 0.6628227473551943\n",
      "Accuracy Score, Test Set: 0.519455252918288\n",
      "Classification Report \n",
      "\n",
      "              precision    recall  f1-score   support\n",
      "\n",
      "          NO       0.51      0.96      0.67      6272\n",
      "         YES       0.60      0.07      0.12      6064\n",
      "\n",
      "    accuracy                           0.52     12336\n",
      "   macro avg       0.56      0.51      0.39     12336\n",
      "weighted avg       0.56      0.52      0.40     12336\n",
      "\n",
      "Iteration: \n",
      "Accuracy Score, Training Set: 0.6438197920677705\n",
      "Accuracy Score, Test Set: 0.5987839481151196\n",
      "Classification Report \n",
      "\n",
      "              precision    recall  f1-score   support\n",
      "\n",
      "          NO       0.60      0.95      0.74      7259\n",
      "         YES       0.58      0.09      0.16      5076\n",
      "\n",
      "    accuracy                           0.60     12335\n",
      "   macro avg       0.59      0.52      0.45     12335\n",
      "weighted avg       0.59      0.60      0.50     12335\n",
      "\n",
      "Iteration: \n",
      "Accuracy Score, Training Set: 0.6434955312810328\n",
      "Accuracy Score, Test Set: 0.6718281313336035\n",
      "Classification Report \n",
      "\n",
      "              precision    recall  f1-score   support\n",
      "\n",
      "          NO       0.74      0.83      0.78      8853\n",
      "         YES       0.38      0.26      0.31      3482\n",
      "\n",
      "    accuracy                           0.67     12335\n",
      "   macro avg       0.56      0.55      0.55     12335\n",
      "weighted avg       0.64      0.67      0.65     12335\n",
      "\n"
     ]
    }
   ],
   "source": [
    "kf = KFold(n_splits=5) # split into 5 folds \n",
    "kf.get_n_splits(X)\n",
    "\n",
    "for train_index, test_index in kf.split(X):\n",
    "    print('Iteration: ')\n",
    "    X_train, X_test = X[train_index], X[test_index]\n",
    "    y_train, y_test = y[train_index], y[test_index]\n",
    "    \n",
    "    forest = RandomForestClassifier(random_state=42, criterion='entropy', max_depth=10, n_estimators=20)\n",
    "    forest.fit(X_train, y_train)\n",
    "    forest_pred = forest.predict(X_test)\n",
    "    \n",
    "    # accuracy scores\n",
    "    print('Accuracy Score, Training Set:', forest.score(X_train, y_train))\n",
    "    print('Accuracy Score, Test Set:', forest.score(X_test, y_test))\n",
    "    \n",
    "    # classification report\n",
    "    print('Classification Report \\n')\n",
    "    print(classification_report(y_test, forest_pred))"
   ]
  },
  {
   "cell_type": "markdown",
   "metadata": {},
   "source": [
    "# Gaussian Naive Bayes"
   ]
  },
  {
   "cell_type": "code",
   "execution_count": 32,
   "metadata": {},
   "outputs": [
    {
     "name": "stdout",
     "output_type": "stream",
     "text": [
      "Accuracy Score, Training Set: 0.4545528241087895\n",
      "Accuracy Score, Test Set: 0.33230644507498985\n",
      "Classification Report \n",
      "\n",
      "              precision    recall  f1-score   support\n",
      "\n",
      "          NO       0.80      0.09      0.17      8853\n",
      "         YES       0.29      0.94      0.44      3482\n",
      "\n",
      "    accuracy                           0.33     12335\n",
      "   macro avg       0.55      0.52      0.30     12335\n",
      "weighted avg       0.66      0.33      0.24     12335\n",
      "\n"
     ]
    }
   ],
   "source": [
    "gaussian = GaussianNB()\n",
    "gaussian.fit(X_train, y_train)\n",
    "gaussian_pred = gaussian.predict(X_test)\n",
    "\n",
    "# accuracy scores\n",
    "print('Accuracy Score, Training Set:', gaussian.score(X_train, y_train))\n",
    "print('Accuracy Score, Test Set:', gaussian.score(X_test, y_test))\n",
    "\n",
    "# classification report\n",
    "print('Classification Report \\n')\n",
    "print(classification_report(y_test, gaussian_pred))"
   ]
  },
  {
   "cell_type": "code",
   "execution_count": 33,
   "metadata": {},
   "outputs": [
    {
     "name": "stdout",
     "output_type": "stream",
     "text": [
      "Confusion Matrix \n",
      " [[ 821 8032]\n",
      " [ 204 3278]]\n"
     ]
    },
    {
     "data": {
      "image/png": "[encoded data removed]",
      "text/plain": [
       "<Figure size 432x288 with 2 Axes>"
      ]
     },
     "metadata": {
      "needs_background": "light"
     },
     "output_type": "display_data"
    }
   ],
   "source": [
    "# confusion matrix\n",
    "cm = confusion_matrix(y_test, gaussian_pred)\n",
    "print('Confusion Matrix \\n', cm)\n",
    "\n",
    "labels = ['True Neg', 'False Pos', 'False Neg', 'True Pos']\n",
    "labels = np.asarray(labels).reshape(2,2)\n",
    "\n",
    "sns.heatmap(cm, annot=labels, fmt='', linewidths=.5, cmap='Blues')\n",
    "plt.show()"
   ]
  },
  {
   "cell_type": "markdown",
   "metadata": {},
   "source": [
    "# Support Vector Classification"
   ]
  },
  {
   "cell_type": "code",
   "execution_count": 34,
   "metadata": {},
   "outputs": [
    {
     "name": "stdout",
     "output_type": "stream",
     "text": [
      "Accuracy Score, Training Set: 0.6460085523782502\n",
      "Accuracy Score, Test Set: 0.6507498986623429\n",
      "Classification Report \n",
      "\n",
      "              precision    recall  f1-score   support\n",
      "\n",
      "          NO       0.75      0.77      0.76      8853\n",
      "         YES       0.37      0.34      0.36      3482\n",
      "\n",
      "    accuracy                           0.65     12335\n",
      "   macro avg       0.56      0.56      0.56     12335\n",
      "weighted avg       0.64      0.65      0.65     12335\n",
      "\n"
     ]
    }
   ],
   "source": [
    "svc = SVC(random_state=42)\n",
    "svc.fit(X_train, y_train)\n",
    "svc_pred = svc.predict(X_test)\n",
    "\n",
    "# accuracy scores\n",
    "print('Accuracy Score, Training Set:', svc.score(X_train, y_train))\n",
    "print('Accuracy Score, Test Set:', svc.score(X_test, y_test))\n",
    "\n",
    "# classification report\n",
    "print('Classification Report \\n')\n",
    "print(classification_report(y_test, svc_pred))"
   ]
  },
  {
   "cell_type": "code",
   "execution_count": 35,
   "metadata": {},
   "outputs": [
    {
     "name": "stdout",
     "output_type": "stream",
     "text": [
      "Confusion Matrix \n",
      " [[6840 2013]\n",
      " [2295 1187]]\n"
     ]
    },
    {
     "data": {
      "image/png": "[encoded data removed]",
      "text/plain": [
       "<Figure size 432x288 with 2 Axes>"
      ]
     },
     "metadata": {
      "needs_background": "light"
     },
     "output_type": "display_data"
    }
   ],
   "source": [
    "# confusion matrix\n",
    "cm = confusion_matrix(y_test, svc_pred)\n",
    "print('Confusion Matrix \\n', cm)\n",
    "\n",
    "labels = ['True Neg', 'False Pos', 'False Neg', 'True Pos']\n",
    "labels = np.asarray(labels).reshape(2,2)\n",
    "\n",
    "sns.heatmap(cm, annot=labels, fmt='', linewidths=.5, cmap='Blues')\n",
    "plt.show()"
   ]
  }
 ],
 "metadata": {
  "kernelspec": {
   "display_name": "Python 3",
   "language": "python",
   "name": "python3"
  },
  "language_info": {
   "codemirror_mode": {
    "name": "ipython",
    "version": 3
   },
   "file_extension": ".py",
   "mimetype": "text/x-python",
   "name": "python",
   "nbconvert_exporter": "python",
   "pygments_lexer": "ipython3",
   "version": "3.7.5"
  }
 },
 "nbformat": 4,
 "nbformat_minor": 2
}
