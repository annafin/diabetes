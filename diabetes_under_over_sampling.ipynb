{
 "cells": [
  {
   "cell_type": "markdown",
   "metadata": {},
   "source": [
    "# General Overview - Under and Over Sampling"
   ]
  },
  {
   "cell_type": "markdown",
   "metadata": {},
   "source": [
    "Since there are more patients who are not readmitted than those who are readmitted, we are going to implement random under and over sampling methods in order to increase the precision, recall, and f1 scores of our models. Random under sampling attempts to balance the two classes by removing random samples from the majority class. Random over sampling has the purpose but it does so by duplicating samples in the minority class."
   ]
  },
  {
   "cell_type": "code",
   "execution_count": 52,
   "metadata": {},
   "outputs": [],
   "source": [
    "import numpy as np\n",
    "import pandas as pd\n",
    "import matplotlib.pyplot as plt\n",
    "import sklearn\n",
    "from sklearn import datasets\n",
    "from sklearn import metrics\n",
    "from collections import Counter\n",
    "\n",
    "from sklearn.model_selection import (cross_val_score, \n",
    "                                     GridSearchCV, \n",
    "                                     train_test_split, validation_curve)\n",
    "from sklearn.metrics import (classification_report,\n",
    "                             confusion_matrix, roc_curve, auc)\n",
    "\n",
    "from sklearn.metrics import roc_curve, auc\n",
    "\n",
    "from sklearn.dummy import DummyClassifier\n",
    "from sklearn.linear_model import LogisticRegression\n",
    "from sklearn.tree import DecisionTreeClassifier\n",
    "from sklearn.ensemble import RandomForestClassifier, ExtraTreesClassifier\n",
    "from sklearn.naive_bayes import GaussianNB\n",
    "from sklearn.svm import SVC\n",
    "\n",
    "import imblearn\n",
    "from imblearn.over_sampling import (RandomOverSampler,\n",
    "                                    SMOTE,\n",
    "                                    ADASYN)\n",
    "from imblearn.under_sampling import (RandomUnderSampler,\n",
    "                                     TomekLinks,\n",
    "                                     EditedNearestNeighbours,\n",
    "                                     NearMiss)"
   ]
  },
  {
   "cell_type": "code",
   "execution_count": 2,
   "metadata": {},
   "outputs": [],
   "source": [
    "np.random.seed(42)"
   ]
  },
  {
   "cell_type": "code",
   "execution_count": 3,
   "metadata": {},
   "outputs": [],
   "source": [
    "data = pd.read_csv('diabetes_ml.csv', index_col=0) # import data\n",
    "diabetes = data.copy() # save a copy of data as diabetes"
   ]
  },
  {
   "cell_type": "code",
   "execution_count": 4,
   "metadata": {},
   "outputs": [
    {
     "data": {
      "text/html": [
       "<div>\n",
       "<style scoped>\n",
       "    .dataframe tbody tr th:only-of-type {\n",
       "        vertical-align: middle;\n",
       "    }\n",
       "\n",
       "    .dataframe tbody tr th {\n",
       "        vertical-align: top;\n",
       "    }\n",
       "\n",
       "    .dataframe thead th {\n",
       "        text-align: right;\n",
       "    }\n",
       "</style>\n",
       "<table border=\"1\" class=\"dataframe\">\n",
       "  <thead>\n",
       "    <tr style=\"text-align: right;\">\n",
       "      <th></th>\n",
       "      <th>gender</th>\n",
       "      <th>time_in_hospital</th>\n",
       "      <th>num_lab_procedures</th>\n",
       "      <th>num_procedures</th>\n",
       "      <th>num_medications</th>\n",
       "      <th>num_outpatient</th>\n",
       "      <th>num_inpatient</th>\n",
       "      <th>num_diagnoses</th>\n",
       "      <th>change</th>\n",
       "      <th>diabetesMed</th>\n",
       "      <th>...</th>\n",
       "      <th>No_insulin</th>\n",
       "      <th>Steady_insulin</th>\n",
       "      <th>Up_insulin</th>\n",
       "      <th>Elective</th>\n",
       "      <th>Emergency</th>\n",
       "      <th>Newborn</th>\n",
       "      <th>Trauma Center</th>\n",
       "      <th>Unknown_admission_type</th>\n",
       "      <th>Urgent</th>\n",
       "      <th>readmitted</th>\n",
       "    </tr>\n",
       "  </thead>\n",
       "  <tbody>\n",
       "    <tr>\n",
       "      <th>0</th>\n",
       "      <td>1</td>\n",
       "      <td>3</td>\n",
       "      <td>59</td>\n",
       "      <td>0</td>\n",
       "      <td>18</td>\n",
       "      <td>0</td>\n",
       "      <td>0</td>\n",
       "      <td>9</td>\n",
       "      <td>1</td>\n",
       "      <td>1</td>\n",
       "      <td>...</td>\n",
       "      <td>0</td>\n",
       "      <td>0</td>\n",
       "      <td>1</td>\n",
       "      <td>0</td>\n",
       "      <td>1</td>\n",
       "      <td>0</td>\n",
       "      <td>0</td>\n",
       "      <td>0</td>\n",
       "      <td>0</td>\n",
       "      <td>YES</td>\n",
       "    </tr>\n",
       "    <tr>\n",
       "      <th>1</th>\n",
       "      <td>1</td>\n",
       "      <td>2</td>\n",
       "      <td>11</td>\n",
       "      <td>5</td>\n",
       "      <td>13</td>\n",
       "      <td>2</td>\n",
       "      <td>1</td>\n",
       "      <td>6</td>\n",
       "      <td>0</td>\n",
       "      <td>1</td>\n",
       "      <td>...</td>\n",
       "      <td>1</td>\n",
       "      <td>0</td>\n",
       "      <td>0</td>\n",
       "      <td>0</td>\n",
       "      <td>1</td>\n",
       "      <td>0</td>\n",
       "      <td>0</td>\n",
       "      <td>0</td>\n",
       "      <td>0</td>\n",
       "      <td>NO</td>\n",
       "    </tr>\n",
       "    <tr>\n",
       "      <th>2</th>\n",
       "      <td>0</td>\n",
       "      <td>2</td>\n",
       "      <td>44</td>\n",
       "      <td>1</td>\n",
       "      <td>16</td>\n",
       "      <td>0</td>\n",
       "      <td>0</td>\n",
       "      <td>7</td>\n",
       "      <td>1</td>\n",
       "      <td>1</td>\n",
       "      <td>...</td>\n",
       "      <td>0</td>\n",
       "      <td>0</td>\n",
       "      <td>1</td>\n",
       "      <td>0</td>\n",
       "      <td>1</td>\n",
       "      <td>0</td>\n",
       "      <td>0</td>\n",
       "      <td>0</td>\n",
       "      <td>0</td>\n",
       "      <td>NO</td>\n",
       "    </tr>\n",
       "    <tr>\n",
       "      <th>3</th>\n",
       "      <td>0</td>\n",
       "      <td>1</td>\n",
       "      <td>51</td>\n",
       "      <td>0</td>\n",
       "      <td>8</td>\n",
       "      <td>0</td>\n",
       "      <td>0</td>\n",
       "      <td>5</td>\n",
       "      <td>1</td>\n",
       "      <td>1</td>\n",
       "      <td>...</td>\n",
       "      <td>0</td>\n",
       "      <td>1</td>\n",
       "      <td>0</td>\n",
       "      <td>0</td>\n",
       "      <td>1</td>\n",
       "      <td>0</td>\n",
       "      <td>0</td>\n",
       "      <td>0</td>\n",
       "      <td>0</td>\n",
       "      <td>NO</td>\n",
       "    </tr>\n",
       "    <tr>\n",
       "      <th>4</th>\n",
       "      <td>0</td>\n",
       "      <td>3</td>\n",
       "      <td>31</td>\n",
       "      <td>6</td>\n",
       "      <td>16</td>\n",
       "      <td>0</td>\n",
       "      <td>0</td>\n",
       "      <td>9</td>\n",
       "      <td>0</td>\n",
       "      <td>1</td>\n",
       "      <td>...</td>\n",
       "      <td>0</td>\n",
       "      <td>1</td>\n",
       "      <td>0</td>\n",
       "      <td>0</td>\n",
       "      <td>0</td>\n",
       "      <td>0</td>\n",
       "      <td>0</td>\n",
       "      <td>0</td>\n",
       "      <td>1</td>\n",
       "      <td>YES</td>\n",
       "    </tr>\n",
       "  </tbody>\n",
       "</table>\n",
       "<p>5 rows × 66 columns</p>\n",
       "</div>"
      ],
      "text/plain": [
       "   gender  time_in_hospital  num_lab_procedures  num_procedures  \\\n",
       "0       1                 3                  59               0   \n",
       "1       1                 2                  11               5   \n",
       "2       0                 2                  44               1   \n",
       "3       0                 1                  51               0   \n",
       "4       0                 3                  31               6   \n",
       "\n",
       "   num_medications  num_outpatient  num_inpatient  num_diagnoses  change  \\\n",
       "0               18               0              0              9       1   \n",
       "1               13               2              1              6       0   \n",
       "2               16               0              0              7       1   \n",
       "3                8               0              0              5       1   \n",
       "4               16               0              0              9       0   \n",
       "\n",
       "   diabetesMed  ...  No_insulin  Steady_insulin  Up_insulin  Elective  \\\n",
       "0            1  ...           0               0           1         0   \n",
       "1            1  ...           1               0           0         0   \n",
       "2            1  ...           0               0           1         0   \n",
       "3            1  ...           0               1           0         0   \n",
       "4            1  ...           0               1           0         0   \n",
       "\n",
       "   Emergency  Newborn  Trauma Center  Unknown_admission_type  Urgent  \\\n",
       "0          1        0              0                       0       0   \n",
       "1          1        0              0                       0       0   \n",
       "2          1        0              0                       0       0   \n",
       "3          1        0              0                       0       0   \n",
       "4          0        0              0                       0       1   \n",
       "\n",
       "   readmitted  \n",
       "0         YES  \n",
       "1          NO  \n",
       "2          NO  \n",
       "3          NO  \n",
       "4         YES  \n",
       "\n",
       "[5 rows x 66 columns]"
      ]
     },
     "execution_count": 4,
     "metadata": {},
     "output_type": "execute_result"
    }
   ],
   "source": [
    "diabetes.head()"
   ]
  },
  {
   "cell_type": "code",
   "execution_count": 51,
   "metadata": {},
   "outputs": [
    {
     "data": {
      "text/plain": [
       "(61678, 66)"
      ]
     },
     "execution_count": 51,
     "metadata": {},
     "output_type": "execute_result"
    }
   ],
   "source": [
    "diabetes.shape"
   ]
  },
  {
   "cell_type": "code",
   "execution_count": 5,
   "metadata": {},
   "outputs": [
    {
     "data": {
      "text/plain": [
       "Index(['gender', 'time_in_hospital', 'num_lab_procedures', 'num_procedures',\n",
       "       'num_medications', 'num_outpatient', 'num_inpatient', 'num_diagnoses',\n",
       "       'change', 'diabetesMed', 'AfricanAmerican', 'Asian', 'Hispanic',\n",
       "       'Other_race', '[0-10)', '[10-20)', '[20-30)', '[30-40)', '[40-50)',\n",
       "       '[50-60)', '[60-70)', '[70-80)', '[80-90)', '[90-100)', 'Circulatory_1',\n",
       "       'Diabetes_1', 'Digestive_1', 'Genitourinary_1', 'Injury_1',\n",
       "       'Musculoskeletal_1', 'Neoplasms_1', 'Other_1', 'Respiratory_1', '>200',\n",
       "       '>300', 'Norm_glu', '>7', '>8', 'None_a1c', 'Norm_a1c',\n",
       "       'Down_metformin', 'Steady_metformin', 'Up_metformin',\n",
       "       'Down_repaglinide', 'Steady_repaglinide', 'Up_repaglinide',\n",
       "       'Down_glipizide', 'Steady_glipizide', 'Up_glipizide',\n",
       "       'Down_pioglitazone', 'Steady_pioglitazone', 'Up_pioglitazone',\n",
       "       'Down_rosiglitazone', 'Steady_rosiglitazone', 'Up_rosiglitazone',\n",
       "       'Down_insulin', 'No_insulin', 'Steady_insulin', 'Up_insulin',\n",
       "       'Elective', 'Emergency', 'Newborn', 'Trauma Center',\n",
       "       'Unknown_admission_type', 'Urgent', 'readmitted'],\n",
       "      dtype='object')"
      ]
     },
     "execution_count": 5,
     "metadata": {},
     "output_type": "execute_result"
    }
   ],
   "source": [
    "diabetes.columns"
   ]
  },
  {
   "cell_type": "code",
   "execution_count": 6,
   "metadata": {},
   "outputs": [
    {
     "name": "stdout",
     "output_type": "stream",
     "text": [
      "(49342, 65) (49342,)\n",
      "(12336, 65) (12336,)\n"
     ]
    }
   ],
   "source": [
    "# independent and target variables\n",
    "y = diabetes['readmitted'].values # target variable\n",
    "X = diabetes.drop('readmitted', axis=1).values\n",
    "\n",
    "# train test split\n",
    "X_train, X_test, y_train, y_test = train_test_split(X, y, test_size=0.25, random_state=42, stratify=y)\n",
    "\n",
    "print(X_train.shape, y_train.shape)\n",
    "print(X_test.shape, y_test.shape)"
   ]
  },
  {
   "cell_type": "markdown",
   "metadata": {},
   "source": [
    "# Baseline - DummyClassifier"
   ]
  },
  {
   "cell_type": "code",
   "execution_count": 7,
   "metadata": {},
   "outputs": [
    {
     "name": "stdout",
     "output_type": "stream",
     "text": [
      "Accuracy Score: 0.5238326848249028\n"
     ]
    }
   ],
   "source": [
    "# using the stratified strategy\n",
    "stratified = DummyClassifier(strategy='stratified', random_state=42).fit(X_train, y_train)\n",
    "print('Accuracy Score: {}'.format(stratified.score(X_test, y_test)))"
   ]
  },
  {
   "cell_type": "code",
   "execution_count": 8,
   "metadata": {},
   "outputs": [
    {
     "name": "stdout",
     "output_type": "stream",
     "text": [
      "Accuracy Score: 0.6040045395590142\n"
     ]
    }
   ],
   "source": [
    "# using the most frequent strategy\n",
    "frequent = DummyClassifier(strategy='most_frequent', random_state=42).fit(X_train, y_train)\n",
    "print('Accuracy Score: {}'.format(frequent.score(X_test, y_test)))"
   ]
  },
  {
   "cell_type": "code",
   "execution_count": 9,
   "metadata": {},
   "outputs": [
    {
     "name": "stdout",
     "output_type": "stream",
     "text": [
      "Accuracy Score: 0.49464980544747084\n"
     ]
    }
   ],
   "source": [
    "# using the uniform strategy\n",
    "uniform = DummyClassifier(strategy='uniform', random_state=42).fit(X_train, y_train)\n",
    "print('Accuracy Score: {}'.format(uniform.score(X_test, y_test)))"
   ]
  },
  {
   "cell_type": "markdown",
   "metadata": {},
   "source": [
    "# Algorithm Functions"
   ]
  },
  {
   "cell_type": "code",
   "execution_count": 10,
   "metadata": {},
   "outputs": [],
   "source": [
    "# logistic regression\n",
    "def logreg(X_train, X_test, y_train, y_test):\n",
    "    logreg = LogisticRegression(random_state=42)\n",
    "    logreg.fit(X_train, y_train)\n",
    "    y_pred = logreg.predict(X_test)\n",
    "    \n",
    "    print('Logistic Regression \\n')\n",
    "    \n",
    "    # accuracy scores\n",
    "    print('Accuracy Score, Training Set: ', logreg.score(X_train, y_train))\n",
    "    print('Accuracy Score, Test Set: ', logreg.score(X_test, y_test))\n",
    "    \n",
    "    # confusion matrix\n",
    "    cm = confusion_matrix(y_test, y_pred)\n",
    "    \n",
    "    print('Confusion Matrix: \\n', cm)\n",
    "    print()\n",
    "    \n",
    "    # classification report\n",
    "    print('Classification Report \\n')\n",
    "    print(classification_report(y_test, y_pred))"
   ]
  },
  {
   "cell_type": "code",
   "execution_count": 11,
   "metadata": {},
   "outputs": [],
   "source": [
    "# decision tree classifier\n",
    "def decision_tree(X_train, X_test, y_train, y_test):\n",
    "    decision_tree = DecisionTreeClassifier(random_state=42)\n",
    "    decision_tree.fit(X_train, y_train)\n",
    "    y_pred = decision_tree.predict(X_test)\n",
    "    \n",
    "    print('Decision Tree Classifier \\n')\n",
    "    \n",
    "    # accuracy scores\n",
    "    print('Accuracy Score, Training Set:', decision_tree.score(X_train, y_train))\n",
    "    print('Accuracy Score, Test Set:', decision_tree.score(X_test, y_test))\n",
    "    \n",
    "    # confusion matrix\n",
    "    cm = confusion_matrix(y_test, y_pred)\n",
    "    \n",
    "    print('Confusion Matrix: \\n', cm)\n",
    "    print()\n",
    "    \n",
    "    # classification report\n",
    "    print('Classification Report \\n')\n",
    "    print(classification_report(y_test, y_pred))"
   ]
  },
  {
   "cell_type": "code",
   "execution_count": 12,
   "metadata": {},
   "outputs": [],
   "source": [
    "# random forest classifier\n",
    "def random_forest(X_train, X_test, y_train, y_test):\n",
    "    rf = RandomForestClassifier(random_state=42)\n",
    "    rf.fit(X_train, y_train)\n",
    "    y_pred = rf.predict(X_test)\n",
    "    \n",
    "    print('Random Forest Classifier \\n')\n",
    "    \n",
    "    # accuracy scores\n",
    "    print('Accuracy Score, Training Set:', rf.score(X_train, y_train))\n",
    "    print('Accuracy Score, Test Set:', rf.score(X_test, y_test))\n",
    "    \n",
    "    # confusion matrix\n",
    "    cm = confusion_matrix(y_test, y_pred)\n",
    "    \n",
    "    print('Confusion Matrix: \\n', cm)\n",
    "    print()\n",
    "    \n",
    "    # classification report\n",
    "    print('Classification Report \\n')\n",
    "    print(classification_report(y_test, y_pred))"
   ]
  },
  {
   "cell_type": "code",
   "execution_count": 13,
   "metadata": {},
   "outputs": [],
   "source": [
    "# Gaussian naive bayes\n",
    "def gaussian(X_train, X_test, y_train, y_test):\n",
    "    gaussian = GaussianNB()\n",
    "    gaussian.fit(X_train, y_train)\n",
    "    y_pred = gaussian.predict(X_test)\n",
    "    \n",
    "    print('Gaussian Naive Bayes \\n')\n",
    "    \n",
    "    # accuracy scores\n",
    "    print('Accuracy Score, Training Set:', gaussian.score(X_train, y_train))\n",
    "    print('Accuracy Score, Test Set:', gaussian.score(X_test, y_test))\n",
    "    \n",
    "    # confusion matrix\n",
    "    cm = confusion_matrix(y_test, y_pred)\n",
    "    \n",
    "    print('Confusion Matrix: \\n', cm)\n",
    "    print()\n",
    "    \n",
    "    # classification report\n",
    "    print('Classification Report \\n')\n",
    "    print(classification_report(y_test, y_pred))"
   ]
  },
  {
   "cell_type": "code",
   "execution_count": 19,
   "metadata": {},
   "outputs": [],
   "source": [
    "# SVC\n",
    "def svc(X_train, X_test, y_train, y_test):\n",
    "    svc = SVC(random_state=42)\n",
    "    svc.fit(X_train, y_train)\n",
    "    y_pred = svc.predict(X_test)\n",
    "    \n",
    "    print('Support Vector Classification (SVC) \\n')\n",
    "    \n",
    "    # accuracy scores\n",
    "    print('Accuracy Score, Training Set:', svc.score(X_train, y_train))\n",
    "    print('Accuracy Score, Test Set:', svc.score(X_test, y_test))\n",
    "    \n",
    "    # confusion matrix\n",
    "    cm = confusion_matrix(y_test, y_pred)\n",
    "    \n",
    "    print('Confusion Matrix: \\n', cm)\n",
    "    print()\n",
    "    \n",
    "    # classification report\n",
    "    print('Classification Report \\n')\n",
    "    print(classification_report(y_test, y_pred))"
   ]
  },
  {
   "cell_type": "code",
   "execution_count": 53,
   "metadata": {},
   "outputs": [],
   "source": [
    "# Extra Trees Classifier\n",
    "def etc(X_train, X_test, y_train, y_test):\n",
    "    etc = ExtraTreesClassifier(random_state=42)\n",
    "    etc.fit(X_train, y_train)\n",
    "    etc_pred = etc.predict(X_test)\n",
    "\n",
    "    # accuracy scores\n",
    "    print('Accuracy Score, Training Set:', etc.score(X_train, y_train))\n",
    "    print('Accuracy Score, Test Set:', etc.score(X_test, y_test))\n",
    "\n",
    "    # confusion matrix\n",
    "    cm = confusion_matrix(y_test, etc_pred)\n",
    "    print ('Confusion Matrix \\n', cm)\n",
    "\n",
    "    # classification report\n",
    "    print('Classification Report \\n')\n",
    "    print(classification_report(y_test, etc_pred))"
   ]
  },
  {
   "cell_type": "markdown",
   "metadata": {},
   "source": [
    "# Under Sampling Methods"
   ]
  },
  {
   "cell_type": "markdown",
   "metadata": {},
   "source": [
    "## Random Under Sampler"
   ]
  },
  {
   "cell_type": "code",
   "execution_count": 14,
   "metadata": {},
   "outputs": [
    {
     "name": "stdout",
     "output_type": "stream",
     "text": [
      "Random undersampling Counter({'NO': 24422, 'YES': 24422})\n",
      "(36633, 65) (36633,)\n",
      "(12211, 65) (12211,)\n"
     ]
    }
   ],
   "source": [
    "random_under = RandomUnderSampler(random_state=42)\n",
    "X_rs, y_rs = random_under.fit_sample(X, y)\n",
    "\n",
    "print('Random undersampling {}'.format(Counter(y_rs)))\n",
    "\n",
    "# train test split\n",
    "X_train_rs, X_test_rs, y_train_rs, y_test_rs = train_test_split(X_rs, y_rs, test_size=0.25, random_state=42)\n",
    "\n",
    "print(X_train_rs.shape, y_train_rs.shape)\n",
    "print(X_test_rs.shape, y_test_rs.shape)"
   ]
  },
  {
   "cell_type": "code",
   "execution_count": 15,
   "metadata": {},
   "outputs": [
    {
     "name": "stderr",
     "output_type": "stream",
     "text": [
      "/Users/annatang/anaconda3/lib/python3.7/site-packages/sklearn/linear_model/_logistic.py:940: ConvergenceWarning: lbfgs failed to converge (status=1):\n",
      "STOP: TOTAL NO. of ITERATIONS REACHED LIMIT.\n",
      "\n",
      "Increase the number of iterations (max_iter) or scale the data as shown in:\n",
      "    https://scikit-learn.org/stable/modules/preprocessing.html\n",
      "Please also refer to the documentation for alternative solver options:\n",
      "    https://scikit-learn.org/stable/modules/linear_model.html#logistic-regression\n",
      "  extra_warning_msg=_LOGISTIC_SOLVER_CONVERGENCE_MSG)\n"
     ]
    },
    {
     "name": "stdout",
     "output_type": "stream",
     "text": [
      "Logistic Regression \n",
      "\n",
      "Accuracy Score, Training Set:  0.5815248546392597\n",
      "Accuracy Score, Test Set:  0.5775120792727868\n",
      "Confusion Matrix: \n",
      " [[3552 2495]\n",
      " [2664 3500]]\n",
      "\n",
      "Classification Report \n",
      "\n",
      "              precision    recall  f1-score   support\n",
      "\n",
      "          NO       0.57      0.59      0.58      6047\n",
      "         YES       0.58      0.57      0.58      6164\n",
      "\n",
      "    accuracy                           0.58     12211\n",
      "   macro avg       0.58      0.58      0.58     12211\n",
      "weighted avg       0.58      0.58      0.58     12211\n",
      "\n"
     ]
    }
   ],
   "source": [
    "logreg(X_train_rs, X_test_rs, y_train_rs, y_test_rs)"
   ]
  },
  {
   "cell_type": "code",
   "execution_count": 16,
   "metadata": {},
   "outputs": [
    {
     "name": "stdout",
     "output_type": "stream",
     "text": [
      "Decision Tree Classifier \n",
      "\n",
      "Accuracy Score, Training Set: 0.9999454044167827\n",
      "Accuracy Score, Test Set: 0.5226435181393825\n",
      "Confusion Matrix: \n",
      " [[3201 2846]\n",
      " [2983 3181]]\n",
      "\n",
      "Classification Report \n",
      "\n",
      "              precision    recall  f1-score   support\n",
      "\n",
      "          NO       0.52      0.53      0.52      6047\n",
      "         YES       0.53      0.52      0.52      6164\n",
      "\n",
      "    accuracy                           0.52     12211\n",
      "   macro avg       0.52      0.52      0.52     12211\n",
      "weighted avg       0.52      0.52      0.52     12211\n",
      "\n"
     ]
    }
   ],
   "source": [
    "decision_tree(X_train_rs, X_test_rs, y_train_rs, y_test_rs)"
   ]
  },
  {
   "cell_type": "code",
   "execution_count": 17,
   "metadata": {},
   "outputs": [
    {
     "name": "stdout",
     "output_type": "stream",
     "text": [
      "Random Forest Classifier \n",
      "\n",
      "Accuracy Score, Training Set: 0.9999454044167827\n",
      "Accuracy Score, Test Set: 0.5739087707804439\n",
      "Confusion Matrix: \n",
      " [[3477 2570]\n",
      " [2633 3531]]\n",
      "\n",
      "Classification Report \n",
      "\n",
      "              precision    recall  f1-score   support\n",
      "\n",
      "          NO       0.57      0.57      0.57      6047\n",
      "         YES       0.58      0.57      0.58      6164\n",
      "\n",
      "    accuracy                           0.57     12211\n",
      "   macro avg       0.57      0.57      0.57     12211\n",
      "weighted avg       0.57      0.57      0.57     12211\n",
      "\n"
     ]
    }
   ],
   "source": [
    "random_forest(X_train_rs, X_test_rs, y_train_rs, y_test_rs)"
   ]
  },
  {
   "cell_type": "code",
   "execution_count": 18,
   "metadata": {},
   "outputs": [
    {
     "name": "stdout",
     "output_type": "stream",
     "text": [
      "Gaussian Naive Bayes \n",
      "\n",
      "Accuracy Score, Training Set: 0.5295225616247645\n",
      "Accuracy Score, Test Set: 0.5256735730079437\n",
      "Confusion Matrix: \n",
      " [[ 964 5083]\n",
      " [ 709 5455]]\n",
      "\n",
      "Classification Report \n",
      "\n",
      "              precision    recall  f1-score   support\n",
      "\n",
      "          NO       0.58      0.16      0.25      6047\n",
      "         YES       0.52      0.88      0.65      6164\n",
      "\n",
      "    accuracy                           0.53     12211\n",
      "   macro avg       0.55      0.52      0.45     12211\n",
      "weighted avg       0.55      0.53      0.45     12211\n",
      "\n"
     ]
    }
   ],
   "source": [
    "gaussian(X_train_rs, X_test_rs, y_train_rs, y_test_rs)"
   ]
  },
  {
   "cell_type": "code",
   "execution_count": 20,
   "metadata": {},
   "outputs": [
    {
     "name": "stdout",
     "output_type": "stream",
     "text": [
      "Support Vector Classification (SVC) \n",
      "\n",
      "Accuracy Score, Training Set: 0.5755193404853547\n",
      "Accuracy Score, Test Set: 0.5737449840307919\n",
      "Confusion Matrix: \n",
      " [[3149 2898]\n",
      " [2307 3857]]\n",
      "\n",
      "Classification Report \n",
      "\n",
      "              precision    recall  f1-score   support\n",
      "\n",
      "          NO       0.58      0.52      0.55      6047\n",
      "         YES       0.57      0.63      0.60      6164\n",
      "\n",
      "    accuracy                           0.57     12211\n",
      "   macro avg       0.57      0.57      0.57     12211\n",
      "weighted avg       0.57      0.57      0.57     12211\n",
      "\n"
     ]
    }
   ],
   "source": [
    "svc(X_train_rs, X_test_rs, y_train_rs, y_test_rs)"
   ]
  },
  {
   "cell_type": "code",
   "execution_count": 68,
   "metadata": {},
   "outputs": [
    {
     "name": "stdout",
     "output_type": "stream",
     "text": [
      "Accuracy Score, Training Set: 0.9999821057905661\n",
      "Accuracy Score, Test Set: 0.7087717414644621\n",
      "Confusion Matrix \n",
      " [[6802 2531]\n",
      " [2894 6401]]\n",
      "Classification Report \n",
      "\n",
      "              precision    recall  f1-score   support\n",
      "\n",
      "          NO       0.70      0.73      0.71      9333\n",
      "         YES       0.72      0.69      0.70      9295\n",
      "\n",
      "    accuracy                           0.71     18628\n",
      "   macro avg       0.71      0.71      0.71     18628\n",
      "weighted avg       0.71      0.71      0.71     18628\n",
      "\n"
     ]
    }
   ],
   "source": [
    "etc(X_train_rs, X_test_rs, y_train_rs, y_test_rs)"
   ]
  },
  {
   "cell_type": "markdown",
   "metadata": {},
   "source": [
    "## Edited Nearest Neighbours"
   ]
  },
  {
   "cell_type": "code",
   "execution_count": 28,
   "metadata": {},
   "outputs": [
    {
     "name": "stdout",
     "output_type": "stream",
     "text": [
      "Resampled dataset shape: Counter({'YES': 24422, 'NO': 9504})\n",
      "(27140, 65) (27140,)\n",
      "(6786, 65) (6786,)\n"
     ]
    }
   ],
   "source": [
    "enn = EditedNearestNeighbours()\n",
    "X_enn, y_enn = enn.fit_resample(X, y)\n",
    "\n",
    "print('Resampled dataset shape: {}'.format(Counter(y_enn)))\n",
    "\n",
    "# train test split\n",
    "X_train_enn, X_test_enn, y_train_enn, y_test_enn = train_test_split(X_enn, y_enn, test_size=0.2, random_state=42)\n",
    "\n",
    "print(X_train_enn.shape, y_train_enn.shape)\n",
    "print(X_test_enn.shape, y_test_enn.shape)"
   ]
  },
  {
   "cell_type": "code",
   "execution_count": 29,
   "metadata": {},
   "outputs": [
    {
     "name": "stderr",
     "output_type": "stream",
     "text": [
      "/Users/annatang/anaconda3/lib/python3.7/site-packages/sklearn/linear_model/_logistic.py:940: ConvergenceWarning: lbfgs failed to converge (status=1):\n",
      "STOP: TOTAL NO. of ITERATIONS REACHED LIMIT.\n",
      "\n",
      "Increase the number of iterations (max_iter) or scale the data as shown in:\n",
      "    https://scikit-learn.org/stable/modules/preprocessing.html\n",
      "Please also refer to the documentation for alternative solver options:\n",
      "    https://scikit-learn.org/stable/modules/linear_model.html#logistic-regression\n",
      "  extra_warning_msg=_LOGISTIC_SOLVER_CONVERGENCE_MSG)\n"
     ]
    },
    {
     "name": "stdout",
     "output_type": "stream",
     "text": [
      "Logistic Regression \n",
      "\n",
      "Accuracy Score, Training Set:  0.7372512896094325\n",
      "Accuracy Score, Test Set:  0.7399056881815502\n",
      "Confusion Matrix: \n",
      " [[ 373 1531]\n",
      " [ 234 4648]]\n",
      "\n",
      "Classification Report \n",
      "\n",
      "              precision    recall  f1-score   support\n",
      "\n",
      "          NO       0.61      0.20      0.30      1904\n",
      "         YES       0.75      0.95      0.84      4882\n",
      "\n",
      "    accuracy                           0.74      6786\n",
      "   macro avg       0.68      0.57      0.57      6786\n",
      "weighted avg       0.71      0.74      0.69      6786\n",
      "\n"
     ]
    }
   ],
   "source": [
    "logreg(X_train_enn, X_test_enn, y_train_enn, y_test_enn)"
   ]
  },
  {
   "cell_type": "code",
   "execution_count": 24,
   "metadata": {},
   "outputs": [
    {
     "name": "stdout",
     "output_type": "stream",
     "text": [
      "Decision Tree Classifier \n",
      "\n",
      "Accuracy Score, Training Set: 1.0\n",
      "Accuracy Score, Test Set: 0.6683565196887526\n",
      "Confusion Matrix: \n",
      " [[1038 1333]\n",
      " [1480 4631]]\n",
      "\n",
      "Classification Report \n",
      "\n",
      "              precision    recall  f1-score   support\n",
      "\n",
      "          NO       0.41      0.44      0.42      2371\n",
      "         YES       0.78      0.76      0.77      6111\n",
      "\n",
      "    accuracy                           0.67      8482\n",
      "   macro avg       0.59      0.60      0.60      8482\n",
      "weighted avg       0.67      0.67      0.67      8482\n",
      "\n"
     ]
    }
   ],
   "source": [
    "decision_tree(X_train_enn, X_test_enn, y_train_enn, y_test_enn)"
   ]
  },
  {
   "cell_type": "code",
   "execution_count": 25,
   "metadata": {},
   "outputs": [
    {
     "name": "stdout",
     "output_type": "stream",
     "text": [
      "Random Forest Classifier \n",
      "\n",
      "Accuracy Score, Training Set: 1.0\n",
      "Accuracy Score, Test Set: 0.7552464041499646\n",
      "Confusion Matrix: \n",
      " [[ 660 1711]\n",
      " [ 365 5746]]\n",
      "\n",
      "Classification Report \n",
      "\n",
      "              precision    recall  f1-score   support\n",
      "\n",
      "          NO       0.64      0.28      0.39      2371\n",
      "         YES       0.77      0.94      0.85      6111\n",
      "\n",
      "    accuracy                           0.76      8482\n",
      "   macro avg       0.71      0.61      0.62      8482\n",
      "weighted avg       0.74      0.76      0.72      8482\n",
      "\n"
     ]
    }
   ],
   "source": [
    "random_forest(X_train_enn, X_test_enn, y_train_enn, y_test_enn)"
   ]
  },
  {
   "cell_type": "code",
   "execution_count": 26,
   "metadata": {},
   "outputs": [
    {
     "name": "stdout",
     "output_type": "stream",
     "text": [
      "Gaussian Naive Bayes \n",
      "\n",
      "Accuracy Score, Training Set: 0.6697060210658702\n",
      "Accuracy Score, Test Set: 0.6658806885168592\n",
      "Confusion Matrix: \n",
      " [[1168 1203]\n",
      " [1631 4480]]\n",
      "\n",
      "Classification Report \n",
      "\n",
      "              precision    recall  f1-score   support\n",
      "\n",
      "          NO       0.42      0.49      0.45      2371\n",
      "         YES       0.79      0.73      0.76      6111\n",
      "\n",
      "    accuracy                           0.67      8482\n",
      "   macro avg       0.60      0.61      0.61      8482\n",
      "weighted avg       0.68      0.67      0.67      8482\n",
      "\n"
     ]
    }
   ],
   "source": [
    "gaussian(X_train_enn, X_test_enn, y_train_enn, y_test_enn)"
   ]
  },
  {
   "cell_type": "code",
   "execution_count": 27,
   "metadata": {},
   "outputs": [
    {
     "name": "stdout",
     "output_type": "stream",
     "text": [
      "Support Vector Classification (SVC) \n",
      "\n",
      "Accuracy Score, Training Set: 0.7196588586700204\n",
      "Accuracy Score, Test Set: 0.7204668710209856\n",
      "Confusion Matrix: \n",
      " [[   0 2371]\n",
      " [   0 6111]]\n",
      "\n",
      "Classification Report \n",
      "\n"
     ]
    },
    {
     "name": "stderr",
     "output_type": "stream",
     "text": [
      "/Users/annatang/anaconda3/lib/python3.7/site-packages/sklearn/metrics/_classification.py:1272: UndefinedMetricWarning: Precision and F-score are ill-defined and being set to 0.0 in labels with no predicted samples. Use `zero_division` parameter to control this behavior.\n",
      "  _warn_prf(average, modifier, msg_start, len(result))\n"
     ]
    },
    {
     "name": "stdout",
     "output_type": "stream",
     "text": [
      "              precision    recall  f1-score   support\n",
      "\n",
      "          NO       0.00      0.00      0.00      2371\n",
      "         YES       0.72      1.00      0.84      6111\n",
      "\n",
      "    accuracy                           0.72      8482\n",
      "   macro avg       0.36      0.50      0.42      8482\n",
      "weighted avg       0.52      0.72      0.60      8482\n",
      "\n"
     ]
    }
   ],
   "source": [
    "svc(X_train_enn, X_test_enn, y_train_enn, y_test_enn)"
   ]
  },
  {
   "cell_type": "code",
   "execution_count": 69,
   "metadata": {},
   "outputs": [
    {
     "name": "stdout",
     "output_type": "stream",
     "text": [
      "Accuracy Score, Training Set: 1.0\n",
      "Accuracy Score, Test Set: 0.7325375773651636\n",
      "Confusion Matrix \n",
      " [[ 504 1400]\n",
      " [ 415 4467]]\n",
      "Classification Report \n",
      "\n",
      "              precision    recall  f1-score   support\n",
      "\n",
      "          NO       0.55      0.26      0.36      1904\n",
      "         YES       0.76      0.91      0.83      4882\n",
      "\n",
      "    accuracy                           0.73      6786\n",
      "   macro avg       0.65      0.59      0.59      6786\n",
      "weighted avg       0.70      0.73      0.70      6786\n",
      "\n"
     ]
    }
   ],
   "source": [
    "etc(X_train_enn, X_test_enn, y_train_enn, y_test_enn)"
   ]
  },
  {
   "cell_type": "markdown",
   "metadata": {},
   "source": [
    "## Tomek Links"
   ]
  },
  {
   "cell_type": "code",
   "execution_count": 30,
   "metadata": {},
   "outputs": [
    {
     "name": "stdout",
     "output_type": "stream",
     "text": [
      "TomekLinks undersampling Counter({'NO': 31621, 'YES': 24422})\n",
      "(42032, 65) (42032,)\n",
      "(14011, 65) (14011,)\n"
     ]
    }
   ],
   "source": [
    "tomek = TomekLinks()\n",
    "X_tomek, y_tomek = tomek.fit_resample(X, y)\n",
    "\n",
    "print('TomekLinks undersampling {}'.format(Counter(y_tomek)))\n",
    "\n",
    "# train test split\n",
    "X_train_tl, X_test_tl, y_train_tl, y_test_tl = train_test_split(X_tomek, y_tomek, test_size=0.25, random_state=42)\n",
    "\n",
    "print(X_train_tl.shape, y_train_tl.shape)\n",
    "print(X_test_tl.shape, y_test_tl.shape)"
   ]
  },
  {
   "cell_type": "code",
   "execution_count": 31,
   "metadata": {},
   "outputs": [
    {
     "name": "stderr",
     "output_type": "stream",
     "text": [
      "/Users/annatang/anaconda3/lib/python3.7/site-packages/sklearn/linear_model/_logistic.py:940: ConvergenceWarning: lbfgs failed to converge (status=1):\n",
      "STOP: TOTAL NO. of ITERATIONS REACHED LIMIT.\n",
      "\n",
      "Increase the number of iterations (max_iter) or scale the data as shown in:\n",
      "    https://scikit-learn.org/stable/modules/preprocessing.html\n",
      "Please also refer to the documentation for alternative solver options:\n",
      "    https://scikit-learn.org/stable/modules/linear_model.html#logistic-regression\n",
      "  extra_warning_msg=_LOGISTIC_SOLVER_CONVERGENCE_MSG)\n"
     ]
    },
    {
     "name": "stdout",
     "output_type": "stream",
     "text": [
      "Logistic Regression \n",
      "\n",
      "Accuracy Score, Training Set:  0.5982346783403122\n",
      "Accuracy Score, Test Set:  0.597102276782528\n",
      "Confusion Matrix: \n",
      " [[6361 1554]\n",
      " [4091 2005]]\n",
      "\n",
      "Classification Report \n",
      "\n",
      "              precision    recall  f1-score   support\n",
      "\n",
      "          NO       0.61      0.80      0.69      7915\n",
      "         YES       0.56      0.33      0.42      6096\n",
      "\n",
      "    accuracy                           0.60     14011\n",
      "   macro avg       0.59      0.57      0.55     14011\n",
      "weighted avg       0.59      0.60      0.57     14011\n",
      "\n"
     ]
    }
   ],
   "source": [
    "logreg(X_train_tl, X_test_tl, y_train_tl, y_test_tl)"
   ]
  },
  {
   "cell_type": "code",
   "execution_count": 32,
   "metadata": {},
   "outputs": [
    {
     "name": "stdout",
     "output_type": "stream",
     "text": [
      "Decision Tree Classifier \n",
      "\n",
      "Accuracy Score, Training Set: 1.0\n",
      "Accuracy Score, Test Set: 0.5418599671686533\n",
      "Confusion Matrix: \n",
      " [[4688 3227]\n",
      " [3192 2904]]\n",
      "\n",
      "Classification Report \n",
      "\n",
      "              precision    recall  f1-score   support\n",
      "\n",
      "          NO       0.59      0.59      0.59      7915\n",
      "         YES       0.47      0.48      0.48      6096\n",
      "\n",
      "    accuracy                           0.54     14011\n",
      "   macro avg       0.53      0.53      0.53     14011\n",
      "weighted avg       0.54      0.54      0.54     14011\n",
      "\n"
     ]
    }
   ],
   "source": [
    "decision_tree(X_train_tl, X_test_tl, y_train_tl, y_test_tl)"
   ]
  },
  {
   "cell_type": "code",
   "execution_count": 33,
   "metadata": {},
   "outputs": [
    {
     "name": "stdout",
     "output_type": "stream",
     "text": [
      "Random Forest Classifier \n",
      "\n",
      "Accuracy Score, Training Set: 1.0\n",
      "Accuracy Score, Test Set: 0.6028120762258226\n",
      "Confusion Matrix: \n",
      " [[5947 1968]\n",
      " [3597 2499]]\n",
      "\n",
      "Classification Report \n",
      "\n",
      "              precision    recall  f1-score   support\n",
      "\n",
      "          NO       0.62      0.75      0.68      7915\n",
      "         YES       0.56      0.41      0.47      6096\n",
      "\n",
      "    accuracy                           0.60     14011\n",
      "   macro avg       0.59      0.58      0.58     14011\n",
      "weighted avg       0.60      0.60      0.59     14011\n",
      "\n"
     ]
    }
   ],
   "source": [
    "random_forest(X_train_tl, X_test_tl, y_train_tl, y_test_tl)"
   ]
  },
  {
   "cell_type": "code",
   "execution_count": 34,
   "metadata": {},
   "outputs": [
    {
     "name": "stdout",
     "output_type": "stream",
     "text": [
      "Gaussian Naive Bayes \n",
      "\n",
      "Accuracy Score, Training Set: 0.487557099352874\n",
      "Accuracy Score, Test Set: 0.4874027549782314\n",
      "Confusion Matrix: \n",
      " [[1428 6487]\n",
      " [ 695 5401]]\n",
      "\n",
      "Classification Report \n",
      "\n",
      "              precision    recall  f1-score   support\n",
      "\n",
      "          NO       0.67      0.18      0.28      7915\n",
      "         YES       0.45      0.89      0.60      6096\n",
      "\n",
      "    accuracy                           0.49     14011\n",
      "   macro avg       0.56      0.53      0.44     14011\n",
      "weighted avg       0.58      0.49      0.42     14011\n",
      "\n"
     ]
    }
   ],
   "source": [
    "gaussian(X_train_tl, X_test_tl, y_train_tl, y_test_tl)"
   ]
  },
  {
   "cell_type": "code",
   "execution_count": 35,
   "metadata": {},
   "outputs": [
    {
     "name": "stdout",
     "output_type": "stream",
     "text": [
      "Support Vector Classification (SVC) \n",
      "\n",
      "Accuracy Score, Training Set: 0.5724685953559193\n",
      "Accuracy Score, Test Set: 0.5745485689815145\n",
      "Confusion Matrix: \n",
      " [[7661  254]\n",
      " [5707  389]]\n",
      "\n",
      "Classification Report \n",
      "\n",
      "              precision    recall  f1-score   support\n",
      "\n",
      "          NO       0.57      0.97      0.72      7915\n",
      "         YES       0.60      0.06      0.12      6096\n",
      "\n",
      "    accuracy                           0.57     14011\n",
      "   macro avg       0.59      0.52      0.42     14011\n",
      "weighted avg       0.59      0.57      0.46     14011\n",
      "\n"
     ]
    }
   ],
   "source": [
    "svc(X_train_tl, X_test_tl, y_train_tl, y_test_tl)"
   ]
  },
  {
   "cell_type": "code",
   "execution_count": 70,
   "metadata": {},
   "outputs": [
    {
     "name": "stdout",
     "output_type": "stream",
     "text": [
      "Accuracy Score, Training Set: 1.0\n",
      "Accuracy Score, Test Set: 0.5865391478124331\n",
      "Confusion Matrix \n",
      " [[5617 2298]\n",
      " [3495 2601]]\n",
      "Classification Report \n",
      "\n",
      "              precision    recall  f1-score   support\n",
      "\n",
      "          NO       0.62      0.71      0.66      7915\n",
      "         YES       0.53      0.43      0.47      6096\n",
      "\n",
      "    accuracy                           0.59     14011\n",
      "   macro avg       0.57      0.57      0.57     14011\n",
      "weighted avg       0.58      0.59      0.58     14011\n",
      "\n"
     ]
    }
   ],
   "source": [
    "etc(X_train_tl, X_test_tl, y_train_tl, y_test_tl)"
   ]
  },
  {
   "cell_type": "markdown",
   "metadata": {},
   "source": [
    "## Near Miss"
   ]
  },
  {
   "cell_type": "code",
   "execution_count": 36,
   "metadata": {},
   "outputs": [
    {
     "name": "stdout",
     "output_type": "stream",
     "text": [
      "Resampled dataset shape: Counter({'NO': 24422, 'YES': 24422})\n",
      "(36633, 65) (36633,)\n",
      "(12211, 65) (12211,)\n"
     ]
    }
   ],
   "source": [
    "nm = NearMiss()\n",
    "X_nm, y_nm = nm.fit_resample(X, y)\n",
    "print('Resampled dataset shape: {}'.format(Counter(y_nm)))\n",
    "\n",
    "# train test split\n",
    "X_train_nm, X_test_nm, y_train_nm, y_test_nm = train_test_split(X_nm, y_nm, test_size=0.25, random_state=42)\n",
    "\n",
    "print(X_train_nm.shape, y_train_nm.shape)\n",
    "print(X_test_nm.shape, y_test_nm.shape)"
   ]
  },
  {
   "cell_type": "code",
   "execution_count": 37,
   "metadata": {},
   "outputs": [
    {
     "name": "stderr",
     "output_type": "stream",
     "text": [
      "/Users/annatang/anaconda3/lib/python3.7/site-packages/sklearn/linear_model/_logistic.py:940: ConvergenceWarning: lbfgs failed to converge (status=1):\n",
      "STOP: TOTAL NO. of ITERATIONS REACHED LIMIT.\n",
      "\n",
      "Increase the number of iterations (max_iter) or scale the data as shown in:\n",
      "    https://scikit-learn.org/stable/modules/preprocessing.html\n",
      "Please also refer to the documentation for alternative solver options:\n",
      "    https://scikit-learn.org/stable/modules/linear_model.html#logistic-regression\n",
      "  extra_warning_msg=_LOGISTIC_SOLVER_CONVERGENCE_MSG)\n"
     ]
    },
    {
     "name": "stdout",
     "output_type": "stream",
     "text": [
      "Logistic Regression \n",
      "\n",
      "Accuracy Score, Training Set:  0.6261021483361996\n",
      "Accuracy Score, Test Set:  0.6290230120383261\n",
      "Confusion Matrix: \n",
      " [[4220 1827]\n",
      " [2703 3461]]\n",
      "\n",
      "Classification Report \n",
      "\n",
      "              precision    recall  f1-score   support\n",
      "\n",
      "          NO       0.61      0.70      0.65      6047\n",
      "         YES       0.65      0.56      0.60      6164\n",
      "\n",
      "    accuracy                           0.63     12211\n",
      "   macro avg       0.63      0.63      0.63     12211\n",
      "weighted avg       0.63      0.63      0.63     12211\n",
      "\n"
     ]
    }
   ],
   "source": [
    "logreg(X_train_nm, X_test_nm, y_train_nm, y_test_nm)"
   ]
  },
  {
   "cell_type": "code",
   "execution_count": 38,
   "metadata": {},
   "outputs": [
    {
     "name": "stdout",
     "output_type": "stream",
     "text": [
      "Decision Tree Classifier \n",
      "\n",
      "Accuracy Score, Training Set: 0.9999727022083913\n",
      "Accuracy Score, Test Set: 0.5618704446810253\n",
      "Confusion Matrix: \n",
      " [[3431 2616]\n",
      " [2734 3430]]\n",
      "\n",
      "Classification Report \n",
      "\n",
      "              precision    recall  f1-score   support\n",
      "\n",
      "          NO       0.56      0.57      0.56      6047\n",
      "         YES       0.57      0.56      0.56      6164\n",
      "\n",
      "    accuracy                           0.56     12211\n",
      "   macro avg       0.56      0.56      0.56     12211\n",
      "weighted avg       0.56      0.56      0.56     12211\n",
      "\n"
     ]
    }
   ],
   "source": [
    "decision_tree(X_train_nm, X_test_nm, y_train_nm, y_test_nm)"
   ]
  },
  {
   "cell_type": "code",
   "execution_count": 39,
   "metadata": {},
   "outputs": [
    {
     "name": "stdout",
     "output_type": "stream",
     "text": [
      "Random Forest Classifier \n",
      "\n",
      "Accuracy Score, Training Set: 0.9999727022083913\n",
      "Accuracy Score, Test Set: 0.622471542052248\n",
      "Confusion Matrix: \n",
      " [[4086 1961]\n",
      " [2649 3515]]\n",
      "\n",
      "Classification Report \n",
      "\n",
      "              precision    recall  f1-score   support\n",
      "\n",
      "          NO       0.61      0.68      0.64      6047\n",
      "         YES       0.64      0.57      0.60      6164\n",
      "\n",
      "    accuracy                           0.62     12211\n",
      "   macro avg       0.62      0.62      0.62     12211\n",
      "weighted avg       0.62      0.62      0.62     12211\n",
      "\n"
     ]
    }
   ],
   "source": [
    "random_forest(X_train_nm, X_test_nm, y_train_nm, y_test_nm)"
   ]
  },
  {
   "cell_type": "code",
   "execution_count": 40,
   "metadata": {},
   "outputs": [
    {
     "name": "stdout",
     "output_type": "stream",
     "text": [
      "Gaussian Naive Bayes \n",
      "\n",
      "Accuracy Score, Training Set: 0.6146916714437802\n",
      "Accuracy Score, Test Set: 0.6105970027024814\n",
      "Confusion Matrix: \n",
      " [[4207 1840]\n",
      " [2915 3249]]\n",
      "\n",
      "Classification Report \n",
      "\n",
      "              precision    recall  f1-score   support\n",
      "\n",
      "          NO       0.59      0.70      0.64      6047\n",
      "         YES       0.64      0.53      0.58      6164\n",
      "\n",
      "    accuracy                           0.61     12211\n",
      "   macro avg       0.61      0.61      0.61     12211\n",
      "weighted avg       0.61      0.61      0.61     12211\n",
      "\n"
     ]
    }
   ],
   "source": [
    "gaussian(X_train_nm, X_test_nm, y_train_nm, y_test_nm)"
   ]
  },
  {
   "cell_type": "code",
   "execution_count": 42,
   "metadata": {},
   "outputs": [
    {
     "name": "stdout",
     "output_type": "stream",
     "text": [
      "Support Vector Classification (SVC) \n",
      "\n",
      "Accuracy Score, Training Set: 0.62711216662572\n",
      "Accuracy Score, Test Set: 0.6290230120383261\n",
      "Confusion Matrix: \n",
      " [[4808 1239]\n",
      " [3291 2873]]\n",
      "\n",
      "Classification Report \n",
      "\n",
      "              precision    recall  f1-score   support\n",
      "\n",
      "          NO       0.59      0.80      0.68      6047\n",
      "         YES       0.70      0.47      0.56      6164\n",
      "\n",
      "    accuracy                           0.63     12211\n",
      "   macro avg       0.65      0.63      0.62     12211\n",
      "weighted avg       0.65      0.63      0.62     12211\n",
      "\n"
     ]
    }
   ],
   "source": [
    "svc(X_train_nm, X_test_nm, y_train_nm, y_test_nm)"
   ]
  },
  {
   "cell_type": "code",
   "execution_count": 71,
   "metadata": {},
   "outputs": [
    {
     "name": "stdout",
     "output_type": "stream",
     "text": [
      "Accuracy Score, Training Set: 0.9999727022083913\n",
      "Accuracy Score, Test Set: 0.60167062484645\n",
      "Confusion Matrix \n",
      " [[3826 2221]\n",
      " [2643 3521]]\n",
      "Classification Report \n",
      "\n",
      "              precision    recall  f1-score   support\n",
      "\n",
      "          NO       0.59      0.63      0.61      6047\n",
      "         YES       0.61      0.57      0.59      6164\n",
      "\n",
      "    accuracy                           0.60     12211\n",
      "   macro avg       0.60      0.60      0.60     12211\n",
      "weighted avg       0.60      0.60      0.60     12211\n",
      "\n"
     ]
    }
   ],
   "source": [
    "etc(X_train_nm, X_test_nm, y_train_nm, y_test_nm)"
   ]
  },
  {
   "cell_type": "markdown",
   "metadata": {},
   "source": [
    "# Over Sampling Methods "
   ]
  },
  {
   "cell_type": "markdown",
   "metadata": {},
   "source": [
    "## Random Over Sampler"
   ]
  },
  {
   "cell_type": "code",
   "execution_count": 45,
   "metadata": {},
   "outputs": [
    {
     "name": "stdout",
     "output_type": "stream",
     "text": [
      "Resampled dataset shape: Counter({'YES': 37256, 'NO': 37256})\n",
      "(55884, 65) (55884,)\n",
      "(18628, 65) (18628,)\n"
     ]
    }
   ],
   "source": [
    "ros = RandomOverSampler(random_state=42)\n",
    "X_ros, y_ros = ros.fit_resample(X, y)\n",
    "\n",
    "print('Resampled dataset shape: {}'.format(Counter(y_ros)))\n",
    "\n",
    "# train test split\n",
    "X_train_rs, X_test_rs, y_train_rs, y_test_rs = train_test_split(X_ros, y_ros, test_size=0.25, random_state=42)\n",
    "\n",
    "print(X_train_rs.shape, y_train_rs.shape)\n",
    "print(X_test_rs.shape, y_test_rs.shape)"
   ]
  },
  {
   "cell_type": "code",
   "execution_count": 46,
   "metadata": {},
   "outputs": [
    {
     "name": "stderr",
     "output_type": "stream",
     "text": [
      "/Users/annatang/anaconda3/lib/python3.7/site-packages/sklearn/linear_model/_logistic.py:940: ConvergenceWarning: lbfgs failed to converge (status=1):\n",
      "STOP: TOTAL NO. of ITERATIONS REACHED LIMIT.\n",
      "\n",
      "Increase the number of iterations (max_iter) or scale the data as shown in:\n",
      "    https://scikit-learn.org/stable/modules/preprocessing.html\n",
      "Please also refer to the documentation for alternative solver options:\n",
      "    https://scikit-learn.org/stable/modules/linear_model.html#logistic-regression\n",
      "  extra_warning_msg=_LOGISTIC_SOLVER_CONVERGENCE_MSG)\n"
     ]
    },
    {
     "name": "stdout",
     "output_type": "stream",
     "text": [
      "Logistic Regression \n",
      "\n",
      "Accuracy Score, Training Set:  0.5860711473767088\n",
      "Accuracy Score, Test Set:  0.5759609190465965\n",
      "Confusion Matrix: \n",
      " [[5482 3851]\n",
      " [4048 5247]]\n",
      "\n",
      "Classification Report \n",
      "\n",
      "              precision    recall  f1-score   support\n",
      "\n",
      "          NO       0.58      0.59      0.58      9333\n",
      "         YES       0.58      0.56      0.57      9295\n",
      "\n",
      "    accuracy                           0.58     18628\n",
      "   macro avg       0.58      0.58      0.58     18628\n",
      "weighted avg       0.58      0.58      0.58     18628\n",
      "\n"
     ]
    }
   ],
   "source": [
    "logreg(X_train_rs, X_test_rs, y_train_rs, y_test_rs)"
   ]
  },
  {
   "cell_type": "code",
   "execution_count": 47,
   "metadata": {},
   "outputs": [
    {
     "name": "stdout",
     "output_type": "stream",
     "text": [
      "Decision Tree Classifier \n",
      "\n",
      "Accuracy Score, Training Set: 0.9999821057905661\n",
      "Accuracy Score, Test Set: 0.6647519862572472\n",
      "Confusion Matrix: \n",
      " [[5618 3715]\n",
      " [2530 6765]]\n",
      "\n",
      "Classification Report \n",
      "\n",
      "              precision    recall  f1-score   support\n",
      "\n",
      "          NO       0.69      0.60      0.64      9333\n",
      "         YES       0.65      0.73      0.68      9295\n",
      "\n",
      "    accuracy                           0.66     18628\n",
      "   macro avg       0.67      0.66      0.66     18628\n",
      "weighted avg       0.67      0.66      0.66     18628\n",
      "\n"
     ]
    }
   ],
   "source": [
    "decision_tree(X_train_rs, X_test_rs, y_train_rs, y_test_rs)"
   ]
  },
  {
   "cell_type": "code",
   "execution_count": 48,
   "metadata": {},
   "outputs": [
    {
     "name": "stdout",
     "output_type": "stream",
     "text": [
      "Random Forest Classifier \n",
      "\n",
      "Accuracy Score, Training Set: 0.9999821057905661\n",
      "Accuracy Score, Test Set: 0.7116169207644406\n",
      "Confusion Matrix: \n",
      " [[6605 2728]\n",
      " [2644 6651]]\n",
      "\n",
      "Classification Report \n",
      "\n",
      "              precision    recall  f1-score   support\n",
      "\n",
      "          NO       0.71      0.71      0.71      9333\n",
      "         YES       0.71      0.72      0.71      9295\n",
      "\n",
      "    accuracy                           0.71     18628\n",
      "   macro avg       0.71      0.71      0.71     18628\n",
      "weighted avg       0.71      0.71      0.71     18628\n",
      "\n"
     ]
    }
   ],
   "source": [
    "random_forest(X_train_rs, X_test_rs, y_train_rs, y_test_rs)"
   ]
  },
  {
   "cell_type": "code",
   "execution_count": 49,
   "metadata": {},
   "outputs": [
    {
     "name": "stdout",
     "output_type": "stream",
     "text": [
      "Gaussian Naive Bayes \n",
      "\n",
      "Accuracy Score, Training Set: 0.5299191181733591\n",
      "Accuracy Score, Test Set: 0.5266265836375349\n",
      "Confusion Matrix: \n",
      " [[1512 7821]\n",
      " [ 997 8298]]\n",
      "\n",
      "Classification Report \n",
      "\n",
      "              precision    recall  f1-score   support\n",
      "\n",
      "          NO       0.60      0.16      0.26      9333\n",
      "         YES       0.51      0.89      0.65      9295\n",
      "\n",
      "    accuracy                           0.53     18628\n",
      "   macro avg       0.56      0.53      0.45     18628\n",
      "weighted avg       0.56      0.53      0.45     18628\n",
      "\n"
     ]
    }
   ],
   "source": [
    "gaussian(X_train_rs, X_test_rs, y_train_rs, y_test_rs)"
   ]
  },
  {
   "cell_type": "code",
   "execution_count": 50,
   "metadata": {},
   "outputs": [
    {
     "name": "stdout",
     "output_type": "stream",
     "text": [
      "Support Vector Classification (SVC) \n",
      "\n",
      "Accuracy Score, Training Set: 0.5784661083673324\n",
      "Accuracy Score, Test Set: 0.5726325960919046\n",
      "Confusion Matrix: \n",
      " [[4766 4567]\n",
      " [3394 5901]]\n",
      "\n",
      "Classification Report \n",
      "\n",
      "              precision    recall  f1-score   support\n",
      "\n",
      "          NO       0.58      0.51      0.54      9333\n",
      "         YES       0.56      0.63      0.60      9295\n",
      "\n",
      "    accuracy                           0.57     18628\n",
      "   macro avg       0.57      0.57      0.57     18628\n",
      "weighted avg       0.57      0.57      0.57     18628\n",
      "\n"
     ]
    }
   ],
   "source": [
    "svc(X_train_rs, X_test_rs, y_train_rs, y_test_rs)"
   ]
  },
  {
   "cell_type": "code",
   "execution_count": 72,
   "metadata": {},
   "outputs": [
    {
     "name": "stdout",
     "output_type": "stream",
     "text": [
      "Accuracy Score, Training Set: 0.9999821057905661\n",
      "Accuracy Score, Test Set: 0.7087717414644621\n",
      "Confusion Matrix \n",
      " [[6802 2531]\n",
      " [2894 6401]]\n",
      "Classification Report \n",
      "\n",
      "              precision    recall  f1-score   support\n",
      "\n",
      "          NO       0.70      0.73      0.71      9333\n",
      "         YES       0.72      0.69      0.70      9295\n",
      "\n",
      "    accuracy                           0.71     18628\n",
      "   macro avg       0.71      0.71      0.71     18628\n",
      "weighted avg       0.71      0.71      0.71     18628\n",
      "\n"
     ]
    }
   ],
   "source": [
    "etc(X_train_rs, X_test_rs, y_train_rs, y_test_rs)"
   ]
  },
  {
   "cell_type": "markdown",
   "metadata": {},
   "source": [
    "## SMOTE"
   ]
  },
  {
   "cell_type": "code",
   "execution_count": 54,
   "metadata": {},
   "outputs": [
    {
     "name": "stdout",
     "output_type": "stream",
     "text": [
      "Resampled dataset shape: Counter({'YES': 37256, 'NO': 37256})\n",
      "(59609, 65) (59609,)\n",
      "(14903, 65) (14903,)\n"
     ]
    }
   ],
   "source": [
    "sm = SMOTE(random_state=42)\n",
    "X_sm, y_sm = sm.fit_resample(X, y)\n",
    "\n",
    "print('Resampled dataset shape: {}'.format(Counter(y_sm)))\n",
    "\n",
    "# train test split\n",
    "X_train_sm, X_test_sm, y_train_sm, y_test_sm = train_test_split(X_sm, y_sm, test_size=0.2, random_state=42)\n",
    "\n",
    "print(X_train_sm.shape, y_train_sm.shape)\n",
    "print(X_test_sm.shape, y_test_sm.shape)"
   ]
  },
  {
   "cell_type": "code",
   "execution_count": 55,
   "metadata": {},
   "outputs": [
    {
     "name": "stderr",
     "output_type": "stream",
     "text": [
      "/Users/annatang/anaconda3/lib/python3.7/site-packages/sklearn/linear_model/_logistic.py:940: ConvergenceWarning: lbfgs failed to converge (status=1):\n",
      "STOP: TOTAL NO. of ITERATIONS REACHED LIMIT.\n",
      "\n",
      "Increase the number of iterations (max_iter) or scale the data as shown in:\n",
      "    https://scikit-learn.org/stable/modules/preprocessing.html\n",
      "Please also refer to the documentation for alternative solver options:\n",
      "    https://scikit-learn.org/stable/modules/linear_model.html#logistic-regression\n",
      "  extra_warning_msg=_LOGISTIC_SOLVER_CONVERGENCE_MSG)\n"
     ]
    },
    {
     "name": "stdout",
     "output_type": "stream",
     "text": [
      "Logistic Regression \n",
      "\n",
      "Accuracy Score, Training Set:  0.6668959385327718\n",
      "Accuracy Score, Test Set:  0.658726430919949\n",
      "Confusion Matrix: \n",
      " [[5849 1621]\n",
      " [3465 3968]]\n",
      "\n",
      "Classification Report \n",
      "\n",
      "              precision    recall  f1-score   support\n",
      "\n",
      "          NO       0.63      0.78      0.70      7470\n",
      "         YES       0.71      0.53      0.61      7433\n",
      "\n",
      "    accuracy                           0.66     14903\n",
      "   macro avg       0.67      0.66      0.65     14903\n",
      "weighted avg       0.67      0.66      0.65     14903\n",
      "\n"
     ]
    }
   ],
   "source": [
    "logreg(X_train_sm, X_test_sm, y_train_sm, y_test_sm)"
   ]
  },
  {
   "cell_type": "code",
   "execution_count": 56,
   "metadata": {},
   "outputs": [
    {
     "name": "stdout",
     "output_type": "stream",
     "text": [
      "Decision Tree Classifier \n",
      "\n",
      "Accuracy Score, Training Set: 0.9999832240097972\n",
      "Accuracy Score, Test Set: 0.609340401261491\n",
      "Confusion Matrix: \n",
      " [[4440 3030]\n",
      " [2792 4641]]\n",
      "\n",
      "Classification Report \n",
      "\n",
      "              precision    recall  f1-score   support\n",
      "\n",
      "          NO       0.61      0.59      0.60      7470\n",
      "         YES       0.61      0.62      0.61      7433\n",
      "\n",
      "    accuracy                           0.61     14903\n",
      "   macro avg       0.61      0.61      0.61     14903\n",
      "weighted avg       0.61      0.61      0.61     14903\n",
      "\n"
     ]
    }
   ],
   "source": [
    "decision_tree(X_train_sm, X_test_sm, y_train_sm, y_test_sm)"
   ]
  },
  {
   "cell_type": "code",
   "execution_count": 57,
   "metadata": {},
   "outputs": [
    {
     "name": "stdout",
     "output_type": "stream",
     "text": [
      "Random Forest Classifier \n",
      "\n",
      "Accuracy Score, Training Set: 0.9999832240097972\n",
      "Accuracy Score, Test Set: 0.6721465476749647\n",
      "Confusion Matrix: \n",
      " [[5637 1833]\n",
      " [3053 4380]]\n",
      "\n",
      "Classification Report \n",
      "\n",
      "              precision    recall  f1-score   support\n",
      "\n",
      "          NO       0.65      0.75      0.70      7470\n",
      "         YES       0.70      0.59      0.64      7433\n",
      "\n",
      "    accuracy                           0.67     14903\n",
      "   macro avg       0.68      0.67      0.67     14903\n",
      "weighted avg       0.68      0.67      0.67     14903\n",
      "\n"
     ]
    }
   ],
   "source": [
    "random_forest(X_train_sm, X_test_sm, y_train_sm, y_test_sm)"
   ]
  },
  {
   "cell_type": "code",
   "execution_count": 58,
   "metadata": {},
   "outputs": [
    {
     "name": "stdout",
     "output_type": "stream",
     "text": [
      "Gaussian Naive Bayes \n",
      "\n",
      "Accuracy Score, Training Set: 0.5542787163012297\n",
      "Accuracy Score, Test Set: 0.5492182781990204\n",
      "Confusion Matrix: \n",
      " [[1577 5893]\n",
      " [ 825 6608]]\n",
      "\n",
      "Classification Report \n",
      "\n",
      "              precision    recall  f1-score   support\n",
      "\n",
      "          NO       0.66      0.21      0.32      7470\n",
      "         YES       0.53      0.89      0.66      7433\n",
      "\n",
      "    accuracy                           0.55     14903\n",
      "   macro avg       0.59      0.55      0.49     14903\n",
      "weighted avg       0.59      0.55      0.49     14903\n",
      "\n"
     ]
    }
   ],
   "source": [
    "gaussian(X_train_sm, X_test_sm, y_train_sm, y_test_sm)"
   ]
  },
  {
   "cell_type": "code",
   "execution_count": 59,
   "metadata": {},
   "outputs": [
    {
     "name": "stdout",
     "output_type": "stream",
     "text": [
      "Support Vector Classification (SVC) \n",
      "\n",
      "Accuracy Score, Training Set: 0.6421681289738127\n",
      "Accuracy Score, Test Set: 0.6364490371066228\n",
      "Confusion Matrix: \n",
      " [[5142 2328]\n",
      " [3090 4343]]\n",
      "\n",
      "Classification Report \n",
      "\n",
      "              precision    recall  f1-score   support\n",
      "\n",
      "          NO       0.62      0.69      0.65      7470\n",
      "         YES       0.65      0.58      0.62      7433\n",
      "\n",
      "    accuracy                           0.64     14903\n",
      "   macro avg       0.64      0.64      0.64     14903\n",
      "weighted avg       0.64      0.64      0.64     14903\n",
      "\n"
     ]
    }
   ],
   "source": [
    "svc(X_train_sm, X_test_sm, y_train_sm, y_test_sm)"
   ]
  },
  {
   "cell_type": "code",
   "execution_count": 60,
   "metadata": {},
   "outputs": [
    {
     "name": "stdout",
     "output_type": "stream",
     "text": [
      "Accuracy Score, Training Set: 0.9999832240097972\n",
      "Accuracy Score, Test Set: 0.6547003958934443\n",
      "Confusion Matrix \n",
      " [[5436 2034]\n",
      " [3112 4321]]\n",
      "Classification Report \n",
      "\n",
      "              precision    recall  f1-score   support\n",
      "\n",
      "          NO       0.64      0.73      0.68      7470\n",
      "         YES       0.68      0.58      0.63      7433\n",
      "\n",
      "    accuracy                           0.65     14903\n",
      "   macro avg       0.66      0.65      0.65     14903\n",
      "weighted avg       0.66      0.65      0.65     14903\n",
      "\n"
     ]
    }
   ],
   "source": [
    "etc(X_train_sm, X_test_sm, y_train_sm, y_test_sm)"
   ]
  },
  {
   "cell_type": "markdown",
   "metadata": {},
   "source": [
    "## ADASYN - Adaptive Synthetic"
   ]
  },
  {
   "cell_type": "code",
   "execution_count": 61,
   "metadata": {},
   "outputs": [
    {
     "name": "stdout",
     "output_type": "stream",
     "text": [
      "Resampled dataset shape: Counter({'YES': 40616, 'NO': 37256})\n",
      "(58404, 65) (58404,)\n",
      "(19468, 65) (19468,)\n"
     ]
    }
   ],
   "source": [
    "ada = ADASYN(random_state=42)\n",
    "X_ada, y_ada = ada.fit_resample(X, y)\n",
    "\n",
    "print('Resampled dataset shape: {}'.format(Counter(y_ada)))\n",
    "\n",
    "# train test split\n",
    "X_train_ada, X_test_ada, y_train_ada, y_test_ada = train_test_split(X_ada, y_ada, test_size=0.25, random_state=42)\n",
    "\n",
    "print(X_train_ada.shape, y_train_ada.shape)\n",
    "print(X_test_ada.shape, y_test_ada.shape)"
   ]
  },
  {
   "cell_type": "code",
   "execution_count": 62,
   "metadata": {},
   "outputs": [
    {
     "name": "stderr",
     "output_type": "stream",
     "text": [
      "/Users/annatang/anaconda3/lib/python3.7/site-packages/sklearn/linear_model/_logistic.py:940: ConvergenceWarning: lbfgs failed to converge (status=1):\n",
      "STOP: TOTAL NO. of ITERATIONS REACHED LIMIT.\n",
      "\n",
      "Increase the number of iterations (max_iter) or scale the data as shown in:\n",
      "    https://scikit-learn.org/stable/modules/preprocessing.html\n",
      "Please also refer to the documentation for alternative solver options:\n",
      "    https://scikit-learn.org/stable/modules/linear_model.html#logistic-regression\n",
      "  extra_warning_msg=_LOGISTIC_SOLVER_CONVERGENCE_MSG)\n"
     ]
    },
    {
     "name": "stdout",
     "output_type": "stream",
     "text": [
      "Logistic Regression \n",
      "\n",
      "Accuracy Score, Training Set:  0.6793541538250805\n",
      "Accuracy Score, Test Set:  0.6714608588452846\n",
      "Confusion Matrix: \n",
      " [[7230 2010]\n",
      " [4386 5842]]\n",
      "\n",
      "Classification Report \n",
      "\n",
      "              precision    recall  f1-score   support\n",
      "\n",
      "          NO       0.62      0.78      0.69      9240\n",
      "         YES       0.74      0.57      0.65     10228\n",
      "\n",
      "    accuracy                           0.67     19468\n",
      "   macro avg       0.68      0.68      0.67     19468\n",
      "weighted avg       0.69      0.67      0.67     19468\n",
      "\n"
     ]
    }
   ],
   "source": [
    "logreg(X_train_ada, X_test_ada, y_train_ada, y_test_ada)"
   ]
  },
  {
   "cell_type": "code",
   "execution_count": 63,
   "metadata": {},
   "outputs": [
    {
     "name": "stdout",
     "output_type": "stream",
     "text": [
      "Decision Tree Classifier \n",
      "\n",
      "Accuracy Score, Training Set: 0.9999828778850763\n",
      "Accuracy Score, Test Set: 0.6337065954386686\n",
      "Confusion Matrix: \n",
      " [[5675 3565]\n",
      " [3566 6662]]\n",
      "\n",
      "Classification Report \n",
      "\n",
      "              precision    recall  f1-score   support\n",
      "\n",
      "          NO       0.61      0.61      0.61      9240\n",
      "         YES       0.65      0.65      0.65     10228\n",
      "\n",
      "    accuracy                           0.63     19468\n",
      "   macro avg       0.63      0.63      0.63     19468\n",
      "weighted avg       0.63      0.63      0.63     19468\n",
      "\n"
     ]
    }
   ],
   "source": [
    "decision_tree(X_train_ada, X_test_ada, y_train_ada, y_test_ada)"
   ]
  },
  {
   "cell_type": "code",
   "execution_count": 64,
   "metadata": {},
   "outputs": [
    {
     "name": "stdout",
     "output_type": "stream",
     "text": [
      "Random Forest Classifier \n",
      "\n",
      "Accuracy Score, Training Set: 0.9999828778850763\n",
      "Accuracy Score, Test Set: 0.6744401068419972\n",
      "Confusion Matrix: \n",
      " [[6851 2389]\n",
      " [3949 6279]]\n",
      "\n",
      "Classification Report \n",
      "\n",
      "              precision    recall  f1-score   support\n",
      "\n",
      "          NO       0.63      0.74      0.68      9240\n",
      "         YES       0.72      0.61      0.66     10228\n",
      "\n",
      "    accuracy                           0.67     19468\n",
      "   macro avg       0.68      0.68      0.67     19468\n",
      "weighted avg       0.68      0.67      0.67     19468\n",
      "\n"
     ]
    }
   ],
   "source": [
    "random_forest(X_train_ada, X_test_ada, y_train_ada, y_test_ada)"
   ]
  },
  {
   "cell_type": "code",
   "execution_count": 65,
   "metadata": {},
   "outputs": [
    {
     "name": "stdout",
     "output_type": "stream",
     "text": [
      "Gaussian Naive Bayes \n",
      "\n",
      "Accuracy Score, Training Set: 0.574618176837203\n",
      "Accuracy Score, Test Set: 0.5752003287446066\n",
      "Confusion Matrix: \n",
      " [[2168 7072]\n",
      " [1198 9030]]\n",
      "\n",
      "Classification Report \n",
      "\n",
      "              precision    recall  f1-score   support\n",
      "\n",
      "          NO       0.64      0.23      0.34      9240\n",
      "         YES       0.56      0.88      0.69     10228\n",
      "\n",
      "    accuracy                           0.58     19468\n",
      "   macro avg       0.60      0.56      0.51     19468\n",
      "weighted avg       0.60      0.58      0.52     19468\n",
      "\n"
     ]
    }
   ],
   "source": [
    "gaussian(X_train_ada, X_test_ada, y_train_ada, y_test_ada)"
   ]
  },
  {
   "cell_type": "code",
   "execution_count": 66,
   "metadata": {},
   "outputs": [
    {
     "name": "stdout",
     "output_type": "stream",
     "text": [
      "Support Vector Classification (SVC) \n",
      "\n",
      "Accuracy Score, Training Set: 0.652849119923293\n",
      "Accuracy Score, Test Set: 0.6434148346003699\n",
      "Confusion Matrix: \n",
      " [[5850 3390]\n",
      " [3552 6676]]\n",
      "\n",
      "Classification Report \n",
      "\n",
      "              precision    recall  f1-score   support\n",
      "\n",
      "          NO       0.62      0.63      0.63      9240\n",
      "         YES       0.66      0.65      0.66     10228\n",
      "\n",
      "    accuracy                           0.64     19468\n",
      "   macro avg       0.64      0.64      0.64     19468\n",
      "weighted avg       0.64      0.64      0.64     19468\n",
      "\n"
     ]
    }
   ],
   "source": [
    "svc(X_train_ada, X_test_ada, y_train_ada, y_test_ada)"
   ]
  },
  {
   "cell_type": "code",
   "execution_count": 67,
   "metadata": {},
   "outputs": [
    {
     "name": "stdout",
     "output_type": "stream",
     "text": [
      "Accuracy Score, Training Set: 0.9999828778850763\n",
      "Accuracy Score, Test Set: 0.6667865214711322\n",
      "Confusion Matrix \n",
      " [[6651 2589]\n",
      " [3898 6330]]\n",
      "Classification Report \n",
      "\n",
      "              precision    recall  f1-score   support\n",
      "\n",
      "          NO       0.63      0.72      0.67      9240\n",
      "         YES       0.71      0.62      0.66     10228\n",
      "\n",
      "    accuracy                           0.67     19468\n",
      "   macro avg       0.67      0.67      0.67     19468\n",
      "weighted avg       0.67      0.67      0.67     19468\n",
      "\n"
     ]
    }
   ],
   "source": [
    "etc(X_train_ada, X_test_ada, y_train_ada, y_test_ada)"
   ]
  },
  {
   "cell_type": "code",
   "execution_count": null,
   "metadata": {},
   "outputs": [],
   "source": []
  }
 ],
 "metadata": {
  "kernelspec": {
   "display_name": "Python 3",
   "language": "python",
   "name": "python3"
  },
  "language_info": {
   "codemirror_mode": {
    "name": "ipython",
    "version": 3
   },
   "file_extension": ".py",
   "mimetype": "text/x-python",
   "name": "python",
   "nbconvert_exporter": "python",
   "pygments_lexer": "ipython3",
   "version": "3.7.5"
  }
 },
 "nbformat": 4,
 "nbformat_minor": 4
}
