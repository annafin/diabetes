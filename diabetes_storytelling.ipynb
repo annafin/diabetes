{
 "cells": [
  {
   "cell_type": "markdown",
   "metadata": {},
   "source": [
    "# General Overview - Data Storytelling"
   ]
  },
  {
   "cell_type": "code",
   "execution_count": null,
   "metadata": {},
   "outputs": [],
   "source": []
  },
  {
   "cell_type": "code",
   "execution_count": 54,
   "metadata": {},
   "outputs": [],
   "source": [
    "import pandas as pd\n",
    "import numpy as np\n",
    "import matplotlib.pyplot as plt\n",
    "import seaborn as sns\n",
    "import plotly.graph_objects as go\n",
    "\n",
    "sns.set(style='darkgrid')\n",
    "%matplotlib inline"
   ]
  },
  {
   "cell_type": "code",
   "execution_count": 10,
   "metadata": {},
   "outputs": [],
   "source": [
    "data = pd.read_csv('diabetes_cleaned.csv', index_col=0) # import data\n",
    "\n",
    "diabetes = data.copy() # save a copy of data as diabetes"
   ]
  },
  {
   "cell_type": "code",
   "execution_count": 13,
   "metadata": {},
   "outputs": [
    {
     "data": {
      "text/html": [
       "<div>\n",
       "<style scoped>\n",
       "    .dataframe tbody tr th:only-of-type {\n",
       "        vertical-align: middle;\n",
       "    }\n",
       "\n",
       "    .dataframe tbody tr th {\n",
       "        vertical-align: top;\n",
       "    }\n",
       "\n",
       "    .dataframe thead th {\n",
       "        text-align: right;\n",
       "    }\n",
       "</style>\n",
       "<table border=\"1\" class=\"dataframe\">\n",
       "  <thead>\n",
       "    <tr style=\"text-align: right;\">\n",
       "      <th></th>\n",
       "      <th>patient_nbr</th>\n",
       "      <th>race</th>\n",
       "      <th>gender</th>\n",
       "      <th>age</th>\n",
       "      <th>admission_type_id</th>\n",
       "      <th>discharge_disposition_id</th>\n",
       "      <th>admission_source_id</th>\n",
       "      <th>time_in_hospital</th>\n",
       "      <th>num_lab_procedures</th>\n",
       "      <th>num_procedures</th>\n",
       "      <th>...</th>\n",
       "      <th>miglitol</th>\n",
       "      <th>troglitazone</th>\n",
       "      <th>tolazamide</th>\n",
       "      <th>insulin</th>\n",
       "      <th>glyburide-metformin</th>\n",
       "      <th>glipizide-metformin</th>\n",
       "      <th>metformin-pioglitazone</th>\n",
       "      <th>change</th>\n",
       "      <th>diabetesMed</th>\n",
       "      <th>readmitted</th>\n",
       "    </tr>\n",
       "  </thead>\n",
       "  <tbody>\n",
       "    <tr>\n",
       "      <th>0</th>\n",
       "      <td>8222157</td>\n",
       "      <td>Caucasian</td>\n",
       "      <td>Female</td>\n",
       "      <td>[0-10)</td>\n",
       "      <td>6</td>\n",
       "      <td>25</td>\n",
       "      <td>1</td>\n",
       "      <td>1</td>\n",
       "      <td>41</td>\n",
       "      <td>0</td>\n",
       "      <td>...</td>\n",
       "      <td>No</td>\n",
       "      <td>No</td>\n",
       "      <td>No</td>\n",
       "      <td>No</td>\n",
       "      <td>No</td>\n",
       "      <td>No</td>\n",
       "      <td>No</td>\n",
       "      <td>No</td>\n",
       "      <td>No</td>\n",
       "      <td>NO</td>\n",
       "    </tr>\n",
       "    <tr>\n",
       "      <th>1</th>\n",
       "      <td>55629189</td>\n",
       "      <td>Caucasian</td>\n",
       "      <td>Female</td>\n",
       "      <td>[10-20)</td>\n",
       "      <td>1</td>\n",
       "      <td>1</td>\n",
       "      <td>7</td>\n",
       "      <td>3</td>\n",
       "      <td>59</td>\n",
       "      <td>0</td>\n",
       "      <td>...</td>\n",
       "      <td>No</td>\n",
       "      <td>No</td>\n",
       "      <td>No</td>\n",
       "      <td>Up</td>\n",
       "      <td>No</td>\n",
       "      <td>No</td>\n",
       "      <td>No</td>\n",
       "      <td>Ch</td>\n",
       "      <td>Yes</td>\n",
       "      <td>&gt;30</td>\n",
       "    </tr>\n",
       "    <tr>\n",
       "      <th>2</th>\n",
       "      <td>86047875</td>\n",
       "      <td>AfricanAmerican</td>\n",
       "      <td>Female</td>\n",
       "      <td>[20-30)</td>\n",
       "      <td>1</td>\n",
       "      <td>1</td>\n",
       "      <td>7</td>\n",
       "      <td>2</td>\n",
       "      <td>11</td>\n",
       "      <td>5</td>\n",
       "      <td>...</td>\n",
       "      <td>No</td>\n",
       "      <td>No</td>\n",
       "      <td>No</td>\n",
       "      <td>No</td>\n",
       "      <td>No</td>\n",
       "      <td>No</td>\n",
       "      <td>No</td>\n",
       "      <td>No</td>\n",
       "      <td>Yes</td>\n",
       "      <td>NO</td>\n",
       "    </tr>\n",
       "    <tr>\n",
       "      <th>3</th>\n",
       "      <td>82442376</td>\n",
       "      <td>Caucasian</td>\n",
       "      <td>Male</td>\n",
       "      <td>[30-40)</td>\n",
       "      <td>1</td>\n",
       "      <td>1</td>\n",
       "      <td>7</td>\n",
       "      <td>2</td>\n",
       "      <td>44</td>\n",
       "      <td>1</td>\n",
       "      <td>...</td>\n",
       "      <td>No</td>\n",
       "      <td>No</td>\n",
       "      <td>No</td>\n",
       "      <td>Up</td>\n",
       "      <td>No</td>\n",
       "      <td>No</td>\n",
       "      <td>No</td>\n",
       "      <td>Ch</td>\n",
       "      <td>Yes</td>\n",
       "      <td>NO</td>\n",
       "    </tr>\n",
       "    <tr>\n",
       "      <th>4</th>\n",
       "      <td>42519267</td>\n",
       "      <td>Caucasian</td>\n",
       "      <td>Male</td>\n",
       "      <td>[40-50)</td>\n",
       "      <td>1</td>\n",
       "      <td>1</td>\n",
       "      <td>7</td>\n",
       "      <td>1</td>\n",
       "      <td>51</td>\n",
       "      <td>0</td>\n",
       "      <td>...</td>\n",
       "      <td>No</td>\n",
       "      <td>No</td>\n",
       "      <td>No</td>\n",
       "      <td>Steady</td>\n",
       "      <td>No</td>\n",
       "      <td>No</td>\n",
       "      <td>No</td>\n",
       "      <td>Ch</td>\n",
       "      <td>Yes</td>\n",
       "      <td>NO</td>\n",
       "    </tr>\n",
       "    <tr>\n",
       "      <th>5</th>\n",
       "      <td>82637451</td>\n",
       "      <td>Caucasian</td>\n",
       "      <td>Male</td>\n",
       "      <td>[50-60)</td>\n",
       "      <td>2</td>\n",
       "      <td>1</td>\n",
       "      <td>2</td>\n",
       "      <td>3</td>\n",
       "      <td>31</td>\n",
       "      <td>6</td>\n",
       "      <td>...</td>\n",
       "      <td>No</td>\n",
       "      <td>No</td>\n",
       "      <td>No</td>\n",
       "      <td>Steady</td>\n",
       "      <td>No</td>\n",
       "      <td>No</td>\n",
       "      <td>No</td>\n",
       "      <td>No</td>\n",
       "      <td>Yes</td>\n",
       "      <td>&gt;30</td>\n",
       "    </tr>\n",
       "    <tr>\n",
       "      <th>6</th>\n",
       "      <td>84259809</td>\n",
       "      <td>Caucasian</td>\n",
       "      <td>Male</td>\n",
       "      <td>[60-70)</td>\n",
       "      <td>3</td>\n",
       "      <td>1</td>\n",
       "      <td>2</td>\n",
       "      <td>4</td>\n",
       "      <td>70</td>\n",
       "      <td>1</td>\n",
       "      <td>...</td>\n",
       "      <td>No</td>\n",
       "      <td>No</td>\n",
       "      <td>No</td>\n",
       "      <td>Steady</td>\n",
       "      <td>No</td>\n",
       "      <td>No</td>\n",
       "      <td>No</td>\n",
       "      <td>Ch</td>\n",
       "      <td>Yes</td>\n",
       "      <td>NO</td>\n",
       "    </tr>\n",
       "    <tr>\n",
       "      <th>7</th>\n",
       "      <td>114882984</td>\n",
       "      <td>Caucasian</td>\n",
       "      <td>Male</td>\n",
       "      <td>[70-80)</td>\n",
       "      <td>1</td>\n",
       "      <td>1</td>\n",
       "      <td>7</td>\n",
       "      <td>5</td>\n",
       "      <td>73</td>\n",
       "      <td>0</td>\n",
       "      <td>...</td>\n",
       "      <td>No</td>\n",
       "      <td>No</td>\n",
       "      <td>No</td>\n",
       "      <td>No</td>\n",
       "      <td>No</td>\n",
       "      <td>No</td>\n",
       "      <td>No</td>\n",
       "      <td>No</td>\n",
       "      <td>Yes</td>\n",
       "      <td>&gt;30</td>\n",
       "    </tr>\n",
       "    <tr>\n",
       "      <th>8</th>\n",
       "      <td>48330783</td>\n",
       "      <td>Caucasian</td>\n",
       "      <td>Female</td>\n",
       "      <td>[80-90)</td>\n",
       "      <td>2</td>\n",
       "      <td>1</td>\n",
       "      <td>4</td>\n",
       "      <td>13</td>\n",
       "      <td>68</td>\n",
       "      <td>2</td>\n",
       "      <td>...</td>\n",
       "      <td>No</td>\n",
       "      <td>No</td>\n",
       "      <td>No</td>\n",
       "      <td>Steady</td>\n",
       "      <td>No</td>\n",
       "      <td>No</td>\n",
       "      <td>No</td>\n",
       "      <td>Ch</td>\n",
       "      <td>Yes</td>\n",
       "      <td>NO</td>\n",
       "    </tr>\n",
       "    <tr>\n",
       "      <th>9</th>\n",
       "      <td>63555939</td>\n",
       "      <td>Caucasian</td>\n",
       "      <td>Female</td>\n",
       "      <td>[90-100)</td>\n",
       "      <td>3</td>\n",
       "      <td>3</td>\n",
       "      <td>4</td>\n",
       "      <td>12</td>\n",
       "      <td>33</td>\n",
       "      <td>3</td>\n",
       "      <td>...</td>\n",
       "      <td>No</td>\n",
       "      <td>No</td>\n",
       "      <td>No</td>\n",
       "      <td>Steady</td>\n",
       "      <td>No</td>\n",
       "      <td>No</td>\n",
       "      <td>No</td>\n",
       "      <td>Ch</td>\n",
       "      <td>Yes</td>\n",
       "      <td>NO</td>\n",
       "    </tr>\n",
       "  </tbody>\n",
       "</table>\n",
       "<p>10 rows × 42 columns</p>\n",
       "</div>"
      ],
      "text/plain": [
       "   patient_nbr             race  gender       age  admission_type_id  \\\n",
       "0      8222157        Caucasian  Female    [0-10)                  6   \n",
       "1     55629189        Caucasian  Female   [10-20)                  1   \n",
       "2     86047875  AfricanAmerican  Female   [20-30)                  1   \n",
       "3     82442376        Caucasian    Male   [30-40)                  1   \n",
       "4     42519267        Caucasian    Male   [40-50)                  1   \n",
       "5     82637451        Caucasian    Male   [50-60)                  2   \n",
       "6     84259809        Caucasian    Male   [60-70)                  3   \n",
       "7    114882984        Caucasian    Male   [70-80)                  1   \n",
       "8     48330783        Caucasian  Female   [80-90)                  2   \n",
       "9     63555939        Caucasian  Female  [90-100)                  3   \n",
       "\n",
       "   discharge_disposition_id  admission_source_id  time_in_hospital  \\\n",
       "0                        25                    1                 1   \n",
       "1                         1                    7                 3   \n",
       "2                         1                    7                 2   \n",
       "3                         1                    7                 2   \n",
       "4                         1                    7                 1   \n",
       "5                         1                    2                 3   \n",
       "6                         1                    2                 4   \n",
       "7                         1                    7                 5   \n",
       "8                         1                    4                13   \n",
       "9                         3                    4                12   \n",
       "\n",
       "   num_lab_procedures  num_procedures  ...  miglitol  troglitazone  \\\n",
       "0                  41               0  ...        No            No   \n",
       "1                  59               0  ...        No            No   \n",
       "2                  11               5  ...        No            No   \n",
       "3                  44               1  ...        No            No   \n",
       "4                  51               0  ...        No            No   \n",
       "5                  31               6  ...        No            No   \n",
       "6                  70               1  ...        No            No   \n",
       "7                  73               0  ...        No            No   \n",
       "8                  68               2  ...        No            No   \n",
       "9                  33               3  ...        No            No   \n",
       "\n",
       "   tolazamide  insulin glyburide-metformin glipizide-metformin  \\\n",
       "0          No       No                  No                  No   \n",
       "1          No       Up                  No                  No   \n",
       "2          No       No                  No                  No   \n",
       "3          No       Up                  No                  No   \n",
       "4          No   Steady                  No                  No   \n",
       "5          No   Steady                  No                  No   \n",
       "6          No   Steady                  No                  No   \n",
       "7          No       No                  No                  No   \n",
       "8          No   Steady                  No                  No   \n",
       "9          No   Steady                  No                  No   \n",
       "\n",
       "  metformin-pioglitazone  change diabetesMed readmitted  \n",
       "0                     No      No          No         NO  \n",
       "1                     No      Ch         Yes        >30  \n",
       "2                     No      No         Yes         NO  \n",
       "3                     No      Ch         Yes         NO  \n",
       "4                     No      Ch         Yes         NO  \n",
       "5                     No      No         Yes        >30  \n",
       "6                     No      Ch         Yes         NO  \n",
       "7                     No      No         Yes        >30  \n",
       "8                     No      Ch         Yes         NO  \n",
       "9                     No      Ch         Yes         NO  \n",
       "\n",
       "[10 rows x 42 columns]"
      ]
     },
     "execution_count": 13,
     "metadata": {},
     "output_type": "execute_result"
    }
   ],
   "source": [
    "diabetes.head(10)"
   ]
  },
  {
   "cell_type": "code",
   "execution_count": 12,
   "metadata": {},
   "outputs": [
    {
     "name": "stdout",
     "output_type": "stream",
     "text": [
      "<class 'pandas.core.frame.DataFrame'>\n",
      "Int64Index: 67874 entries, 0 to 67873\n",
      "Data columns (total 42 columns):\n",
      "patient_nbr                 67874 non-null int64\n",
      "race                        67874 non-null object\n",
      "gender                      67874 non-null object\n",
      "age                         67874 non-null object\n",
      "admission_type_id           67874 non-null int64\n",
      "discharge_disposition_id    67874 non-null int64\n",
      "admission_source_id         67874 non-null int64\n",
      "time_in_hospital            67874 non-null int64\n",
      "num_lab_procedures          67874 non-null int64\n",
      "num_procedures              67874 non-null int64\n",
      "num_medications             67874 non-null int64\n",
      "number_outpatient           67874 non-null int64\n",
      "number_emergency            67874 non-null int64\n",
      "number_inpatient            67874 non-null int64\n",
      "diag_1                      67874 non-null object\n",
      "diag_2                      67686 non-null object\n",
      "diag_3                      66843 non-null object\n",
      "number_diagnoses            67874 non-null int64\n",
      "max_glu_serum               67874 non-null object\n",
      "A1Cresult                   67874 non-null object\n",
      "metformin                   67874 non-null object\n",
      "repaglinide                 67874 non-null object\n",
      "nateglinide                 67874 non-null object\n",
      "chlorpropamide              67874 non-null object\n",
      "glimepiride                 67874 non-null object\n",
      "acetohexamide               67874 non-null object\n",
      "glipizide                   67874 non-null object\n",
      "glyburide                   67874 non-null object\n",
      "tolbutamide                 67874 non-null object\n",
      "pioglitazone                67874 non-null object\n",
      "rosiglitazone               67874 non-null object\n",
      "acarbose                    67874 non-null object\n",
      "miglitol                    67874 non-null object\n",
      "troglitazone                67874 non-null object\n",
      "tolazamide                  67874 non-null object\n",
      "insulin                     67874 non-null object\n",
      "glyburide-metformin         67874 non-null object\n",
      "glipizide-metformin         67874 non-null object\n",
      "metformin-pioglitazone      67874 non-null object\n",
      "change                      67874 non-null object\n",
      "diabetesMed                 67874 non-null object\n",
      "readmitted                  67874 non-null object\n",
      "dtypes: int64(12), object(30)\n",
      "memory usage: 22.3+ MB\n"
     ]
    }
   ],
   "source": [
    "diabetes.info()"
   ]
  },
  {
   "cell_type": "markdown",
   "metadata": {},
   "source": [
    "The target variable is the likelihood of readmission, or readmitted column."
   ]
  },
  {
   "cell_type": "markdown",
   "metadata": {},
   "source": [
    "## readmitted patients overall"
   ]
  },
  {
   "cell_type": "code",
   "execution_count": 147,
   "metadata": {},
   "outputs": [
    {
     "data": {
      "image/png": "[encoded data removed]",
      "text/plain": [
       "<Figure size 360x360 with 1 Axes>"
      ]
     },
     "metadata": {
      "needs_background": "light"
     },
     "output_type": "display_data"
    }
   ],
   "source": [
    "sns.catplot(x='readmitted', kind='count', palette='ch:.25', data=diabetes)\n",
    "plt.title('Readmit Rates')\n",
    "plt.show()"
   ]
  },
  {
   "cell_type": "markdown",
   "metadata": {},
   "source": [
    "The majority of patients are not frequent visitors while the second majority are those who return after 30 days."
   ]
  },
  {
   "cell_type": "markdown",
   "metadata": {},
   "source": [
    "## patient race, gender, and age"
   ]
  },
  {
   "cell_type": "code",
   "execution_count": 65,
   "metadata": {},
   "outputs": [],
   "source": [
    "# crosstab function\n",
    "\n",
    "def chart_display(x, y):\n",
    "    return pd.crosstab(x, y, margins=True, margins_name='Total')"
   ]
  },
  {
   "cell_type": "code",
   "execution_count": 213,
   "metadata": {},
   "outputs": [
    {
     "data": {
      "image/png": "[encoded data removed]",
      "text/plain": [
       "<Figure size 720x360 with 1 Axes>"
      ]
     },
     "metadata": {
      "needs_background": "light"
     },
     "output_type": "display_data"
    }
   ],
   "source": [
    "sns.catplot(x='race', kind='count', palette='husl', data=diabetes, aspect=2)\n",
    "plt.title('Patient Demographics')\n",
    "plt.show()"
   ]
  },
  {
   "cell_type": "code",
   "execution_count": 214,
   "metadata": {},
   "outputs": [
    {
     "data": {
      "image/png": "[encoded data removed]",
      "text/plain": [
       "<Figure size 1008x432 with 1 Axes>"
      ]
     },
     "metadata": {
      "needs_background": "light"
     },
     "output_type": "display_data"
    }
   ],
   "source": [
    "# race and gender\n",
    "plt.figure(figsize=(14, 6))\n",
    "sns.countplot(x='race', hue='gender', data=diabetes)\n",
    "plt.title('Race and Gender')\n",
    "plt.show()"
   ]
  },
  {
   "cell_type": "code",
   "execution_count": 215,
   "metadata": {},
   "outputs": [
    {
     "data": {
      "text/html": [
       "<div>\n",
       "<style scoped>\n",
       "    .dataframe tbody tr th:only-of-type {\n",
       "        vertical-align: middle;\n",
       "    }\n",
       "\n",
       "    .dataframe tbody tr th {\n",
       "        vertical-align: top;\n",
       "    }\n",
       "\n",
       "    .dataframe thead tr th {\n",
       "        text-align: left;\n",
       "    }\n",
       "\n",
       "    .dataframe thead tr:last-of-type th {\n",
       "        text-align: right;\n",
       "    }\n",
       "</style>\n",
       "<table border=\"1\" class=\"dataframe\">\n",
       "  <thead>\n",
       "    <tr>\n",
       "      <th>readmitted</th>\n",
       "      <th colspan=\"2\" halign=\"left\">&lt;30</th>\n",
       "      <th colspan=\"2\" halign=\"left\">&gt;30</th>\n",
       "      <th colspan=\"2\" halign=\"left\">NO</th>\n",
       "      <th>Total</th>\n",
       "    </tr>\n",
       "    <tr>\n",
       "      <th>gender</th>\n",
       "      <th>Female</th>\n",
       "      <th>Male</th>\n",
       "      <th>Female</th>\n",
       "      <th>Male</th>\n",
       "      <th>Female</th>\n",
       "      <th>Male</th>\n",
       "      <th></th>\n",
       "    </tr>\n",
       "    <tr>\n",
       "      <th>race</th>\n",
       "      <th></th>\n",
       "      <th></th>\n",
       "      <th></th>\n",
       "      <th></th>\n",
       "      <th></th>\n",
       "      <th></th>\n",
       "      <th></th>\n",
       "    </tr>\n",
       "  </thead>\n",
       "  <tbody>\n",
       "    <tr>\n",
       "      <th>AfricanAmerican</th>\n",
       "      <td>676</td>\n",
       "      <td>416</td>\n",
       "      <td>2366</td>\n",
       "      <td>1498</td>\n",
       "      <td>4620</td>\n",
       "      <td>3018</td>\n",
       "      <td>12594</td>\n",
       "    </tr>\n",
       "    <tr>\n",
       "      <th>Asian</th>\n",
       "      <td>15</td>\n",
       "      <td>26</td>\n",
       "      <td>62</td>\n",
       "      <td>45</td>\n",
       "      <td>170</td>\n",
       "      <td>170</td>\n",
       "      <td>488</td>\n",
       "    </tr>\n",
       "    <tr>\n",
       "      <th>Caucasian</th>\n",
       "      <td>2494</td>\n",
       "      <td>2296</td>\n",
       "      <td>9026</td>\n",
       "      <td>8033</td>\n",
       "      <td>15352</td>\n",
       "      <td>14947</td>\n",
       "      <td>52148</td>\n",
       "    </tr>\n",
       "    <tr>\n",
       "      <th>Hispanic</th>\n",
       "      <td>59</td>\n",
       "      <td>60</td>\n",
       "      <td>227</td>\n",
       "      <td>185</td>\n",
       "      <td>518</td>\n",
       "      <td>446</td>\n",
       "      <td>1495</td>\n",
       "    </tr>\n",
       "    <tr>\n",
       "      <th>Other</th>\n",
       "      <td>39</td>\n",
       "      <td>40</td>\n",
       "      <td>165</td>\n",
       "      <td>146</td>\n",
       "      <td>375</td>\n",
       "      <td>384</td>\n",
       "      <td>1149</td>\n",
       "    </tr>\n",
       "    <tr>\n",
       "      <th>Total</th>\n",
       "      <td>3283</td>\n",
       "      <td>2838</td>\n",
       "      <td>11846</td>\n",
       "      <td>9907</td>\n",
       "      <td>21035</td>\n",
       "      <td>18965</td>\n",
       "      <td>67874</td>\n",
       "    </tr>\n",
       "  </tbody>\n",
       "</table>\n",
       "</div>"
      ],
      "text/plain": [
       "readmitted         <30          >30           NO         Total\n",
       "gender          Female  Male Female  Male Female   Male       \n",
       "race                                                          \n",
       "AfricanAmerican    676   416   2366  1498   4620   3018  12594\n",
       "Asian               15    26     62    45    170    170    488\n",
       "Caucasian         2494  2296   9026  8033  15352  14947  52148\n",
       "Hispanic            59    60    227   185    518    446   1495\n",
       "Other               39    40    165   146    375    384   1149\n",
       "Total             3283  2838  11846  9907  21035  18965  67874"
      ]
     },
     "execution_count": 215,
     "metadata": {},
     "output_type": "execute_result"
    }
   ],
   "source": [
    "chart_display(diabetes.race, [diabetes.readmitted, diabetes.gender])"
   ]
  },
  {
   "cell_type": "code",
   "execution_count": 66,
   "metadata": {},
   "outputs": [
    {
     "data": {
      "text/html": [
       "<div>\n",
       "<style scoped>\n",
       "    .dataframe tbody tr th:only-of-type {\n",
       "        vertical-align: middle;\n",
       "    }\n",
       "\n",
       "    .dataframe tbody tr th {\n",
       "        vertical-align: top;\n",
       "    }\n",
       "\n",
       "    .dataframe thead th {\n",
       "        text-align: right;\n",
       "    }\n",
       "</style>\n",
       "<table border=\"1\" class=\"dataframe\">\n",
       "  <thead>\n",
       "    <tr style=\"text-align: right;\">\n",
       "      <th>race</th>\n",
       "      <th>AfricanAmerican</th>\n",
       "      <th>Asian</th>\n",
       "      <th>Caucasian</th>\n",
       "      <th>Hispanic</th>\n",
       "      <th>Other</th>\n",
       "      <th>Total</th>\n",
       "    </tr>\n",
       "    <tr>\n",
       "      <th>readmitted</th>\n",
       "      <th></th>\n",
       "      <th></th>\n",
       "      <th></th>\n",
       "      <th></th>\n",
       "      <th></th>\n",
       "      <th></th>\n",
       "    </tr>\n",
       "  </thead>\n",
       "  <tbody>\n",
       "    <tr>\n",
       "      <th>&lt;30</th>\n",
       "      <td>1092</td>\n",
       "      <td>41</td>\n",
       "      <td>4790</td>\n",
       "      <td>119</td>\n",
       "      <td>79</td>\n",
       "      <td>6121</td>\n",
       "    </tr>\n",
       "    <tr>\n",
       "      <th>&gt;30</th>\n",
       "      <td>3864</td>\n",
       "      <td>107</td>\n",
       "      <td>17059</td>\n",
       "      <td>412</td>\n",
       "      <td>311</td>\n",
       "      <td>21753</td>\n",
       "    </tr>\n",
       "    <tr>\n",
       "      <th>NO</th>\n",
       "      <td>7638</td>\n",
       "      <td>340</td>\n",
       "      <td>30299</td>\n",
       "      <td>964</td>\n",
       "      <td>759</td>\n",
       "      <td>40000</td>\n",
       "    </tr>\n",
       "    <tr>\n",
       "      <th>Total</th>\n",
       "      <td>12594</td>\n",
       "      <td>488</td>\n",
       "      <td>52148</td>\n",
       "      <td>1495</td>\n",
       "      <td>1149</td>\n",
       "      <td>67874</td>\n",
       "    </tr>\n",
       "  </tbody>\n",
       "</table>\n",
       "</div>"
      ],
      "text/plain": [
       "race        AfricanAmerican  Asian  Caucasian  Hispanic  Other  Total\n",
       "readmitted                                                           \n",
       "<30                    1092     41       4790       119     79   6121\n",
       ">30                    3864    107      17059       412    311  21753\n",
       "NO                     7638    340      30299       964    759  40000\n",
       "Total                 12594    488      52148      1495   1149  67874"
      ]
     },
     "execution_count": 66,
     "metadata": {},
     "output_type": "execute_result"
    }
   ],
   "source": [
    "chart_display(diabetes.readmitted, diabetes.race)"
   ]
  },
  {
   "cell_type": "code",
   "execution_count": 68,
   "metadata": {},
   "outputs": [
    {
     "data": {
      "text/html": [
       "<div>\n",
       "<style scoped>\n",
       "    .dataframe tbody tr th:only-of-type {\n",
       "        vertical-align: middle;\n",
       "    }\n",
       "\n",
       "    .dataframe tbody tr th {\n",
       "        vertical-align: top;\n",
       "    }\n",
       "\n",
       "    .dataframe thead th {\n",
       "        text-align: right;\n",
       "    }\n",
       "</style>\n",
       "<table border=\"1\" class=\"dataframe\">\n",
       "  <thead>\n",
       "    <tr style=\"text-align: right;\">\n",
       "      <th>gender</th>\n",
       "      <th>Female</th>\n",
       "      <th>Male</th>\n",
       "      <th>Total</th>\n",
       "    </tr>\n",
       "    <tr>\n",
       "      <th>readmitted</th>\n",
       "      <th></th>\n",
       "      <th></th>\n",
       "      <th></th>\n",
       "    </tr>\n",
       "  </thead>\n",
       "  <tbody>\n",
       "    <tr>\n",
       "      <th>&lt;30</th>\n",
       "      <td>3283</td>\n",
       "      <td>2838</td>\n",
       "      <td>6121</td>\n",
       "    </tr>\n",
       "    <tr>\n",
       "      <th>&gt;30</th>\n",
       "      <td>11846</td>\n",
       "      <td>9907</td>\n",
       "      <td>21753</td>\n",
       "    </tr>\n",
       "    <tr>\n",
       "      <th>NO</th>\n",
       "      <td>21035</td>\n",
       "      <td>18965</td>\n",
       "      <td>40000</td>\n",
       "    </tr>\n",
       "    <tr>\n",
       "      <th>Total</th>\n",
       "      <td>36164</td>\n",
       "      <td>31710</td>\n",
       "      <td>67874</td>\n",
       "    </tr>\n",
       "  </tbody>\n",
       "</table>\n",
       "</div>"
      ],
      "text/plain": [
       "gender      Female   Male  Total\n",
       "readmitted                      \n",
       "<30           3283   2838   6121\n",
       ">30          11846   9907  21753\n",
       "NO           21035  18965  40000\n",
       "Total        36164  31710  67874"
      ]
     },
     "execution_count": 68,
     "metadata": {},
     "output_type": "execute_result"
    }
   ],
   "source": [
    "chart_display(diabetes.readmitted, diabetes.gender)"
   ]
  },
  {
   "cell_type": "code",
   "execution_count": 71,
   "metadata": {},
   "outputs": [
    {
     "data": {
      "text/html": [
       "<div>\n",
       "<style scoped>\n",
       "    .dataframe tbody tr th:only-of-type {\n",
       "        vertical-align: middle;\n",
       "    }\n",
       "\n",
       "    .dataframe tbody tr th {\n",
       "        vertical-align: top;\n",
       "    }\n",
       "\n",
       "    .dataframe thead th {\n",
       "        text-align: right;\n",
       "    }\n",
       "</style>\n",
       "<table border=\"1\" class=\"dataframe\">\n",
       "  <thead>\n",
       "    <tr style=\"text-align: right;\">\n",
       "      <th>age</th>\n",
       "      <th>[0-10)</th>\n",
       "      <th>[10-20)</th>\n",
       "      <th>[20-30)</th>\n",
       "      <th>[30-40)</th>\n",
       "      <th>[40-50)</th>\n",
       "      <th>[50-60)</th>\n",
       "      <th>[60-70)</th>\n",
       "      <th>[70-80)</th>\n",
       "      <th>[80-90)</th>\n",
       "      <th>[90-100)</th>\n",
       "      <th>Total</th>\n",
       "    </tr>\n",
       "    <tr>\n",
       "      <th>readmitted</th>\n",
       "      <th></th>\n",
       "      <th></th>\n",
       "      <th></th>\n",
       "      <th></th>\n",
       "      <th></th>\n",
       "      <th></th>\n",
       "      <th></th>\n",
       "      <th></th>\n",
       "      <th></th>\n",
       "      <th></th>\n",
       "      <th></th>\n",
       "    </tr>\n",
       "  </thead>\n",
       "  <tbody>\n",
       "    <tr>\n",
       "      <th>&lt;30</th>\n",
       "      <td>3</td>\n",
       "      <td>26</td>\n",
       "      <td>81</td>\n",
       "      <td>186</td>\n",
       "      <td>489</td>\n",
       "      <td>859</td>\n",
       "      <td>1382</td>\n",
       "      <td>1776</td>\n",
       "      <td>1158</td>\n",
       "      <td>161</td>\n",
       "      <td>6121</td>\n",
       "    </tr>\n",
       "    <tr>\n",
       "      <th>&gt;30</th>\n",
       "      <td>24</td>\n",
       "      <td>139</td>\n",
       "      <td>271</td>\n",
       "      <td>676</td>\n",
       "      <td>1908</td>\n",
       "      <td>3662</td>\n",
       "      <td>4847</td>\n",
       "      <td>5996</td>\n",
       "      <td>3765</td>\n",
       "      <td>465</td>\n",
       "      <td>21753</td>\n",
       "    </tr>\n",
       "    <tr>\n",
       "      <th>NO</th>\n",
       "      <td>125</td>\n",
       "      <td>359</td>\n",
       "      <td>732</td>\n",
       "      <td>1751</td>\n",
       "      <td>4218</td>\n",
       "      <td>7474</td>\n",
       "      <td>8984</td>\n",
       "      <td>9449</td>\n",
       "      <td>5834</td>\n",
       "      <td>1074</td>\n",
       "      <td>40000</td>\n",
       "    </tr>\n",
       "    <tr>\n",
       "      <th>Total</th>\n",
       "      <td>152</td>\n",
       "      <td>524</td>\n",
       "      <td>1084</td>\n",
       "      <td>2613</td>\n",
       "      <td>6615</td>\n",
       "      <td>11995</td>\n",
       "      <td>15213</td>\n",
       "      <td>17221</td>\n",
       "      <td>10757</td>\n",
       "      <td>1700</td>\n",
       "      <td>67874</td>\n",
       "    </tr>\n",
       "  </tbody>\n",
       "</table>\n",
       "</div>"
      ],
      "text/plain": [
       "age         [0-10)  [10-20)  [20-30)  [30-40)  [40-50)  [50-60)  [60-70)  \\\n",
       "readmitted                                                                 \n",
       "<30              3       26       81      186      489      859     1382   \n",
       ">30             24      139      271      676     1908     3662     4847   \n",
       "NO             125      359      732     1751     4218     7474     8984   \n",
       "Total          152      524     1084     2613     6615    11995    15213   \n",
       "\n",
       "age         [70-80)  [80-90)  [90-100)  Total  \n",
       "readmitted                                     \n",
       "<30            1776     1158       161   6121  \n",
       ">30            5996     3765       465  21753  \n",
       "NO             9449     5834      1074  40000  \n",
       "Total         17221    10757      1700  67874  "
      ]
     },
     "execution_count": 71,
     "metadata": {},
     "output_type": "execute_result"
    }
   ],
   "source": [
    "chart_display(diabetes.readmitted, diabetes.age)"
   ]
  },
  {
   "cell_type": "code",
   "execution_count": 73,
   "metadata": {},
   "outputs": [
    {
     "data": {
      "text/html": [
       "<div>\n",
       "<style scoped>\n",
       "    .dataframe tbody tr th:only-of-type {\n",
       "        vertical-align: middle;\n",
       "    }\n",
       "\n",
       "    .dataframe tbody tr th {\n",
       "        vertical-align: top;\n",
       "    }\n",
       "\n",
       "    .dataframe thead th {\n",
       "        text-align: right;\n",
       "    }\n",
       "</style>\n",
       "<table border=\"1\" class=\"dataframe\">\n",
       "  <thead>\n",
       "    <tr style=\"text-align: right;\">\n",
       "      <th></th>\n",
       "      <th>age</th>\n",
       "      <th>[0-10)</th>\n",
       "      <th>[10-20)</th>\n",
       "      <th>[20-30)</th>\n",
       "      <th>[30-40)</th>\n",
       "      <th>[40-50)</th>\n",
       "      <th>[50-60)</th>\n",
       "      <th>[60-70)</th>\n",
       "      <th>[70-80)</th>\n",
       "      <th>[80-90)</th>\n",
       "      <th>[90-100)</th>\n",
       "      <th>Total</th>\n",
       "    </tr>\n",
       "    <tr>\n",
       "      <th>readmitted</th>\n",
       "      <th>gender</th>\n",
       "      <th></th>\n",
       "      <th></th>\n",
       "      <th></th>\n",
       "      <th></th>\n",
       "      <th></th>\n",
       "      <th></th>\n",
       "      <th></th>\n",
       "      <th></th>\n",
       "      <th></th>\n",
       "      <th></th>\n",
       "      <th></th>\n",
       "    </tr>\n",
       "  </thead>\n",
       "  <tbody>\n",
       "    <tr>\n",
       "      <th rowspan=\"2\" valign=\"top\">&lt;30</th>\n",
       "      <th>Female</th>\n",
       "      <td>1</td>\n",
       "      <td>16</td>\n",
       "      <td>54</td>\n",
       "      <td>98</td>\n",
       "      <td>247</td>\n",
       "      <td>432</td>\n",
       "      <td>669</td>\n",
       "      <td>939</td>\n",
       "      <td>715</td>\n",
       "      <td>112</td>\n",
       "      <td>3283</td>\n",
       "    </tr>\n",
       "    <tr>\n",
       "      <th>Male</th>\n",
       "      <td>2</td>\n",
       "      <td>10</td>\n",
       "      <td>27</td>\n",
       "      <td>88</td>\n",
       "      <td>242</td>\n",
       "      <td>427</td>\n",
       "      <td>713</td>\n",
       "      <td>837</td>\n",
       "      <td>443</td>\n",
       "      <td>49</td>\n",
       "      <td>2838</td>\n",
       "    </tr>\n",
       "    <tr>\n",
       "      <th rowspan=\"2\" valign=\"top\">&gt;30</th>\n",
       "      <th>Female</th>\n",
       "      <td>13</td>\n",
       "      <td>93</td>\n",
       "      <td>177</td>\n",
       "      <td>375</td>\n",
       "      <td>956</td>\n",
       "      <td>1879</td>\n",
       "      <td>2445</td>\n",
       "      <td>3238</td>\n",
       "      <td>2328</td>\n",
       "      <td>342</td>\n",
       "      <td>11846</td>\n",
       "    </tr>\n",
       "    <tr>\n",
       "      <th>Male</th>\n",
       "      <td>11</td>\n",
       "      <td>46</td>\n",
       "      <td>94</td>\n",
       "      <td>301</td>\n",
       "      <td>952</td>\n",
       "      <td>1783</td>\n",
       "      <td>2402</td>\n",
       "      <td>2758</td>\n",
       "      <td>1437</td>\n",
       "      <td>123</td>\n",
       "      <td>9907</td>\n",
       "    </tr>\n",
       "    <tr>\n",
       "      <th rowspan=\"2\" valign=\"top\">NO</th>\n",
       "      <th>Female</th>\n",
       "      <td>65</td>\n",
       "      <td>188</td>\n",
       "      <td>467</td>\n",
       "      <td>1043</td>\n",
       "      <td>2051</td>\n",
       "      <td>3529</td>\n",
       "      <td>4326</td>\n",
       "      <td>5062</td>\n",
       "      <td>3546</td>\n",
       "      <td>758</td>\n",
       "      <td>21035</td>\n",
       "    </tr>\n",
       "    <tr>\n",
       "      <th>Male</th>\n",
       "      <td>60</td>\n",
       "      <td>171</td>\n",
       "      <td>265</td>\n",
       "      <td>708</td>\n",
       "      <td>2167</td>\n",
       "      <td>3945</td>\n",
       "      <td>4658</td>\n",
       "      <td>4387</td>\n",
       "      <td>2288</td>\n",
       "      <td>316</td>\n",
       "      <td>18965</td>\n",
       "    </tr>\n",
       "    <tr>\n",
       "      <th>Total</th>\n",
       "      <th></th>\n",
       "      <td>152</td>\n",
       "      <td>524</td>\n",
       "      <td>1084</td>\n",
       "      <td>2613</td>\n",
       "      <td>6615</td>\n",
       "      <td>11995</td>\n",
       "      <td>15213</td>\n",
       "      <td>17221</td>\n",
       "      <td>10757</td>\n",
       "      <td>1700</td>\n",
       "      <td>67874</td>\n",
       "    </tr>\n",
       "  </tbody>\n",
       "</table>\n",
       "</div>"
      ],
      "text/plain": [
       "age                [0-10)  [10-20)  [20-30)  [30-40)  [40-50)  [50-60)  \\\n",
       "readmitted gender                                                        \n",
       "<30        Female       1       16       54       98      247      432   \n",
       "           Male         2       10       27       88      242      427   \n",
       ">30        Female      13       93      177      375      956     1879   \n",
       "           Male        11       46       94      301      952     1783   \n",
       "NO         Female      65      188      467     1043     2051     3529   \n",
       "           Male        60      171      265      708     2167     3945   \n",
       "Total                 152      524     1084     2613     6615    11995   \n",
       "\n",
       "age                [60-70)  [70-80)  [80-90)  [90-100)  Total  \n",
       "readmitted gender                                              \n",
       "<30        Female      669      939      715       112   3283  \n",
       "           Male        713      837      443        49   2838  \n",
       ">30        Female     2445     3238     2328       342  11846  \n",
       "           Male       2402     2758     1437       123   9907  \n",
       "NO         Female     4326     5062     3546       758  21035  \n",
       "           Male       4658     4387     2288       316  18965  \n",
       "Total                15213    17221    10757      1700  67874  "
      ]
     },
     "execution_count": 73,
     "metadata": {},
     "output_type": "execute_result"
    }
   ],
   "source": [
    "chart_display([diabetes.readmitted, diabetes.gender], [diabetes.age])"
   ]
  },
  {
   "cell_type": "code",
   "execution_count": 158,
   "metadata": {},
   "outputs": [
    {
     "data": {
      "image/png": "[encoded data removed]",
      "text/plain": [
       "<Figure size 720x360 with 1 Axes>"
      ]
     },
     "metadata": {
      "needs_background": "light"
     },
     "output_type": "display_data"
    }
   ],
   "source": [
    "sns.catplot(x='age', kind='count', palette='husl', data=diabetes, aspect=2)\n",
    "plt.title('Patient Age Distributions')\n",
    "plt.show()"
   ]
  },
  {
   "cell_type": "markdown",
   "metadata": {},
   "source": [
    "The majority of patients are older, in the 50-60, 60-70, and 70-80 range."
   ]
  },
  {
   "cell_type": "code",
   "execution_count": 205,
   "metadata": {},
   "outputs": [
    {
     "data": {
      "image/png": "[encoded data removed]",
      "text/plain": [
       "<Figure size 778.225x360 with 1 Axes>"
      ]
     },
     "metadata": {
      "needs_background": "light"
     },
     "output_type": "display_data"
    }
   ],
   "source": [
    "sns.catplot(x='age', hue='readmitted', kind='count', palette='pastel', aspect=2, data=diabetes)\n",
    "plt.title('Readmitted Based on Age Group')\n",
    "plt.show()"
   ]
  },
  {
   "cell_type": "code",
   "execution_count": 212,
   "metadata": {},
   "outputs": [
    {
     "data": {
      "image/png": "[encoded data removed]",
      "text/plain": [
       "<Figure size 778.225x360 with 1 Axes>"
      ]
     },
     "metadata": {
      "needs_background": "light"
     },
     "output_type": "display_data"
    }
   ],
   "source": [
    "sns.catplot(x='race', hue='readmitted', kind='count', palette='bright', aspect=2, data=diabetes)\n",
    "plt.title('Readmitted Based on Race')\n",
    "plt.show()"
   ]
  },
  {
   "cell_type": "code",
   "execution_count": 143,
   "metadata": {},
   "outputs": [
    {
     "data": {
      "image/png": "[encoded data removed]",
      "text/plain": [
       "<Figure size 864x288 with 3 Axes>"
      ]
     },
     "metadata": {
      "needs_background": "light"
     },
     "output_type": "display_data"
    }
   ],
   "source": [
    "sns.catplot('gender', col='readmitted', data=diabetes, kind='count', height=4, aspect=1)\n",
    "plt.show()"
   ]
  },
  {
   "cell_type": "markdown",
   "metadata": {},
   "source": [
    "## hospital stay, tests, and outcomes"
   ]
  },
  {
   "cell_type": "markdown",
   "metadata": {},
   "source": [
    "Here, we look at time_in_hospital, num_lab_procedures, num_procedures, num_medications, number_outpatient, number_emergency, and number_inpatient columns.       "
   ]
  },
  {
   "cell_type": "code",
   "execution_count": 144,
   "metadata": {},
   "outputs": [
    {
     "data": {
      "image/png": "[encoded data removed]",
      "text/plain": [
       "<Figure size 778.225x360 with 1 Axes>"
      ]
     },
     "metadata": {
      "needs_background": "light"
     },
     "output_type": "display_data"
    }
   ],
   "source": [
    "# time in hospital and readmitted\n",
    "sns.catplot(x='age', y='time_in_hospital', hue='readmitted', palette='muted', aspect=2, kind='bar', data=diabetes)\n",
    "plt.title('Time in Hospital Based on Age Group')\n",
    "plt.show()"
   ]
  },
  {
   "cell_type": "code",
   "execution_count": 142,
   "metadata": {},
   "outputs": [
    {
     "data": {
      "image/png": "[encoded data removed]",
      "text/plain": [
       "<Figure size 688.225x360 with 1 Axes>"
      ]
     },
     "metadata": {
      "needs_background": "light"
     },
     "output_type": "display_data"
    }
   ],
   "source": [
    "# time in hospital and readmitted\n",
    "sns.catplot(x='age', y='num_lab_procedures', hue='readmitted', palette='cubehelix', aspect=1.75, kind='bar', data=diabetes)\n",
    "plt.title('Number of Lab Procedures Based on Age Group')\n",
    "plt.show()"
   ]
  },
  {
   "cell_type": "code",
   "execution_count": 179,
   "metadata": {},
   "outputs": [
    {
     "data": {
      "image/png": "[encoded data removed]",
      "text/plain": [
       "<Figure size 1152x432 with 3 Axes>"
      ]
     },
     "metadata": {
      "needs_background": "light"
     },
     "output_type": "display_data"
    }
   ],
   "source": [
    "# number of medications\n",
    "sns.catplot(x='num_medications', y='gender', row='readmitted', kind='box', \n",
    "            orient='h', height=2, aspect=8, data=diabetes)\n",
    "plt.show()"
   ]
  },
  {
   "cell_type": "code",
   "execution_count": 181,
   "metadata": {},
   "outputs": [
    {
     "data": {
      "text/plain": [
       "0     58937\n",
       "1      4669\n",
       "2      1945\n",
       "3      1078\n",
       "4       563\n",
       "5       273\n",
       "6       121\n",
       "7        72\n",
       "8        56\n",
       "9        36\n",
       "10       28\n",
       "11       17\n",
       "12       13\n",
       "13       13\n",
       "15       10\n",
       "14       10\n",
       "16        7\n",
       "17        4\n",
       "20        3\n",
       "18        2\n",
       "22        2\n",
       "24        2\n",
       "27        2\n",
       "33        2\n",
       "36        1\n",
       "19        1\n",
       "21        1\n",
       "23        1\n",
       "25        1\n",
       "26        1\n",
       "29        1\n",
       "35        1\n",
       "42        1\n",
       "Name: number_outpatient, dtype: int64"
      ]
     },
     "execution_count": 181,
     "metadata": {},
     "output_type": "execute_result"
    }
   ],
   "source": [
    "# number of outpatient visits\n",
    "diabetes.number_outpatient.value_counts()"
   ]
  },
  {
   "cell_type": "markdown",
   "metadata": {},
   "source": [
    "## diagnoses and blood sugar levels"
   ]
  },
  {
   "cell_type": "markdown",
   "metadata": {},
   "source": [
    "Here, we are covering number_diagnoses, max_glu_serum, and HbA1C result."
   ]
  },
  {
   "cell_type": "code",
   "execution_count": 190,
   "metadata": {},
   "outputs": [
    {
     "data": {
      "image/png": "[encoded data removed]",
      "text/plain": [
       "<Figure size 720x360 with 1 Axes>"
      ]
     },
     "metadata": {
      "needs_background": "light"
     },
     "output_type": "display_data"
    }
   ],
   "source": [
    "sns.catplot(x='number_diagnoses', kind='count', palette='deep', data=diabetes, aspect=2)\n",
    "plt.title('Number of Diagnoses')\n",
    "plt.show()"
   ]
  },
  {
   "cell_type": "code",
   "execution_count": 202,
   "metadata": {},
   "outputs": [
    {
     "data": {
      "image/png": "[encoded data removed]",
      "text/plain": [
       "<Figure size 1008x432 with 1 Axes>"
      ]
     },
     "metadata": {
      "needs_background": "light"
     },
     "output_type": "display_data"
    }
   ],
   "source": [
    "# number of diagnoses and readmit rate\n",
    "plt.figure(figsize=(14, 6))\n",
    "sns.countplot(x='number_diagnoses', hue='readmitted', data=diabetes)\n",
    "plt.title('Readmits By Number of Diagnoses')\n",
    "plt.show()"
   ]
  },
  {
   "cell_type": "markdown",
   "metadata": {},
   "source": [
    "The majority of patients had nine diagnoses during their visit. That's quite a lot!"
   ]
  },
  {
   "cell_type": "code",
   "execution_count": 121,
   "metadata": {},
   "outputs": [
    {
     "data": {
      "text/html": [
       "<div>\n",
       "<style scoped>\n",
       "    .dataframe tbody tr th:only-of-type {\n",
       "        vertical-align: middle;\n",
       "    }\n",
       "\n",
       "    .dataframe tbody tr th {\n",
       "        vertical-align: top;\n",
       "    }\n",
       "\n",
       "    .dataframe thead th {\n",
       "        text-align: right;\n",
       "    }\n",
       "</style>\n",
       "<table border=\"1\" class=\"dataframe\">\n",
       "  <thead>\n",
       "    <tr style=\"text-align: right;\">\n",
       "      <th>number_diagnoses</th>\n",
       "      <th>1</th>\n",
       "      <th>2</th>\n",
       "      <th>3</th>\n",
       "      <th>4</th>\n",
       "      <th>5</th>\n",
       "      <th>6</th>\n",
       "      <th>7</th>\n",
       "      <th>8</th>\n",
       "      <th>9</th>\n",
       "      <th>10</th>\n",
       "      <th>11</th>\n",
       "      <th>12</th>\n",
       "      <th>13</th>\n",
       "      <th>14</th>\n",
       "      <th>15</th>\n",
       "      <th>16</th>\n",
       "      <th>Total</th>\n",
       "    </tr>\n",
       "    <tr>\n",
       "      <th>readmitted</th>\n",
       "      <th></th>\n",
       "      <th></th>\n",
       "      <th></th>\n",
       "      <th></th>\n",
       "      <th></th>\n",
       "      <th></th>\n",
       "      <th></th>\n",
       "      <th></th>\n",
       "      <th></th>\n",
       "      <th></th>\n",
       "      <th></th>\n",
       "      <th></th>\n",
       "      <th></th>\n",
       "      <th></th>\n",
       "      <th></th>\n",
       "      <th></th>\n",
       "      <th></th>\n",
       "    </tr>\n",
       "  </thead>\n",
       "  <tbody>\n",
       "    <tr>\n",
       "      <th>&lt;30</th>\n",
       "      <td>6</td>\n",
       "      <td>41</td>\n",
       "      <td>134</td>\n",
       "      <td>289</td>\n",
       "      <td>628</td>\n",
       "      <td>643</td>\n",
       "      <td>632</td>\n",
       "      <td>704</td>\n",
       "      <td>3036</td>\n",
       "      <td>1</td>\n",
       "      <td>1</td>\n",
       "      <td>1</td>\n",
       "      <td>1</td>\n",
       "      <td>1</td>\n",
       "      <td>0</td>\n",
       "      <td>3</td>\n",
       "      <td>6121</td>\n",
       "    </tr>\n",
       "    <tr>\n",
       "      <th>&gt;30</th>\n",
       "      <td>28</td>\n",
       "      <td>204</td>\n",
       "      <td>552</td>\n",
       "      <td>1121</td>\n",
       "      <td>2032</td>\n",
       "      <td>2289</td>\n",
       "      <td>2449</td>\n",
       "      <td>2375</td>\n",
       "      <td>10684</td>\n",
       "      <td>1</td>\n",
       "      <td>3</td>\n",
       "      <td>2</td>\n",
       "      <td>3</td>\n",
       "      <td>2</td>\n",
       "      <td>2</td>\n",
       "      <td>6</td>\n",
       "      <td>21753</td>\n",
       "    </tr>\n",
       "    <tr>\n",
       "      <th>NO</th>\n",
       "      <td>154</td>\n",
       "      <td>598</td>\n",
       "      <td>1591</td>\n",
       "      <td>2874</td>\n",
       "      <td>5557</td>\n",
       "      <td>4481</td>\n",
       "      <td>4224</td>\n",
       "      <td>4138</td>\n",
       "      <td>16343</td>\n",
       "      <td>6</td>\n",
       "      <td>2</td>\n",
       "      <td>3</td>\n",
       "      <td>6</td>\n",
       "      <td>2</td>\n",
       "      <td>3</td>\n",
       "      <td>18</td>\n",
       "      <td>40000</td>\n",
       "    </tr>\n",
       "    <tr>\n",
       "      <th>Total</th>\n",
       "      <td>188</td>\n",
       "      <td>843</td>\n",
       "      <td>2277</td>\n",
       "      <td>4284</td>\n",
       "      <td>8217</td>\n",
       "      <td>7413</td>\n",
       "      <td>7305</td>\n",
       "      <td>7217</td>\n",
       "      <td>30063</td>\n",
       "      <td>8</td>\n",
       "      <td>6</td>\n",
       "      <td>6</td>\n",
       "      <td>10</td>\n",
       "      <td>5</td>\n",
       "      <td>5</td>\n",
       "      <td>27</td>\n",
       "      <td>67874</td>\n",
       "    </tr>\n",
       "  </tbody>\n",
       "</table>\n",
       "</div>"
      ],
      "text/plain": [
       "number_diagnoses    1    2     3     4     5     6     7     8      9  10  11  \\\n",
       "readmitted                                                                      \n",
       "<30                 6   41   134   289   628   643   632   704   3036   1   1   \n",
       ">30                28  204   552  1121  2032  2289  2449  2375  10684   1   3   \n",
       "NO                154  598  1591  2874  5557  4481  4224  4138  16343   6   2   \n",
       "Total             188  843  2277  4284  8217  7413  7305  7217  30063   8   6   \n",
       "\n",
       "number_diagnoses  12  13  14  15  16  Total  \n",
       "readmitted                                   \n",
       "<30                1   1   1   0   3   6121  \n",
       ">30                2   3   2   2   6  21753  \n",
       "NO                 3   6   2   3  18  40000  \n",
       "Total              6  10   5   5  27  67874  "
      ]
     },
     "execution_count": 121,
     "metadata": {},
     "output_type": "execute_result"
    }
   ],
   "source": [
    "# number of diagnoses\n",
    "chart_display(diabetes.readmitted, diabetes.number_diagnoses)"
   ]
  },
  {
   "cell_type": "code",
   "execution_count": 188,
   "metadata": {},
   "outputs": [
    {
     "data": {
      "image/png": "[encoded data removed]",
      "text/plain": [
       "<Figure size 720x360 with 1 Axes>"
      ]
     },
     "metadata": {
      "needs_background": "light"
     },
     "output_type": "display_data"
    }
   ],
   "source": [
    "sns.catplot(x='max_glu_serum', kind='count', palette='husl', data=diabetes, aspect=2)\n",
    "plt.title('Glucose Serum Test Results')\n",
    "plt.show()"
   ]
  },
  {
   "cell_type": "code",
   "execution_count": 122,
   "metadata": {},
   "outputs": [
    {
     "data": {
      "text/html": [
       "<div>\n",
       "<style scoped>\n",
       "    .dataframe tbody tr th:only-of-type {\n",
       "        vertical-align: middle;\n",
       "    }\n",
       "\n",
       "    .dataframe tbody tr th {\n",
       "        vertical-align: top;\n",
       "    }\n",
       "\n",
       "    .dataframe thead th {\n",
       "        text-align: right;\n",
       "    }\n",
       "</style>\n",
       "<table border=\"1\" class=\"dataframe\">\n",
       "  <thead>\n",
       "    <tr style=\"text-align: right;\">\n",
       "      <th>max_glu_serum</th>\n",
       "      <th>&gt;200</th>\n",
       "      <th>&gt;300</th>\n",
       "      <th>None</th>\n",
       "      <th>Norm</th>\n",
       "      <th>Total</th>\n",
       "    </tr>\n",
       "    <tr>\n",
       "      <th>readmitted</th>\n",
       "      <th></th>\n",
       "      <th></th>\n",
       "      <th></th>\n",
       "      <th></th>\n",
       "      <th></th>\n",
       "    </tr>\n",
       "  </thead>\n",
       "  <tbody>\n",
       "    <tr>\n",
       "      <th>&lt;30</th>\n",
       "      <td>101</td>\n",
       "      <td>70</td>\n",
       "      <td>5787</td>\n",
       "      <td>163</td>\n",
       "      <td>6121</td>\n",
       "    </tr>\n",
       "    <tr>\n",
       "      <th>&gt;30</th>\n",
       "      <td>320</td>\n",
       "      <td>281</td>\n",
       "      <td>20606</td>\n",
       "      <td>546</td>\n",
       "      <td>21753</td>\n",
       "    </tr>\n",
       "    <tr>\n",
       "      <th>NO</th>\n",
       "      <td>498</td>\n",
       "      <td>352</td>\n",
       "      <td>38183</td>\n",
       "      <td>967</td>\n",
       "      <td>40000</td>\n",
       "    </tr>\n",
       "    <tr>\n",
       "      <th>Total</th>\n",
       "      <td>919</td>\n",
       "      <td>703</td>\n",
       "      <td>64576</td>\n",
       "      <td>1676</td>\n",
       "      <td>67874</td>\n",
       "    </tr>\n",
       "  </tbody>\n",
       "</table>\n",
       "</div>"
      ],
      "text/plain": [
       "max_glu_serum  >200  >300   None  Norm  Total\n",
       "readmitted                                   \n",
       "<30             101    70   5787   163   6121\n",
       ">30             320   281  20606   546  21753\n",
       "NO              498   352  38183   967  40000\n",
       "Total           919   703  64576  1676  67874"
      ]
     },
     "execution_count": 122,
     "metadata": {},
     "output_type": "execute_result"
    }
   ],
   "source": [
    "chart_display(diabetes.readmitted, diabetes.max_glu_serum)"
   ]
  },
  {
   "cell_type": "markdown",
   "metadata": {},
   "source": [
    "It looks like the majority of patients did not have a glucose serum level test."
   ]
  },
  {
   "cell_type": "code",
   "execution_count": 123,
   "metadata": {},
   "outputs": [
    {
     "data": {
      "text/html": [
       "<div>\n",
       "<style scoped>\n",
       "    .dataframe tbody tr th:only-of-type {\n",
       "        vertical-align: middle;\n",
       "    }\n",
       "\n",
       "    .dataframe tbody tr th {\n",
       "        vertical-align: top;\n",
       "    }\n",
       "\n",
       "    .dataframe thead th {\n",
       "        text-align: right;\n",
       "    }\n",
       "</style>\n",
       "<table border=\"1\" class=\"dataframe\">\n",
       "  <thead>\n",
       "    <tr style=\"text-align: right;\">\n",
       "      <th>A1Cresult</th>\n",
       "      <th>&gt;7</th>\n",
       "      <th>&gt;8</th>\n",
       "      <th>None</th>\n",
       "      <th>Norm</th>\n",
       "      <th>Total</th>\n",
       "    </tr>\n",
       "    <tr>\n",
       "      <th>readmitted</th>\n",
       "      <th></th>\n",
       "      <th></th>\n",
       "      <th></th>\n",
       "      <th></th>\n",
       "      <th></th>\n",
       "    </tr>\n",
       "  </thead>\n",
       "  <tbody>\n",
       "    <tr>\n",
       "      <th>&lt;30</th>\n",
       "      <td>237</td>\n",
       "      <td>500</td>\n",
       "      <td>5067</td>\n",
       "      <td>317</td>\n",
       "      <td>6121</td>\n",
       "    </tr>\n",
       "    <tr>\n",
       "      <th>&gt;30</th>\n",
       "      <td>846</td>\n",
       "      <td>1912</td>\n",
       "      <td>17973</td>\n",
       "      <td>1022</td>\n",
       "      <td>21753</td>\n",
       "    </tr>\n",
       "    <tr>\n",
       "      <th>NO</th>\n",
       "      <td>1702</td>\n",
       "      <td>3577</td>\n",
       "      <td>32403</td>\n",
       "      <td>2318</td>\n",
       "      <td>40000</td>\n",
       "    </tr>\n",
       "    <tr>\n",
       "      <th>Total</th>\n",
       "      <td>2785</td>\n",
       "      <td>5989</td>\n",
       "      <td>55443</td>\n",
       "      <td>3657</td>\n",
       "      <td>67874</td>\n",
       "    </tr>\n",
       "  </tbody>\n",
       "</table>\n",
       "</div>"
      ],
      "text/plain": [
       "A1Cresult     >7    >8   None  Norm  Total\n",
       "readmitted                                \n",
       "<30          237   500   5067   317   6121\n",
       ">30          846  1912  17973  1022  21753\n",
       "NO          1702  3577  32403  2318  40000\n",
       "Total       2785  5989  55443  3657  67874"
      ]
     },
     "execution_count": 123,
     "metadata": {},
     "output_type": "execute_result"
    }
   ],
   "source": [
    "chart_display(diabetes.readmitted, diabetes.A1Cresult)"
   ]
  },
  {
   "cell_type": "code",
   "execution_count": null,
   "metadata": {},
   "outputs": [],
   "source": []
  }
 ],
 "metadata": {
  "kernelspec": {
   "display_name": "Python 3",
   "language": "python",
   "name": "python3"
  },
  "language_info": {
   "codemirror_mode": {
    "name": "ipython",
    "version": 3
   },
   "file_extension": ".py",
   "mimetype": "text/x-python",
   "name": "python",
   "nbconvert_exporter": "python",
   "pygments_lexer": "ipython3",
   "version": "3.7.5"
  }
 },
 "nbformat": 4,
 "nbformat_minor": 2
}
